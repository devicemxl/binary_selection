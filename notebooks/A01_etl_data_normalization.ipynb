{
  "cells": [
    {
      "cell_type": "markdown",
      "metadata": {
        "id": "view-in-github",
        "colab_type": "text"
      },
      "source": [
        "<a href=\"https://colab.research.google.com/github/devicemxl/binary_selection/blob/null_hyp/notebooks/A01_etl_data_normalization.ipynb\" target=\"_parent\"><img src=\"https://colab.research.google.com/assets/colab-badge.svg\" alt=\"Open In Colab\"/></a>"
      ]
    },
    {
      "cell_type": "markdown",
      "metadata": {
        "id": "v6nmpg-LlHE4"
      },
      "source": [
        "<center>\n",
        "\n",
        "# Should This Loan be Approved or Denied?\n",
        "\n",
        "## *Book One: Variable Normalization*\n",
        "\n",
        "</center>"
      ]
    },
    {
      "cell_type": "markdown",
      "metadata": {
        "id": "MtiOAAnylHFJ"
      },
      "source": [
        "### Abstract\n",
        "\n",
        "In this case study, students assume the role of a loan officer at a bank and are asked to approve or deny a loan by assessing its risk of default using logistic regression.\n",
        "\n",
        "#### About Variable Normalization Notebook\n",
        "\n",
        "This notebook describes the process of normalizing the data for the case study. The following steps were taken:\n",
        "\n",
        "- Data quality issues were fixed, such as annotation errors and null values.\n",
        "- Dummy variables were encoded correctly for use in Python.\n",
        "- Regions and geographical data were enriched using the US Census 2000.\n"
      ]
    },
    {
      "cell_type": "markdown",
      "metadata": {
        "id": "QEjxLNJKlHFL"
      },
      "source": [
        "---\n",
        "\n",
        "## I. Enviroment"
      ]
    },
    {
      "cell_type": "markdown",
      "metadata": {
        "id": "ktipx7v-lHFL"
      },
      "source": [
        "### 1. Libraries\n",
        "Import the libraries and define their function in the notebook"
      ]
    },
    {
      "cell_type": "code",
      "source": [
        "#!pip install geopandas\n",
        "#!pip install fold_to_ascii"
      ],
      "metadata": {
        "id": "vHkBMc3al04t"
      },
      "execution_count": 1,
      "outputs": []
    },
    {
      "cell_type": "code",
      "execution_count": 2,
      "metadata": {
        "id": "Fg-FarbFlHFQ"
      },
      "outputs": [],
      "source": [
        "import pandas as pd\n",
        "import numpy as np\n",
        "import geopandas as geo\n",
        "#\n",
        "import matplotlib.pyplot as plt\n",
        "import seaborn as sns\n",
        "#\n",
        "from IPython.display import display\n",
        "from IPython.display import HTML\n",
        "import sys\n",
        "#\n",
        "from warnings import filterwarnings\n",
        "#\n",
        "import os\n",
        "from google.colab import drive\n",
        "import gc"
      ]
    },
    {
      "cell_type": "markdown",
      "metadata": {
        "id": "5rn88ObilHFS"
      },
      "source": [
        "### 2. config"
      ]
    },
    {
      "cell_type": "code",
      "source": [
        "drive.mount('/content/drive')"
      ],
      "metadata": {
        "colab": {
          "base_uri": "https://localhost:8080/"
        },
        "id": "ceqPBPcHlV1X",
        "outputId": "75559647-8720-4022-b8ae-23839fc66029"
      },
      "execution_count": 3,
      "outputs": [
        {
          "output_type": "stream",
          "name": "stdout",
          "text": [
            "Drive already mounted at /content/drive; to attempt to forcibly remount, call drive.mount(\"/content/drive\", force_remount=True).\n"
          ]
        }
      ]
    },
    {
      "cell_type": "code",
      "source": [
        "os.chdir(r\"/content/drive/MyDrive/DS/exercises/binary_selection/raw/\")"
      ],
      "metadata": {
        "id": "1XQhgDXslhta"
      },
      "execution_count": 4,
      "outputs": []
    },
    {
      "cell_type": "code",
      "source": [
        "!ls"
      ],
      "metadata": {
        "colab": {
          "base_uri": "https://localhost:8080/"
        },
        "id": "S11vk6_rlptG",
        "outputId": "6bfb0cab-64fb-4953-ee60-b79b943d8cc9"
      },
      "execution_count": 5,
      "outputs": [
        {
          "output_type": "stream",
          "name": "stdout",
          "text": [
            "dta_00_data_dict.dd  MungingOps.py\t     SBAnational.csv\n",
            "dta_00_dataset.dd    original_metadata.xlsx\n",
            "fe_2007_us_zcta300   __pycache__\n"
          ]
        }
      ]
    },
    {
      "cell_type": "code",
      "source": [
        "from MungingOps import GetDataDictionary"
      ],
      "metadata": {
        "id": "hsxf8vDileiY"
      },
      "execution_count": 6,
      "outputs": []
    },
    {
      "cell_type": "code",
      "execution_count": 7,
      "metadata": {
        "id": "uiG3hxn8lHFT"
      },
      "outputs": [],
      "source": [
        "filterwarnings('ignore')\n",
        "gc.enable()"
      ]
    },
    {
      "cell_type": "markdown",
      "metadata": {
        "id": "YWydCX5qlHFU"
      },
      "source": [
        "### 3. Styling"
      ]
    },
    {
      "cell_type": "code",
      "execution_count": 8,
      "metadata": {
        "id": "QDd-SqNtlHFW"
      },
      "outputs": [],
      "source": [
        "#\n",
        "pd.options.display.float_format = '{:.5f}'.format\n",
        "#--\n",
        "sns.set_style(\"whitegrid\")\n",
        "#palette = ['#44445599','#99222299']"
      ]
    },
    {
      "cell_type": "markdown",
      "metadata": {
        "id": "KYj83dkilHFZ"
      },
      "source": [
        "---\n",
        "\n",
        "## II. Data Loading"
      ]
    },
    {
      "cell_type": "code",
      "execution_count": 9,
      "metadata": {
        "id": "aeL3yhhSlHFZ"
      },
      "outputs": [],
      "source": [
        "# Dataset\n",
        "df = pd.read_pickle('dta_00_dataset.dd',compression='gzip')\n",
        "# Data Dictionary\n",
        "dd = pd.read_pickle('dta_00_data_dict.dd',compression='gzip')\n",
        "#"
      ]
    },
    {
      "cell_type": "code",
      "execution_count": 10,
      "metadata": {
        "id": "CdUt0RlBlHFb"
      },
      "outputs": [],
      "source": [
        "#mb of the dataset\n",
        "mb = sys.getsizeof(df)/1024/1024"
      ]
    },
    {
      "cell_type": "code",
      "execution_count": 11,
      "metadata": {
        "id": "_G7iaiU7lHFc",
        "outputId": "1f7f3461-32a2-410b-f959-2b78a352c394",
        "colab": {
          "base_uri": "https://localhost:8080/"
        }
      },
      "outputs": [
        {
          "output_type": "stream",
          "name": "stdout",
          "text": [
            "size of dataset: 979.64 mb\n"
          ]
        }
      ],
      "source": [
        "print('size of dataset:','{:.2f}'.format(mb)+' mb')"
      ]
    },
    {
      "cell_type": "markdown",
      "metadata": {
        "id": "_X22DTULlHFh"
      },
      "source": [
        "data overview"
      ]
    },
    {
      "cell_type": "code",
      "execution_count": 12,
      "metadata": {
        "id": "PXPsIxA0lHFj",
        "outputId": "c01e1fdd-f634-42a7-f424-7bffe302aae1",
        "colab": {
          "base_uri": "https://localhost:8080/",
          "height": 1000
        }
      },
      "outputs": [
        {
          "output_type": "stream",
          "name": "stdout",
          "text": [
            "(899164, 27)\n"
          ]
        },
        {
          "output_type": "display_data",
          "data": {
            "text/plain": [
              "<IPython.core.display.HTML object>"
            ],
            "text/html": [
              "<h3>Sample</h3>"
            ]
          },
          "metadata": {}
        },
        {
          "output_type": "display_data",
          "data": {
            "text/plain": [
              "           id                  borrower_name borrower_city borrower_state  \\\n",
              "0  1000014003                 ABC HOBBYCRAFT    EVANSVILLE             IN   \n",
              "1  1000024006    LANDMARK BAR & GRILLE (THE)     NEW PARIS             IN   \n",
              "2  1000034009          WHITLOCK DDS, TODD M.   BLOOMINGTON             IN   \n",
              "3  1000044001  BIG BUCKS PAWN & JEWELRY, LLC  BROKEN ARROW             OK   \n",
              "4  1000054004    ANASTASIA CONFECTIONS, INC.       ORLANDO             FL   \n",
              "\n",
              "   borrower_zip                      bank_name bank_state    naic  \\\n",
              "0         47711               FIFTH THIRD BANK         OH  451120   \n",
              "1         46526                1ST SOURCE BANK         IN  722410   \n",
              "2         47401        GRANT COUNTY STATE BANK         IN  621210   \n",
              "3         74012  1ST NATL BK & TR CO OF BROKEN         OK       0   \n",
              "4         32801        FLORIDA BUS. DEVEL CORP         FL       0   \n",
              "\n",
              "  approval_date approval_fiscal_year  ...  revolving_credit  low_doc_loan  \\\n",
              "0     28-Feb-97                 1997  ...                 N             Y   \n",
              "1     28-Feb-97                 1997  ...                 N             Y   \n",
              "2     28-Feb-97                 1997  ...                 N             N   \n",
              "3     28-Feb-97                 1997  ...                 N             Y   \n",
              "4     28-Feb-97                 1997  ...                 N             N   \n",
              "\n",
              "   default_date  disbursement_date  amount_disbursed  \\\n",
              "0           NaN          28-Feb-99       $60,000.00    \n",
              "1           NaN          31-May-97       $40,000.00    \n",
              "2           NaN          31-Dec-97      $287,000.00    \n",
              "3           NaN          30-Jun-97       $35,000.00    \n",
              "4           NaN          14-May-97      $229,000.00    \n",
              "\n",
              "   gross_amount_outstanding  loan_status charged_off_amount  \\\n",
              "0                    $0.00         P I F             $0.00    \n",
              "1                    $0.00         P I F             $0.00    \n",
              "2                    $0.00         P I F             $0.00    \n",
              "3                    $0.00         P I F             $0.00    \n",
              "4                    $0.00         P I F             $0.00    \n",
              "\n",
              "  gross_amount_approved guaranteed_sba  \n",
              "0           $60,000.00     $48,000.00   \n",
              "1           $40,000.00     $32,000.00   \n",
              "2          $287,000.00    $215,250.00   \n",
              "3           $35,000.00     $28,000.00   \n",
              "4          $229,000.00    $229,000.00   \n",
              "\n",
              "[5 rows x 27 columns]"
            ],
            "text/html": [
              "\n",
              "  <div id=\"df-ef0facdb-0bdf-4a4f-98f1-bed752fd2a6c\">\n",
              "    <div class=\"colab-df-container\">\n",
              "      <div>\n",
              "<style scoped>\n",
              "    .dataframe tbody tr th:only-of-type {\n",
              "        vertical-align: middle;\n",
              "    }\n",
              "\n",
              "    .dataframe tbody tr th {\n",
              "        vertical-align: top;\n",
              "    }\n",
              "\n",
              "    .dataframe thead th {\n",
              "        text-align: right;\n",
              "    }\n",
              "</style>\n",
              "<table border=\"1\" class=\"dataframe\">\n",
              "  <thead>\n",
              "    <tr style=\"text-align: right;\">\n",
              "      <th></th>\n",
              "      <th>id</th>\n",
              "      <th>borrower_name</th>\n",
              "      <th>borrower_city</th>\n",
              "      <th>borrower_state</th>\n",
              "      <th>borrower_zip</th>\n",
              "      <th>bank_name</th>\n",
              "      <th>bank_state</th>\n",
              "      <th>naic</th>\n",
              "      <th>approval_date</th>\n",
              "      <th>approval_fiscal_year</th>\n",
              "      <th>...</th>\n",
              "      <th>revolving_credit</th>\n",
              "      <th>low_doc_loan</th>\n",
              "      <th>default_date</th>\n",
              "      <th>disbursement_date</th>\n",
              "      <th>amount_disbursed</th>\n",
              "      <th>gross_amount_outstanding</th>\n",
              "      <th>loan_status</th>\n",
              "      <th>charged_off_amount</th>\n",
              "      <th>gross_amount_approved</th>\n",
              "      <th>guaranteed_sba</th>\n",
              "    </tr>\n",
              "  </thead>\n",
              "  <tbody>\n",
              "    <tr>\n",
              "      <th>0</th>\n",
              "      <td>1000014003</td>\n",
              "      <td>ABC HOBBYCRAFT</td>\n",
              "      <td>EVANSVILLE</td>\n",
              "      <td>IN</td>\n",
              "      <td>47711</td>\n",
              "      <td>FIFTH THIRD BANK</td>\n",
              "      <td>OH</td>\n",
              "      <td>451120</td>\n",
              "      <td>28-Feb-97</td>\n",
              "      <td>1997</td>\n",
              "      <td>...</td>\n",
              "      <td>N</td>\n",
              "      <td>Y</td>\n",
              "      <td>NaN</td>\n",
              "      <td>28-Feb-99</td>\n",
              "      <td>$60,000.00</td>\n",
              "      <td>$0.00</td>\n",
              "      <td>P I F</td>\n",
              "      <td>$0.00</td>\n",
              "      <td>$60,000.00</td>\n",
              "      <td>$48,000.00</td>\n",
              "    </tr>\n",
              "    <tr>\n",
              "      <th>1</th>\n",
              "      <td>1000024006</td>\n",
              "      <td>LANDMARK BAR &amp; GRILLE (THE)</td>\n",
              "      <td>NEW PARIS</td>\n",
              "      <td>IN</td>\n",
              "      <td>46526</td>\n",
              "      <td>1ST SOURCE BANK</td>\n",
              "      <td>IN</td>\n",
              "      <td>722410</td>\n",
              "      <td>28-Feb-97</td>\n",
              "      <td>1997</td>\n",
              "      <td>...</td>\n",
              "      <td>N</td>\n",
              "      <td>Y</td>\n",
              "      <td>NaN</td>\n",
              "      <td>31-May-97</td>\n",
              "      <td>$40,000.00</td>\n",
              "      <td>$0.00</td>\n",
              "      <td>P I F</td>\n",
              "      <td>$0.00</td>\n",
              "      <td>$40,000.00</td>\n",
              "      <td>$32,000.00</td>\n",
              "    </tr>\n",
              "    <tr>\n",
              "      <th>2</th>\n",
              "      <td>1000034009</td>\n",
              "      <td>WHITLOCK DDS, TODD M.</td>\n",
              "      <td>BLOOMINGTON</td>\n",
              "      <td>IN</td>\n",
              "      <td>47401</td>\n",
              "      <td>GRANT COUNTY STATE BANK</td>\n",
              "      <td>IN</td>\n",
              "      <td>621210</td>\n",
              "      <td>28-Feb-97</td>\n",
              "      <td>1997</td>\n",
              "      <td>...</td>\n",
              "      <td>N</td>\n",
              "      <td>N</td>\n",
              "      <td>NaN</td>\n",
              "      <td>31-Dec-97</td>\n",
              "      <td>$287,000.00</td>\n",
              "      <td>$0.00</td>\n",
              "      <td>P I F</td>\n",
              "      <td>$0.00</td>\n",
              "      <td>$287,000.00</td>\n",
              "      <td>$215,250.00</td>\n",
              "    </tr>\n",
              "    <tr>\n",
              "      <th>3</th>\n",
              "      <td>1000044001</td>\n",
              "      <td>BIG BUCKS PAWN &amp; JEWELRY, LLC</td>\n",
              "      <td>BROKEN ARROW</td>\n",
              "      <td>OK</td>\n",
              "      <td>74012</td>\n",
              "      <td>1ST NATL BK &amp; TR CO OF BROKEN</td>\n",
              "      <td>OK</td>\n",
              "      <td>0</td>\n",
              "      <td>28-Feb-97</td>\n",
              "      <td>1997</td>\n",
              "      <td>...</td>\n",
              "      <td>N</td>\n",
              "      <td>Y</td>\n",
              "      <td>NaN</td>\n",
              "      <td>30-Jun-97</td>\n",
              "      <td>$35,000.00</td>\n",
              "      <td>$0.00</td>\n",
              "      <td>P I F</td>\n",
              "      <td>$0.00</td>\n",
              "      <td>$35,000.00</td>\n",
              "      <td>$28,000.00</td>\n",
              "    </tr>\n",
              "    <tr>\n",
              "      <th>4</th>\n",
              "      <td>1000054004</td>\n",
              "      <td>ANASTASIA CONFECTIONS, INC.</td>\n",
              "      <td>ORLANDO</td>\n",
              "      <td>FL</td>\n",
              "      <td>32801</td>\n",
              "      <td>FLORIDA BUS. DEVEL CORP</td>\n",
              "      <td>FL</td>\n",
              "      <td>0</td>\n",
              "      <td>28-Feb-97</td>\n",
              "      <td>1997</td>\n",
              "      <td>...</td>\n",
              "      <td>N</td>\n",
              "      <td>N</td>\n",
              "      <td>NaN</td>\n",
              "      <td>14-May-97</td>\n",
              "      <td>$229,000.00</td>\n",
              "      <td>$0.00</td>\n",
              "      <td>P I F</td>\n",
              "      <td>$0.00</td>\n",
              "      <td>$229,000.00</td>\n",
              "      <td>$229,000.00</td>\n",
              "    </tr>\n",
              "  </tbody>\n",
              "</table>\n",
              "<p>5 rows × 27 columns</p>\n",
              "</div>\n",
              "      <button class=\"colab-df-convert\" onclick=\"convertToInteractive('df-ef0facdb-0bdf-4a4f-98f1-bed752fd2a6c')\"\n",
              "              title=\"Convert this dataframe to an interactive table.\"\n",
              "              style=\"display:none;\">\n",
              "        \n",
              "  <svg xmlns=\"http://www.w3.org/2000/svg\" height=\"24px\"viewBox=\"0 0 24 24\"\n",
              "       width=\"24px\">\n",
              "    <path d=\"M0 0h24v24H0V0z\" fill=\"none\"/>\n",
              "    <path d=\"M18.56 5.44l.94 2.06.94-2.06 2.06-.94-2.06-.94-.94-2.06-.94 2.06-2.06.94zm-11 1L8.5 8.5l.94-2.06 2.06-.94-2.06-.94L8.5 2.5l-.94 2.06-2.06.94zm10 10l.94 2.06.94-2.06 2.06-.94-2.06-.94-.94-2.06-.94 2.06-2.06.94z\"/><path d=\"M17.41 7.96l-1.37-1.37c-.4-.4-.92-.59-1.43-.59-.52 0-1.04.2-1.43.59L10.3 9.45l-7.72 7.72c-.78.78-.78 2.05 0 2.83L4 21.41c.39.39.9.59 1.41.59.51 0 1.02-.2 1.41-.59l7.78-7.78 2.81-2.81c.8-.78.8-2.07 0-2.86zM5.41 20L4 18.59l7.72-7.72 1.47 1.35L5.41 20z\"/>\n",
              "  </svg>\n",
              "      </button>\n",
              "      \n",
              "  <style>\n",
              "    .colab-df-container {\n",
              "      display:flex;\n",
              "      flex-wrap:wrap;\n",
              "      gap: 12px;\n",
              "    }\n",
              "\n",
              "    .colab-df-convert {\n",
              "      background-color: #E8F0FE;\n",
              "      border: none;\n",
              "      border-radius: 50%;\n",
              "      cursor: pointer;\n",
              "      display: none;\n",
              "      fill: #1967D2;\n",
              "      height: 32px;\n",
              "      padding: 0 0 0 0;\n",
              "      width: 32px;\n",
              "    }\n",
              "\n",
              "    .colab-df-convert:hover {\n",
              "      background-color: #E2EBFA;\n",
              "      box-shadow: 0px 1px 2px rgba(60, 64, 67, 0.3), 0px 1px 3px 1px rgba(60, 64, 67, 0.15);\n",
              "      fill: #174EA6;\n",
              "    }\n",
              "\n",
              "    [theme=dark] .colab-df-convert {\n",
              "      background-color: #3B4455;\n",
              "      fill: #D2E3FC;\n",
              "    }\n",
              "\n",
              "    [theme=dark] .colab-df-convert:hover {\n",
              "      background-color: #434B5C;\n",
              "      box-shadow: 0px 1px 3px 1px rgba(0, 0, 0, 0.15);\n",
              "      filter: drop-shadow(0px 1px 2px rgba(0, 0, 0, 0.3));\n",
              "      fill: #FFFFFF;\n",
              "    }\n",
              "  </style>\n",
              "\n",
              "      <script>\n",
              "        const buttonEl =\n",
              "          document.querySelector('#df-ef0facdb-0bdf-4a4f-98f1-bed752fd2a6c button.colab-df-convert');\n",
              "        buttonEl.style.display =\n",
              "          google.colab.kernel.accessAllowed ? 'block' : 'none';\n",
              "\n",
              "        async function convertToInteractive(key) {\n",
              "          const element = document.querySelector('#df-ef0facdb-0bdf-4a4f-98f1-bed752fd2a6c');\n",
              "          const dataTable =\n",
              "            await google.colab.kernel.invokeFunction('convertToInteractive',\n",
              "                                                     [key], {});\n",
              "          if (!dataTable) return;\n",
              "\n",
              "          const docLinkHtml = 'Like what you see? Visit the ' +\n",
              "            '<a target=\"_blank\" href=https://colab.research.google.com/notebooks/data_table.ipynb>data table notebook</a>'\n",
              "            + ' to learn more about interactive tables.';\n",
              "          element.innerHTML = '';\n",
              "          dataTable['output_type'] = 'display_data';\n",
              "          await google.colab.output.renderOutput(dataTable, element);\n",
              "          const docLink = document.createElement('div');\n",
              "          docLink.innerHTML = docLinkHtml;\n",
              "          element.appendChild(docLink);\n",
              "        }\n",
              "      </script>\n",
              "    </div>\n",
              "  </div>\n",
              "  "
            ]
          },
          "metadata": {}
        },
        {
          "output_type": "display_data",
          "data": {
            "text/plain": [
              "<IPython.core.display.HTML object>"
            ],
            "text/html": [
              "<h3>Metadata</h3>"
            ]
          },
          "metadata": {}
        },
        {
          "output_type": "display_data",
          "data": {
            "text/plain": [
              "                    Variable  Cluster  Disctint  \\\n",
              "Id                                                \n",
              "20         disbursement_date        4      8473   \n",
              "25     gross_amount_approved        4     22128   \n",
              "8              approval_date        4      9859   \n",
              "5                  bank_name        4      5803   \n",
              "2              borrower_city        4     32582   \n",
              "1              borrower_name        4    779584   \n",
              "4               borrower_zip        4     33611   \n",
              "24        charged_off_amount        4     83165   \n",
              "19              default_date        4      6449   \n",
              "21          amount_disbursed        4    118859   \n",
              "26            guaranteed_sba        4     38326   \n",
              "0                         id        4    899164   \n",
              "15                 franchise        3      2768   \n",
              "7                       naic        2      1312   \n",
              "22  gross_amount_outstanding        1        15   \n",
              "18              low_doc_loan        1         9   \n",
              "17          revolving_credit        1        19   \n",
              "9       approval_fiscal_year        1        75   \n",
              "14             retained_jobs        1       358   \n",
              "6                 bank_state        1        57   \n",
              "23               loan_status        1         3   \n",
              "3             borrower_state        1        52   \n",
              "12             business_type        1         4   \n",
              "13              created_jobs        1       246   \n",
              "10              spected_term        1       412   \n",
              "11                 employees        1       599   \n",
              "16                     urban        1         3   \n",
              "\n",
              "                                               Values           Type   Nulls  \\\n",
              "Id                                                                             \n",
              "20  [28-Feb-99, 31-May-97, 31-Dec-97, 30-Jun-97, 1...            str    2368   \n",
              "25  [$60,000.00 , $40,000.00 , $287,000.00 , $35,0...            str       0   \n",
              "8   [28-Feb-97, 2-Jun-80, 7-Feb-06, 11-Jun-80, 4-O...            str       0   \n",
              "5   [FIFTH THIRD BANK, 1ST SOURCE BANK, GRANT COUN...            str    1559   \n",
              "2   [EVANSVILLE, NEW PARIS, BLOOMINGTON, BROKEN AR...            str      30   \n",
              "1   [ABC HOBBYCRAFT, LANDMARK BAR & GRILLE (THE), ...            str      14   \n",
              "4   [47711, 46526, 47401, 74012, 32801, 6062, 7083...    numpy.int64       0   \n",
              "24  [$0.00 , $208,959.00 , $14,084.00 , $44,374.00...            str       0   \n",
              "19  [nan, 24-Jun-91, 18-Apr-02, 4-Oct-89, 26-Jun-1...          float  736465   \n",
              "21  [$60,000.00 , $40,000.00 , $287,000.00 , $35,0...            str       0   \n",
              "26  [$48,000.00 , $32,000.00 , $215,250.00 , $28,0...            str       0   \n",
              "0   [1000014003, 1000024006, 1000034009, 100004400...    numpy.int64       0   \n",
              "15  [1, 0, 15100, 19755, 10656, 22470, 16267, 2142...    numpy.int64       0   \n",
              "7   [451120, 722410, 621210, 0, 332721, 811118, 72...    numpy.int64       0   \n",
              "22  [$0.00 , $12,750.00 , $827,875.00 , $25,000.00...            str       0   \n",
              "18                      [Y, N, C, 1, nan, S, R, A, 0]            str    2582   \n",
              "17  [N, 0, Y, T, nan, `, ,, 1, C, 3, 2, R, 7, A, 5...            str    4528   \n",
              "9   [1997, 1980, 2006, 1998, 1999, 2000, 2001, 197...            int       0   \n",
              "14  [0, 7, 23, 4, 6, 1, 9, 20, 2, 5, 19, 8, 3, 10,...    numpy.int64       0   \n",
              "6   [OH, IN, OK, FL, DE, SD, AL, CT, GA, OR, MN, R...            str    1566   \n",
              "23                               [P I F, CHGOFF, nan]            str    1997   \n",
              "3   [IN, OK, FL, CT, NJ, NC, IL, RI, TX, VA, TN, A...            str      14   \n",
              "12                               [2.0, 1.0, 0.0, nan]  numpy.float64     136   \n",
              "13  [0, 7, 30, 5, 4, 1, 20, 10, 3, 8, 16, 15, 6, 1...    numpy.int64       0   \n",
              "10  [84, 60, 180, 240, 120, 45, 297, 162, 12, 300,...    numpy.int64       0   \n",
              "11  [4, 2, 7, 14, 19, 45, 1, 3, 24, 5, 16, 12, 6, ...    numpy.int64       0   \n",
              "16                                          [0, 1, 2]    numpy.int64       0   \n",
              "\n",
              "                                          Description  \n",
              "Id                                                     \n",
              "20              the date upon which the Loan proceeds  \n",
              "25  gross disbursements represent the amount of ch...  \n",
              "8                          Date SBA commitment issued  \n",
              "5                                           Bank name  \n",
              "2                                       Borrower city  \n",
              "1                                       Borrower Name  \n",
              "4                                   Borrower zip code  \n",
              "24  debt that a company believes it will no longer...  \n",
              "19                    loan default´s declaration date  \n",
              "21                                   Amount disbursed  \n",
              "26                            SBA´s guaranteed amount  \n",
              "0                            Identifier - Primary key  \n",
              "15                                     Franchise code  \n",
              "7              North American Industry classification  \n",
              "22  the total of all remaining payments due under ...  \n",
              "18                                LowDoc Loan Program  \n",
              "17                           Revolving line of credit  \n",
              "9                           Fiscal year of commitment  \n",
              "14                            Number of jobs retained  \n",
              "6                                          Bank state  \n",
              "23                                        Loan Status  \n",
              "3                                      Borrower state  \n",
              "12                                      Business Type  \n",
              "13                             Number of jobs created  \n",
              "10                            Loan termination months  \n",
              "11                       Number of business employees  \n",
              "16                                     Urban or Rural  "
            ],
            "text/html": [
              "\n",
              "  <div id=\"df-e645898f-2b3a-49e2-b6e8-252574663152\">\n",
              "    <div class=\"colab-df-container\">\n",
              "      <div>\n",
              "<style scoped>\n",
              "    .dataframe tbody tr th:only-of-type {\n",
              "        vertical-align: middle;\n",
              "    }\n",
              "\n",
              "    .dataframe tbody tr th {\n",
              "        vertical-align: top;\n",
              "    }\n",
              "\n",
              "    .dataframe thead th {\n",
              "        text-align: right;\n",
              "    }\n",
              "</style>\n",
              "<table border=\"1\" class=\"dataframe\">\n",
              "  <thead>\n",
              "    <tr style=\"text-align: right;\">\n",
              "      <th></th>\n",
              "      <th>Variable</th>\n",
              "      <th>Cluster</th>\n",
              "      <th>Disctint</th>\n",
              "      <th>Values</th>\n",
              "      <th>Type</th>\n",
              "      <th>Nulls</th>\n",
              "      <th>Description</th>\n",
              "    </tr>\n",
              "    <tr>\n",
              "      <th>Id</th>\n",
              "      <th></th>\n",
              "      <th></th>\n",
              "      <th></th>\n",
              "      <th></th>\n",
              "      <th></th>\n",
              "      <th></th>\n",
              "      <th></th>\n",
              "    </tr>\n",
              "  </thead>\n",
              "  <tbody>\n",
              "    <tr>\n",
              "      <th>20</th>\n",
              "      <td>disbursement_date</td>\n",
              "      <td>4</td>\n",
              "      <td>8473</td>\n",
              "      <td>[28-Feb-99, 31-May-97, 31-Dec-97, 30-Jun-97, 1...</td>\n",
              "      <td>str</td>\n",
              "      <td>2368</td>\n",
              "      <td>the date upon which the Loan proceeds</td>\n",
              "    </tr>\n",
              "    <tr>\n",
              "      <th>25</th>\n",
              "      <td>gross_amount_approved</td>\n",
              "      <td>4</td>\n",
              "      <td>22128</td>\n",
              "      <td>[$60,000.00 , $40,000.00 , $287,000.00 , $35,0...</td>\n",
              "      <td>str</td>\n",
              "      <td>0</td>\n",
              "      <td>gross disbursements represent the amount of ch...</td>\n",
              "    </tr>\n",
              "    <tr>\n",
              "      <th>8</th>\n",
              "      <td>approval_date</td>\n",
              "      <td>4</td>\n",
              "      <td>9859</td>\n",
              "      <td>[28-Feb-97, 2-Jun-80, 7-Feb-06, 11-Jun-80, 4-O...</td>\n",
              "      <td>str</td>\n",
              "      <td>0</td>\n",
              "      <td>Date SBA commitment issued</td>\n",
              "    </tr>\n",
              "    <tr>\n",
              "      <th>5</th>\n",
              "      <td>bank_name</td>\n",
              "      <td>4</td>\n",
              "      <td>5803</td>\n",
              "      <td>[FIFTH THIRD BANK, 1ST SOURCE BANK, GRANT COUN...</td>\n",
              "      <td>str</td>\n",
              "      <td>1559</td>\n",
              "      <td>Bank name</td>\n",
              "    </tr>\n",
              "    <tr>\n",
              "      <th>2</th>\n",
              "      <td>borrower_city</td>\n",
              "      <td>4</td>\n",
              "      <td>32582</td>\n",
              "      <td>[EVANSVILLE, NEW PARIS, BLOOMINGTON, BROKEN AR...</td>\n",
              "      <td>str</td>\n",
              "      <td>30</td>\n",
              "      <td>Borrower city</td>\n",
              "    </tr>\n",
              "    <tr>\n",
              "      <th>1</th>\n",
              "      <td>borrower_name</td>\n",
              "      <td>4</td>\n",
              "      <td>779584</td>\n",
              "      <td>[ABC HOBBYCRAFT, LANDMARK BAR &amp; GRILLE (THE), ...</td>\n",
              "      <td>str</td>\n",
              "      <td>14</td>\n",
              "      <td>Borrower Name</td>\n",
              "    </tr>\n",
              "    <tr>\n",
              "      <th>4</th>\n",
              "      <td>borrower_zip</td>\n",
              "      <td>4</td>\n",
              "      <td>33611</td>\n",
              "      <td>[47711, 46526, 47401, 74012, 32801, 6062, 7083...</td>\n",
              "      <td>numpy.int64</td>\n",
              "      <td>0</td>\n",
              "      <td>Borrower zip code</td>\n",
              "    </tr>\n",
              "    <tr>\n",
              "      <th>24</th>\n",
              "      <td>charged_off_amount</td>\n",
              "      <td>4</td>\n",
              "      <td>83165</td>\n",
              "      <td>[$0.00 , $208,959.00 , $14,084.00 , $44,374.00...</td>\n",
              "      <td>str</td>\n",
              "      <td>0</td>\n",
              "      <td>debt that a company believes it will no longer...</td>\n",
              "    </tr>\n",
              "    <tr>\n",
              "      <th>19</th>\n",
              "      <td>default_date</td>\n",
              "      <td>4</td>\n",
              "      <td>6449</td>\n",
              "      <td>[nan, 24-Jun-91, 18-Apr-02, 4-Oct-89, 26-Jun-1...</td>\n",
              "      <td>float</td>\n",
              "      <td>736465</td>\n",
              "      <td>loan default´s declaration date</td>\n",
              "    </tr>\n",
              "    <tr>\n",
              "      <th>21</th>\n",
              "      <td>amount_disbursed</td>\n",
              "      <td>4</td>\n",
              "      <td>118859</td>\n",
              "      <td>[$60,000.00 , $40,000.00 , $287,000.00 , $35,0...</td>\n",
              "      <td>str</td>\n",
              "      <td>0</td>\n",
              "      <td>Amount disbursed</td>\n",
              "    </tr>\n",
              "    <tr>\n",
              "      <th>26</th>\n",
              "      <td>guaranteed_sba</td>\n",
              "      <td>4</td>\n",
              "      <td>38326</td>\n",
              "      <td>[$48,000.00 , $32,000.00 , $215,250.00 , $28,0...</td>\n",
              "      <td>str</td>\n",
              "      <td>0</td>\n",
              "      <td>SBA´s guaranteed amount</td>\n",
              "    </tr>\n",
              "    <tr>\n",
              "      <th>0</th>\n",
              "      <td>id</td>\n",
              "      <td>4</td>\n",
              "      <td>899164</td>\n",
              "      <td>[1000014003, 1000024006, 1000034009, 100004400...</td>\n",
              "      <td>numpy.int64</td>\n",
              "      <td>0</td>\n",
              "      <td>Identifier - Primary key</td>\n",
              "    </tr>\n",
              "    <tr>\n",
              "      <th>15</th>\n",
              "      <td>franchise</td>\n",
              "      <td>3</td>\n",
              "      <td>2768</td>\n",
              "      <td>[1, 0, 15100, 19755, 10656, 22470, 16267, 2142...</td>\n",
              "      <td>numpy.int64</td>\n",
              "      <td>0</td>\n",
              "      <td>Franchise code</td>\n",
              "    </tr>\n",
              "    <tr>\n",
              "      <th>7</th>\n",
              "      <td>naic</td>\n",
              "      <td>2</td>\n",
              "      <td>1312</td>\n",
              "      <td>[451120, 722410, 621210, 0, 332721, 811118, 72...</td>\n",
              "      <td>numpy.int64</td>\n",
              "      <td>0</td>\n",
              "      <td>North American Industry classification</td>\n",
              "    </tr>\n",
              "    <tr>\n",
              "      <th>22</th>\n",
              "      <td>gross_amount_outstanding</td>\n",
              "      <td>1</td>\n",
              "      <td>15</td>\n",
              "      <td>[$0.00 , $12,750.00 , $827,875.00 , $25,000.00...</td>\n",
              "      <td>str</td>\n",
              "      <td>0</td>\n",
              "      <td>the total of all remaining payments due under ...</td>\n",
              "    </tr>\n",
              "    <tr>\n",
              "      <th>18</th>\n",
              "      <td>low_doc_loan</td>\n",
              "      <td>1</td>\n",
              "      <td>9</td>\n",
              "      <td>[Y, N, C, 1, nan, S, R, A, 0]</td>\n",
              "      <td>str</td>\n",
              "      <td>2582</td>\n",
              "      <td>LowDoc Loan Program</td>\n",
              "    </tr>\n",
              "    <tr>\n",
              "      <th>17</th>\n",
              "      <td>revolving_credit</td>\n",
              "      <td>1</td>\n",
              "      <td>19</td>\n",
              "      <td>[N, 0, Y, T, nan, `, ,, 1, C, 3, 2, R, 7, A, 5...</td>\n",
              "      <td>str</td>\n",
              "      <td>4528</td>\n",
              "      <td>Revolving line of credit</td>\n",
              "    </tr>\n",
              "    <tr>\n",
              "      <th>9</th>\n",
              "      <td>approval_fiscal_year</td>\n",
              "      <td>1</td>\n",
              "      <td>75</td>\n",
              "      <td>[1997, 1980, 2006, 1998, 1999, 2000, 2001, 197...</td>\n",
              "      <td>int</td>\n",
              "      <td>0</td>\n",
              "      <td>Fiscal year of commitment</td>\n",
              "    </tr>\n",
              "    <tr>\n",
              "      <th>14</th>\n",
              "      <td>retained_jobs</td>\n",
              "      <td>1</td>\n",
              "      <td>358</td>\n",
              "      <td>[0, 7, 23, 4, 6, 1, 9, 20, 2, 5, 19, 8, 3, 10,...</td>\n",
              "      <td>numpy.int64</td>\n",
              "      <td>0</td>\n",
              "      <td>Number of jobs retained</td>\n",
              "    </tr>\n",
              "    <tr>\n",
              "      <th>6</th>\n",
              "      <td>bank_state</td>\n",
              "      <td>1</td>\n",
              "      <td>57</td>\n",
              "      <td>[OH, IN, OK, FL, DE, SD, AL, CT, GA, OR, MN, R...</td>\n",
              "      <td>str</td>\n",
              "      <td>1566</td>\n",
              "      <td>Bank state</td>\n",
              "    </tr>\n",
              "    <tr>\n",
              "      <th>23</th>\n",
              "      <td>loan_status</td>\n",
              "      <td>1</td>\n",
              "      <td>3</td>\n",
              "      <td>[P I F, CHGOFF, nan]</td>\n",
              "      <td>str</td>\n",
              "      <td>1997</td>\n",
              "      <td>Loan Status</td>\n",
              "    </tr>\n",
              "    <tr>\n",
              "      <th>3</th>\n",
              "      <td>borrower_state</td>\n",
              "      <td>1</td>\n",
              "      <td>52</td>\n",
              "      <td>[IN, OK, FL, CT, NJ, NC, IL, RI, TX, VA, TN, A...</td>\n",
              "      <td>str</td>\n",
              "      <td>14</td>\n",
              "      <td>Borrower state</td>\n",
              "    </tr>\n",
              "    <tr>\n",
              "      <th>12</th>\n",
              "      <td>business_type</td>\n",
              "      <td>1</td>\n",
              "      <td>4</td>\n",
              "      <td>[2.0, 1.0, 0.0, nan]</td>\n",
              "      <td>numpy.float64</td>\n",
              "      <td>136</td>\n",
              "      <td>Business Type</td>\n",
              "    </tr>\n",
              "    <tr>\n",
              "      <th>13</th>\n",
              "      <td>created_jobs</td>\n",
              "      <td>1</td>\n",
              "      <td>246</td>\n",
              "      <td>[0, 7, 30, 5, 4, 1, 20, 10, 3, 8, 16, 15, 6, 1...</td>\n",
              "      <td>numpy.int64</td>\n",
              "      <td>0</td>\n",
              "      <td>Number of jobs created</td>\n",
              "    </tr>\n",
              "    <tr>\n",
              "      <th>10</th>\n",
              "      <td>spected_term</td>\n",
              "      <td>1</td>\n",
              "      <td>412</td>\n",
              "      <td>[84, 60, 180, 240, 120, 45, 297, 162, 12, 300,...</td>\n",
              "      <td>numpy.int64</td>\n",
              "      <td>0</td>\n",
              "      <td>Loan termination months</td>\n",
              "    </tr>\n",
              "    <tr>\n",
              "      <th>11</th>\n",
              "      <td>employees</td>\n",
              "      <td>1</td>\n",
              "      <td>599</td>\n",
              "      <td>[4, 2, 7, 14, 19, 45, 1, 3, 24, 5, 16, 12, 6, ...</td>\n",
              "      <td>numpy.int64</td>\n",
              "      <td>0</td>\n",
              "      <td>Number of business employees</td>\n",
              "    </tr>\n",
              "    <tr>\n",
              "      <th>16</th>\n",
              "      <td>urban</td>\n",
              "      <td>1</td>\n",
              "      <td>3</td>\n",
              "      <td>[0, 1, 2]</td>\n",
              "      <td>numpy.int64</td>\n",
              "      <td>0</td>\n",
              "      <td>Urban or Rural</td>\n",
              "    </tr>\n",
              "  </tbody>\n",
              "</table>\n",
              "</div>\n",
              "      <button class=\"colab-df-convert\" onclick=\"convertToInteractive('df-e645898f-2b3a-49e2-b6e8-252574663152')\"\n",
              "              title=\"Convert this dataframe to an interactive table.\"\n",
              "              style=\"display:none;\">\n",
              "        \n",
              "  <svg xmlns=\"http://www.w3.org/2000/svg\" height=\"24px\"viewBox=\"0 0 24 24\"\n",
              "       width=\"24px\">\n",
              "    <path d=\"M0 0h24v24H0V0z\" fill=\"none\"/>\n",
              "    <path d=\"M18.56 5.44l.94 2.06.94-2.06 2.06-.94-2.06-.94-.94-2.06-.94 2.06-2.06.94zm-11 1L8.5 8.5l.94-2.06 2.06-.94-2.06-.94L8.5 2.5l-.94 2.06-2.06.94zm10 10l.94 2.06.94-2.06 2.06-.94-2.06-.94-.94-2.06-.94 2.06-2.06.94z\"/><path d=\"M17.41 7.96l-1.37-1.37c-.4-.4-.92-.59-1.43-.59-.52 0-1.04.2-1.43.59L10.3 9.45l-7.72 7.72c-.78.78-.78 2.05 0 2.83L4 21.41c.39.39.9.59 1.41.59.51 0 1.02-.2 1.41-.59l7.78-7.78 2.81-2.81c.8-.78.8-2.07 0-2.86zM5.41 20L4 18.59l7.72-7.72 1.47 1.35L5.41 20z\"/>\n",
              "  </svg>\n",
              "      </button>\n",
              "      \n",
              "  <style>\n",
              "    .colab-df-container {\n",
              "      display:flex;\n",
              "      flex-wrap:wrap;\n",
              "      gap: 12px;\n",
              "    }\n",
              "\n",
              "    .colab-df-convert {\n",
              "      background-color: #E8F0FE;\n",
              "      border: none;\n",
              "      border-radius: 50%;\n",
              "      cursor: pointer;\n",
              "      display: none;\n",
              "      fill: #1967D2;\n",
              "      height: 32px;\n",
              "      padding: 0 0 0 0;\n",
              "      width: 32px;\n",
              "    }\n",
              "\n",
              "    .colab-df-convert:hover {\n",
              "      background-color: #E2EBFA;\n",
              "      box-shadow: 0px 1px 2px rgba(60, 64, 67, 0.3), 0px 1px 3px 1px rgba(60, 64, 67, 0.15);\n",
              "      fill: #174EA6;\n",
              "    }\n",
              "\n",
              "    [theme=dark] .colab-df-convert {\n",
              "      background-color: #3B4455;\n",
              "      fill: #D2E3FC;\n",
              "    }\n",
              "\n",
              "    [theme=dark] .colab-df-convert:hover {\n",
              "      background-color: #434B5C;\n",
              "      box-shadow: 0px 1px 3px 1px rgba(0, 0, 0, 0.15);\n",
              "      filter: drop-shadow(0px 1px 2px rgba(0, 0, 0, 0.3));\n",
              "      fill: #FFFFFF;\n",
              "    }\n",
              "  </style>\n",
              "\n",
              "      <script>\n",
              "        const buttonEl =\n",
              "          document.querySelector('#df-e645898f-2b3a-49e2-b6e8-252574663152 button.colab-df-convert');\n",
              "        buttonEl.style.display =\n",
              "          google.colab.kernel.accessAllowed ? 'block' : 'none';\n",
              "\n",
              "        async function convertToInteractive(key) {\n",
              "          const element = document.querySelector('#df-e645898f-2b3a-49e2-b6e8-252574663152');\n",
              "          const dataTable =\n",
              "            await google.colab.kernel.invokeFunction('convertToInteractive',\n",
              "                                                     [key], {});\n",
              "          if (!dataTable) return;\n",
              "\n",
              "          const docLinkHtml = 'Like what you see? Visit the ' +\n",
              "            '<a target=\"_blank\" href=https://colab.research.google.com/notebooks/data_table.ipynb>data table notebook</a>'\n",
              "            + ' to learn more about interactive tables.';\n",
              "          element.innerHTML = '';\n",
              "          dataTable['output_type'] = 'display_data';\n",
              "          await google.colab.output.renderOutput(dataTable, element);\n",
              "          const docLink = document.createElement('div');\n",
              "          docLink.innerHTML = docLinkHtml;\n",
              "          element.appendChild(docLink);\n",
              "        }\n",
              "      </script>\n",
              "    </div>\n",
              "  </div>\n",
              "  "
            ]
          },
          "metadata": {}
        },
        {
          "output_type": "display_data",
          "data": {
            "text/plain": [
              "<IPython.core.display.HTML object>"
            ],
            "text/html": [
              "<h3>Basic Stats</h3>"
            ]
          },
          "metadata": {}
        },
        {
          "output_type": "execute_result",
          "data": {
            "text/plain": [
              "                     count             mean              std              min  \\\n",
              "id            899164.00000 4772612310.59431 2538175037.45304 1000014003.00000   \n",
              "borrower_zip  899164.00000      53804.39124      31184.15915          0.00000   \n",
              "naic          899164.00000     398660.95015     263318.31276          0.00000   \n",
              "spected_term  899164.00000        110.77308         78.85731          0.00000   \n",
              "employees     899164.00000         11.41135         74.10820          0.00000   \n",
              "business_type 899028.00000          1.28040          0.45175          0.00000   \n",
              "created_jobs  899164.00000          8.43038        236.68817          0.00000   \n",
              "retained_jobs 899164.00000         10.79726        237.12060          0.00000   \n",
              "franchise     899164.00000       2753.72593      12758.01914          0.00000   \n",
              "urban         899164.00000          0.75775          0.64644          0.00000   \n",
              "\n",
              "                           25%              50%              75%  \\\n",
              "id            2589757508.50000 4361439006.00000 6904626504.75000   \n",
              "borrower_zip       27587.00000      55410.00000      83704.00000   \n",
              "naic              235210.00000     445310.00000     561730.00000   \n",
              "spected_term          60.00000         84.00000        120.00000   \n",
              "employees              2.00000          4.00000         10.00000   \n",
              "business_type          1.00000          1.00000          2.00000   \n",
              "created_jobs           0.00000          0.00000          1.00000   \n",
              "retained_jobs          0.00000          1.00000          4.00000   \n",
              "franchise              1.00000          1.00000          1.00000   \n",
              "urban                  0.00000          1.00000          1.00000   \n",
              "\n",
              "                           max  \n",
              "id            9996003010.00000  \n",
              "borrower_zip       99999.00000  \n",
              "naic              928120.00000  \n",
              "spected_term         569.00000  \n",
              "employees           9999.00000  \n",
              "business_type          2.00000  \n",
              "created_jobs        8800.00000  \n",
              "retained_jobs       9500.00000  \n",
              "franchise          99999.00000  \n",
              "urban                  2.00000  "
            ],
            "text/html": [
              "\n",
              "  <div id=\"df-083b1c9c-6132-43b7-a867-d69d91d48831\">\n",
              "    <div class=\"colab-df-container\">\n",
              "      <div>\n",
              "<style scoped>\n",
              "    .dataframe tbody tr th:only-of-type {\n",
              "        vertical-align: middle;\n",
              "    }\n",
              "\n",
              "    .dataframe tbody tr th {\n",
              "        vertical-align: top;\n",
              "    }\n",
              "\n",
              "    .dataframe thead th {\n",
              "        text-align: right;\n",
              "    }\n",
              "</style>\n",
              "<table border=\"1\" class=\"dataframe\">\n",
              "  <thead>\n",
              "    <tr style=\"text-align: right;\">\n",
              "      <th></th>\n",
              "      <th>count</th>\n",
              "      <th>mean</th>\n",
              "      <th>std</th>\n",
              "      <th>min</th>\n",
              "      <th>25%</th>\n",
              "      <th>50%</th>\n",
              "      <th>75%</th>\n",
              "      <th>max</th>\n",
              "    </tr>\n",
              "  </thead>\n",
              "  <tbody>\n",
              "    <tr>\n",
              "      <th>id</th>\n",
              "      <td>899164.00000</td>\n",
              "      <td>4772612310.59431</td>\n",
              "      <td>2538175037.45304</td>\n",
              "      <td>1000014003.00000</td>\n",
              "      <td>2589757508.50000</td>\n",
              "      <td>4361439006.00000</td>\n",
              "      <td>6904626504.75000</td>\n",
              "      <td>9996003010.00000</td>\n",
              "    </tr>\n",
              "    <tr>\n",
              "      <th>borrower_zip</th>\n",
              "      <td>899164.00000</td>\n",
              "      <td>53804.39124</td>\n",
              "      <td>31184.15915</td>\n",
              "      <td>0.00000</td>\n",
              "      <td>27587.00000</td>\n",
              "      <td>55410.00000</td>\n",
              "      <td>83704.00000</td>\n",
              "      <td>99999.00000</td>\n",
              "    </tr>\n",
              "    <tr>\n",
              "      <th>naic</th>\n",
              "      <td>899164.00000</td>\n",
              "      <td>398660.95015</td>\n",
              "      <td>263318.31276</td>\n",
              "      <td>0.00000</td>\n",
              "      <td>235210.00000</td>\n",
              "      <td>445310.00000</td>\n",
              "      <td>561730.00000</td>\n",
              "      <td>928120.00000</td>\n",
              "    </tr>\n",
              "    <tr>\n",
              "      <th>spected_term</th>\n",
              "      <td>899164.00000</td>\n",
              "      <td>110.77308</td>\n",
              "      <td>78.85731</td>\n",
              "      <td>0.00000</td>\n",
              "      <td>60.00000</td>\n",
              "      <td>84.00000</td>\n",
              "      <td>120.00000</td>\n",
              "      <td>569.00000</td>\n",
              "    </tr>\n",
              "    <tr>\n",
              "      <th>employees</th>\n",
              "      <td>899164.00000</td>\n",
              "      <td>11.41135</td>\n",
              "      <td>74.10820</td>\n",
              "      <td>0.00000</td>\n",
              "      <td>2.00000</td>\n",
              "      <td>4.00000</td>\n",
              "      <td>10.00000</td>\n",
              "      <td>9999.00000</td>\n",
              "    </tr>\n",
              "    <tr>\n",
              "      <th>business_type</th>\n",
              "      <td>899028.00000</td>\n",
              "      <td>1.28040</td>\n",
              "      <td>0.45175</td>\n",
              "      <td>0.00000</td>\n",
              "      <td>1.00000</td>\n",
              "      <td>1.00000</td>\n",
              "      <td>2.00000</td>\n",
              "      <td>2.00000</td>\n",
              "    </tr>\n",
              "    <tr>\n",
              "      <th>created_jobs</th>\n",
              "      <td>899164.00000</td>\n",
              "      <td>8.43038</td>\n",
              "      <td>236.68817</td>\n",
              "      <td>0.00000</td>\n",
              "      <td>0.00000</td>\n",
              "      <td>0.00000</td>\n",
              "      <td>1.00000</td>\n",
              "      <td>8800.00000</td>\n",
              "    </tr>\n",
              "    <tr>\n",
              "      <th>retained_jobs</th>\n",
              "      <td>899164.00000</td>\n",
              "      <td>10.79726</td>\n",
              "      <td>237.12060</td>\n",
              "      <td>0.00000</td>\n",
              "      <td>0.00000</td>\n",
              "      <td>1.00000</td>\n",
              "      <td>4.00000</td>\n",
              "      <td>9500.00000</td>\n",
              "    </tr>\n",
              "    <tr>\n",
              "      <th>franchise</th>\n",
              "      <td>899164.00000</td>\n",
              "      <td>2753.72593</td>\n",
              "      <td>12758.01914</td>\n",
              "      <td>0.00000</td>\n",
              "      <td>1.00000</td>\n",
              "      <td>1.00000</td>\n",
              "      <td>1.00000</td>\n",
              "      <td>99999.00000</td>\n",
              "    </tr>\n",
              "    <tr>\n",
              "      <th>urban</th>\n",
              "      <td>899164.00000</td>\n",
              "      <td>0.75775</td>\n",
              "      <td>0.64644</td>\n",
              "      <td>0.00000</td>\n",
              "      <td>0.00000</td>\n",
              "      <td>1.00000</td>\n",
              "      <td>1.00000</td>\n",
              "      <td>2.00000</td>\n",
              "    </tr>\n",
              "  </tbody>\n",
              "</table>\n",
              "</div>\n",
              "      <button class=\"colab-df-convert\" onclick=\"convertToInteractive('df-083b1c9c-6132-43b7-a867-d69d91d48831')\"\n",
              "              title=\"Convert this dataframe to an interactive table.\"\n",
              "              style=\"display:none;\">\n",
              "        \n",
              "  <svg xmlns=\"http://www.w3.org/2000/svg\" height=\"24px\"viewBox=\"0 0 24 24\"\n",
              "       width=\"24px\">\n",
              "    <path d=\"M0 0h24v24H0V0z\" fill=\"none\"/>\n",
              "    <path d=\"M18.56 5.44l.94 2.06.94-2.06 2.06-.94-2.06-.94-.94-2.06-.94 2.06-2.06.94zm-11 1L8.5 8.5l.94-2.06 2.06-.94-2.06-.94L8.5 2.5l-.94 2.06-2.06.94zm10 10l.94 2.06.94-2.06 2.06-.94-2.06-.94-.94-2.06-.94 2.06-2.06.94z\"/><path d=\"M17.41 7.96l-1.37-1.37c-.4-.4-.92-.59-1.43-.59-.52 0-1.04.2-1.43.59L10.3 9.45l-7.72 7.72c-.78.78-.78 2.05 0 2.83L4 21.41c.39.39.9.59 1.41.59.51 0 1.02-.2 1.41-.59l7.78-7.78 2.81-2.81c.8-.78.8-2.07 0-2.86zM5.41 20L4 18.59l7.72-7.72 1.47 1.35L5.41 20z\"/>\n",
              "  </svg>\n",
              "      </button>\n",
              "      \n",
              "  <style>\n",
              "    .colab-df-container {\n",
              "      display:flex;\n",
              "      flex-wrap:wrap;\n",
              "      gap: 12px;\n",
              "    }\n",
              "\n",
              "    .colab-df-convert {\n",
              "      background-color: #E8F0FE;\n",
              "      border: none;\n",
              "      border-radius: 50%;\n",
              "      cursor: pointer;\n",
              "      display: none;\n",
              "      fill: #1967D2;\n",
              "      height: 32px;\n",
              "      padding: 0 0 0 0;\n",
              "      width: 32px;\n",
              "    }\n",
              "\n",
              "    .colab-df-convert:hover {\n",
              "      background-color: #E2EBFA;\n",
              "      box-shadow: 0px 1px 2px rgba(60, 64, 67, 0.3), 0px 1px 3px 1px rgba(60, 64, 67, 0.15);\n",
              "      fill: #174EA6;\n",
              "    }\n",
              "\n",
              "    [theme=dark] .colab-df-convert {\n",
              "      background-color: #3B4455;\n",
              "      fill: #D2E3FC;\n",
              "    }\n",
              "\n",
              "    [theme=dark] .colab-df-convert:hover {\n",
              "      background-color: #434B5C;\n",
              "      box-shadow: 0px 1px 3px 1px rgba(0, 0, 0, 0.15);\n",
              "      filter: drop-shadow(0px 1px 2px rgba(0, 0, 0, 0.3));\n",
              "      fill: #FFFFFF;\n",
              "    }\n",
              "  </style>\n",
              "\n",
              "      <script>\n",
              "        const buttonEl =\n",
              "          document.querySelector('#df-083b1c9c-6132-43b7-a867-d69d91d48831 button.colab-df-convert');\n",
              "        buttonEl.style.display =\n",
              "          google.colab.kernel.accessAllowed ? 'block' : 'none';\n",
              "\n",
              "        async function convertToInteractive(key) {\n",
              "          const element = document.querySelector('#df-083b1c9c-6132-43b7-a867-d69d91d48831');\n",
              "          const dataTable =\n",
              "            await google.colab.kernel.invokeFunction('convertToInteractive',\n",
              "                                                     [key], {});\n",
              "          if (!dataTable) return;\n",
              "\n",
              "          const docLinkHtml = 'Like what you see? Visit the ' +\n",
              "            '<a target=\"_blank\" href=https://colab.research.google.com/notebooks/data_table.ipynb>data table notebook</a>'\n",
              "            + ' to learn more about interactive tables.';\n",
              "          element.innerHTML = '';\n",
              "          dataTable['output_type'] = 'display_data';\n",
              "          await google.colab.output.renderOutput(dataTable, element);\n",
              "          const docLink = document.createElement('div');\n",
              "          docLink.innerHTML = docLinkHtml;\n",
              "          element.appendChild(docLink);\n",
              "        }\n",
              "      </script>\n",
              "    </div>\n",
              "  </div>\n",
              "  "
            ]
          },
          "metadata": {},
          "execution_count": 12
        }
      ],
      "source": [
        "print(df.shape)\n",
        "\n",
        "display(HTML('<h3>Sample</h3>'))\n",
        "display(df.head())\n",
        "\n",
        "display(HTML('<h3>Metadata</h3>'))\n",
        "display(dd)\n",
        "\n",
        "display(HTML('<h3>Basic Stats</h3>'))\n",
        "df.describe().T"
      ]
    },
    {
      "cell_type": "markdown",
      "metadata": {
        "id": "IPlXJwA8lHFl"
      },
      "source": [
        "---\n",
        "\n",
        "## III. Data Quality\n",
        "\n",
        "Fixing data quality issues"
      ]
    },
    {
      "cell_type": "markdown",
      "metadata": {
        "id": "YbYVZbBulHFl"
      },
      "source": [
        "#### 1. Continuos Variables"
      ]
    },
    {
      "cell_type": "markdown",
      "metadata": {
        "id": "vnY0cAPKlHFm"
      },
      "source": [
        "The first step is to verify and correct the quality of those variables that appear as continuous."
      ]
    },
    {
      "cell_type": "code",
      "execution_count": 13,
      "metadata": {
        "id": "eZMztciMlHFn",
        "outputId": "64aa1aca-e581-40e3-dee1-d14792d26d26",
        "colab": {
          "base_uri": "https://localhost:8080/",
          "height": 457
        }
      },
      "outputs": [
        {
          "output_type": "execute_result",
          "data": {
            "text/plain": [
              "                 Variable  Cluster  Disctint  \\\n",
              "Id                                             \n",
              "20      disbursement_date        4      8473   \n",
              "25  gross_amount_approved        4     22128   \n",
              "8           approval_date        4      9859   \n",
              "5               bank_name        4      5803   \n",
              "2           borrower_city        4     32582   \n",
              "1           borrower_name        4    779584   \n",
              "4            borrower_zip        4     33611   \n",
              "24     charged_off_amount        4     83165   \n",
              "19           default_date        4      6449   \n",
              "21       amount_disbursed        4    118859   \n",
              "26         guaranteed_sba        4     38326   \n",
              "0                      id        4    899164   \n",
              "\n",
              "                                               Values         Type   Nulls  \\\n",
              "Id                                                                           \n",
              "20  [28-Feb-99, 31-May-97, 31-Dec-97, 30-Jun-97, 1...          str    2368   \n",
              "25  [$60,000.00 , $40,000.00 , $287,000.00 , $35,0...          str       0   \n",
              "8   [28-Feb-97, 2-Jun-80, 7-Feb-06, 11-Jun-80, 4-O...          str       0   \n",
              "5   [FIFTH THIRD BANK, 1ST SOURCE BANK, GRANT COUN...          str    1559   \n",
              "2   [EVANSVILLE, NEW PARIS, BLOOMINGTON, BROKEN AR...          str      30   \n",
              "1   [ABC HOBBYCRAFT, LANDMARK BAR & GRILLE (THE), ...          str      14   \n",
              "4   [47711, 46526, 47401, 74012, 32801, 6062, 7083...  numpy.int64       0   \n",
              "24  [$0.00 , $208,959.00 , $14,084.00 , $44,374.00...          str       0   \n",
              "19  [nan, 24-Jun-91, 18-Apr-02, 4-Oct-89, 26-Jun-1...        float  736465   \n",
              "21  [$60,000.00 , $40,000.00 , $287,000.00 , $35,0...          str       0   \n",
              "26  [$48,000.00 , $32,000.00 , $215,250.00 , $28,0...          str       0   \n",
              "0   [1000014003, 1000024006, 1000034009, 100004400...  numpy.int64       0   \n",
              "\n",
              "                                          Description  \n",
              "Id                                                     \n",
              "20              the date upon which the Loan proceeds  \n",
              "25  gross disbursements represent the amount of ch...  \n",
              "8                          Date SBA commitment issued  \n",
              "5                                           Bank name  \n",
              "2                                       Borrower city  \n",
              "1                                       Borrower Name  \n",
              "4                                   Borrower zip code  \n",
              "24  debt that a company believes it will no longer...  \n",
              "19                    loan default´s declaration date  \n",
              "21                                   Amount disbursed  \n",
              "26                            SBA´s guaranteed amount  \n",
              "0                            Identifier - Primary key  "
            ],
            "text/html": [
              "\n",
              "  <div id=\"df-4d0766f1-f8c6-4692-9e27-0d4c2b8ebda3\">\n",
              "    <div class=\"colab-df-container\">\n",
              "      <div>\n",
              "<style scoped>\n",
              "    .dataframe tbody tr th:only-of-type {\n",
              "        vertical-align: middle;\n",
              "    }\n",
              "\n",
              "    .dataframe tbody tr th {\n",
              "        vertical-align: top;\n",
              "    }\n",
              "\n",
              "    .dataframe thead th {\n",
              "        text-align: right;\n",
              "    }\n",
              "</style>\n",
              "<table border=\"1\" class=\"dataframe\">\n",
              "  <thead>\n",
              "    <tr style=\"text-align: right;\">\n",
              "      <th></th>\n",
              "      <th>Variable</th>\n",
              "      <th>Cluster</th>\n",
              "      <th>Disctint</th>\n",
              "      <th>Values</th>\n",
              "      <th>Type</th>\n",
              "      <th>Nulls</th>\n",
              "      <th>Description</th>\n",
              "    </tr>\n",
              "    <tr>\n",
              "      <th>Id</th>\n",
              "      <th></th>\n",
              "      <th></th>\n",
              "      <th></th>\n",
              "      <th></th>\n",
              "      <th></th>\n",
              "      <th></th>\n",
              "      <th></th>\n",
              "    </tr>\n",
              "  </thead>\n",
              "  <tbody>\n",
              "    <tr>\n",
              "      <th>20</th>\n",
              "      <td>disbursement_date</td>\n",
              "      <td>4</td>\n",
              "      <td>8473</td>\n",
              "      <td>[28-Feb-99, 31-May-97, 31-Dec-97, 30-Jun-97, 1...</td>\n",
              "      <td>str</td>\n",
              "      <td>2368</td>\n",
              "      <td>the date upon which the Loan proceeds</td>\n",
              "    </tr>\n",
              "    <tr>\n",
              "      <th>25</th>\n",
              "      <td>gross_amount_approved</td>\n",
              "      <td>4</td>\n",
              "      <td>22128</td>\n",
              "      <td>[$60,000.00 , $40,000.00 , $287,000.00 , $35,0...</td>\n",
              "      <td>str</td>\n",
              "      <td>0</td>\n",
              "      <td>gross disbursements represent the amount of ch...</td>\n",
              "    </tr>\n",
              "    <tr>\n",
              "      <th>8</th>\n",
              "      <td>approval_date</td>\n",
              "      <td>4</td>\n",
              "      <td>9859</td>\n",
              "      <td>[28-Feb-97, 2-Jun-80, 7-Feb-06, 11-Jun-80, 4-O...</td>\n",
              "      <td>str</td>\n",
              "      <td>0</td>\n",
              "      <td>Date SBA commitment issued</td>\n",
              "    </tr>\n",
              "    <tr>\n",
              "      <th>5</th>\n",
              "      <td>bank_name</td>\n",
              "      <td>4</td>\n",
              "      <td>5803</td>\n",
              "      <td>[FIFTH THIRD BANK, 1ST SOURCE BANK, GRANT COUN...</td>\n",
              "      <td>str</td>\n",
              "      <td>1559</td>\n",
              "      <td>Bank name</td>\n",
              "    </tr>\n",
              "    <tr>\n",
              "      <th>2</th>\n",
              "      <td>borrower_city</td>\n",
              "      <td>4</td>\n",
              "      <td>32582</td>\n",
              "      <td>[EVANSVILLE, NEW PARIS, BLOOMINGTON, BROKEN AR...</td>\n",
              "      <td>str</td>\n",
              "      <td>30</td>\n",
              "      <td>Borrower city</td>\n",
              "    </tr>\n",
              "    <tr>\n",
              "      <th>1</th>\n",
              "      <td>borrower_name</td>\n",
              "      <td>4</td>\n",
              "      <td>779584</td>\n",
              "      <td>[ABC HOBBYCRAFT, LANDMARK BAR &amp; GRILLE (THE), ...</td>\n",
              "      <td>str</td>\n",
              "      <td>14</td>\n",
              "      <td>Borrower Name</td>\n",
              "    </tr>\n",
              "    <tr>\n",
              "      <th>4</th>\n",
              "      <td>borrower_zip</td>\n",
              "      <td>4</td>\n",
              "      <td>33611</td>\n",
              "      <td>[47711, 46526, 47401, 74012, 32801, 6062, 7083...</td>\n",
              "      <td>numpy.int64</td>\n",
              "      <td>0</td>\n",
              "      <td>Borrower zip code</td>\n",
              "    </tr>\n",
              "    <tr>\n",
              "      <th>24</th>\n",
              "      <td>charged_off_amount</td>\n",
              "      <td>4</td>\n",
              "      <td>83165</td>\n",
              "      <td>[$0.00 , $208,959.00 , $14,084.00 , $44,374.00...</td>\n",
              "      <td>str</td>\n",
              "      <td>0</td>\n",
              "      <td>debt that a company believes it will no longer...</td>\n",
              "    </tr>\n",
              "    <tr>\n",
              "      <th>19</th>\n",
              "      <td>default_date</td>\n",
              "      <td>4</td>\n",
              "      <td>6449</td>\n",
              "      <td>[nan, 24-Jun-91, 18-Apr-02, 4-Oct-89, 26-Jun-1...</td>\n",
              "      <td>float</td>\n",
              "      <td>736465</td>\n",
              "      <td>loan default´s declaration date</td>\n",
              "    </tr>\n",
              "    <tr>\n",
              "      <th>21</th>\n",
              "      <td>amount_disbursed</td>\n",
              "      <td>4</td>\n",
              "      <td>118859</td>\n",
              "      <td>[$60,000.00 , $40,000.00 , $287,000.00 , $35,0...</td>\n",
              "      <td>str</td>\n",
              "      <td>0</td>\n",
              "      <td>Amount disbursed</td>\n",
              "    </tr>\n",
              "    <tr>\n",
              "      <th>26</th>\n",
              "      <td>guaranteed_sba</td>\n",
              "      <td>4</td>\n",
              "      <td>38326</td>\n",
              "      <td>[$48,000.00 , $32,000.00 , $215,250.00 , $28,0...</td>\n",
              "      <td>str</td>\n",
              "      <td>0</td>\n",
              "      <td>SBA´s guaranteed amount</td>\n",
              "    </tr>\n",
              "    <tr>\n",
              "      <th>0</th>\n",
              "      <td>id</td>\n",
              "      <td>4</td>\n",
              "      <td>899164</td>\n",
              "      <td>[1000014003, 1000024006, 1000034009, 100004400...</td>\n",
              "      <td>numpy.int64</td>\n",
              "      <td>0</td>\n",
              "      <td>Identifier - Primary key</td>\n",
              "    </tr>\n",
              "  </tbody>\n",
              "</table>\n",
              "</div>\n",
              "      <button class=\"colab-df-convert\" onclick=\"convertToInteractive('df-4d0766f1-f8c6-4692-9e27-0d4c2b8ebda3')\"\n",
              "              title=\"Convert this dataframe to an interactive table.\"\n",
              "              style=\"display:none;\">\n",
              "        \n",
              "  <svg xmlns=\"http://www.w3.org/2000/svg\" height=\"24px\"viewBox=\"0 0 24 24\"\n",
              "       width=\"24px\">\n",
              "    <path d=\"M0 0h24v24H0V0z\" fill=\"none\"/>\n",
              "    <path d=\"M18.56 5.44l.94 2.06.94-2.06 2.06-.94-2.06-.94-.94-2.06-.94 2.06-2.06.94zm-11 1L8.5 8.5l.94-2.06 2.06-.94-2.06-.94L8.5 2.5l-.94 2.06-2.06.94zm10 10l.94 2.06.94-2.06 2.06-.94-2.06-.94-.94-2.06-.94 2.06-2.06.94z\"/><path d=\"M17.41 7.96l-1.37-1.37c-.4-.4-.92-.59-1.43-.59-.52 0-1.04.2-1.43.59L10.3 9.45l-7.72 7.72c-.78.78-.78 2.05 0 2.83L4 21.41c.39.39.9.59 1.41.59.51 0 1.02-.2 1.41-.59l7.78-7.78 2.81-2.81c.8-.78.8-2.07 0-2.86zM5.41 20L4 18.59l7.72-7.72 1.47 1.35L5.41 20z\"/>\n",
              "  </svg>\n",
              "      </button>\n",
              "      \n",
              "  <style>\n",
              "    .colab-df-container {\n",
              "      display:flex;\n",
              "      flex-wrap:wrap;\n",
              "      gap: 12px;\n",
              "    }\n",
              "\n",
              "    .colab-df-convert {\n",
              "      background-color: #E8F0FE;\n",
              "      border: none;\n",
              "      border-radius: 50%;\n",
              "      cursor: pointer;\n",
              "      display: none;\n",
              "      fill: #1967D2;\n",
              "      height: 32px;\n",
              "      padding: 0 0 0 0;\n",
              "      width: 32px;\n",
              "    }\n",
              "\n",
              "    .colab-df-convert:hover {\n",
              "      background-color: #E2EBFA;\n",
              "      box-shadow: 0px 1px 2px rgba(60, 64, 67, 0.3), 0px 1px 3px 1px rgba(60, 64, 67, 0.15);\n",
              "      fill: #174EA6;\n",
              "    }\n",
              "\n",
              "    [theme=dark] .colab-df-convert {\n",
              "      background-color: #3B4455;\n",
              "      fill: #D2E3FC;\n",
              "    }\n",
              "\n",
              "    [theme=dark] .colab-df-convert:hover {\n",
              "      background-color: #434B5C;\n",
              "      box-shadow: 0px 1px 3px 1px rgba(0, 0, 0, 0.15);\n",
              "      filter: drop-shadow(0px 1px 2px rgba(0, 0, 0, 0.3));\n",
              "      fill: #FFFFFF;\n",
              "    }\n",
              "  </style>\n",
              "\n",
              "      <script>\n",
              "        const buttonEl =\n",
              "          document.querySelector('#df-4d0766f1-f8c6-4692-9e27-0d4c2b8ebda3 button.colab-df-convert');\n",
              "        buttonEl.style.display =\n",
              "          google.colab.kernel.accessAllowed ? 'block' : 'none';\n",
              "\n",
              "        async function convertToInteractive(key) {\n",
              "          const element = document.querySelector('#df-4d0766f1-f8c6-4692-9e27-0d4c2b8ebda3');\n",
              "          const dataTable =\n",
              "            await google.colab.kernel.invokeFunction('convertToInteractive',\n",
              "                                                     [key], {});\n",
              "          if (!dataTable) return;\n",
              "\n",
              "          const docLinkHtml = 'Like what you see? Visit the ' +\n",
              "            '<a target=\"_blank\" href=https://colab.research.google.com/notebooks/data_table.ipynb>data table notebook</a>'\n",
              "            + ' to learn more about interactive tables.';\n",
              "          element.innerHTML = '';\n",
              "          dataTable['output_type'] = 'display_data';\n",
              "          await google.colab.output.renderOutput(dataTable, element);\n",
              "          const docLink = document.createElement('div');\n",
              "          docLink.innerHTML = docLinkHtml;\n",
              "          element.appendChild(docLink);\n",
              "        }\n",
              "      </script>\n",
              "    </div>\n",
              "  </div>\n",
              "  "
            ]
          },
          "metadata": {},
          "execution_count": 13
        }
      ],
      "source": [
        "dd[dd.Cluster == 4]"
      ]
    },
    {
      "cell_type": "markdown",
      "metadata": {
        "id": "sYMCrkoblHFo"
      },
      "source": [
        "Time series variables"
      ]
    },
    {
      "cell_type": "code",
      "execution_count": 14,
      "metadata": {
        "id": "UpB6oteolHFo"
      },
      "outputs": [],
      "source": [
        "time_series_var = ['default_date', 'disbursement_date', 'approval_date']"
      ]
    },
    {
      "cell_type": "code",
      "execution_count": 15,
      "metadata": {
        "id": "8gv-PEZ6lHFp",
        "outputId": "563aac58-0bf0-45ab-b9f5-edcdb1f83942",
        "colab": {
          "base_uri": "https://localhost:8080/"
        }
      },
      "outputs": [
        {
          "output_type": "stream",
          "name": "stdout",
          "text": [
            "<class 'pandas.core.series.Series'>\n",
            "RangeIndex: 899164 entries, 0 to 899163\n",
            "Series name: default_date\n",
            "Non-Null Count   Dtype \n",
            "--------------   ----- \n",
            "162699 non-null  object\n",
            "dtypes: object(1)\n",
            "memory usage: 6.9+ MB\n"
          ]
        }
      ],
      "source": [
        "df.default_date.info()"
      ]
    },
    {
      "cell_type": "code",
      "execution_count": 16,
      "metadata": {
        "id": "12RD1s3ulHFq",
        "outputId": "857261b7-3475-4909-e52c-60ceda990b1d",
        "colab": {
          "base_uri": "https://localhost:8080/"
        }
      },
      "outputs": [
        {
          "output_type": "stream",
          "name": "stdout",
          "text": [
            "<class 'pandas.core.series.Series'>\n",
            "RangeIndex: 899164 entries, 0 to 899163\n",
            "Series name: disbursement_date\n",
            "Non-Null Count   Dtype \n",
            "--------------   ----- \n",
            "896796 non-null  object\n",
            "dtypes: object(1)\n",
            "memory usage: 6.9+ MB\n"
          ]
        }
      ],
      "source": [
        "df.disbursement_date.info()"
      ]
    },
    {
      "cell_type": "code",
      "execution_count": 17,
      "metadata": {
        "id": "UcTURRcLlHFr",
        "outputId": "fd39b3e0-338e-48a7-cbee-ae86b45c855d",
        "colab": {
          "base_uri": "https://localhost:8080/"
        }
      },
      "outputs": [
        {
          "output_type": "stream",
          "name": "stdout",
          "text": [
            "<class 'pandas.core.series.Series'>\n",
            "RangeIndex: 899164 entries, 0 to 899163\n",
            "Series name: approval_date\n",
            "Non-Null Count   Dtype \n",
            "--------------   ----- \n",
            "899164 non-null  object\n",
            "dtypes: object(1)\n",
            "memory usage: 6.9+ MB\n"
          ]
        }
      ],
      "source": [
        "df.approval_date.info()"
      ]
    },
    {
      "cell_type": "code",
      "execution_count": 18,
      "metadata": {
        "id": "Cr0VT3x7lHFt",
        "outputId": "07c1d8b1-685d-4dfd-b9fc-6d15a4c85aff",
        "colab": {
          "base_uri": "https://localhost:8080/"
        }
      },
      "outputs": [
        {
          "output_type": "stream",
          "name": "stdout",
          "text": [
            "default_date : corrected\n",
            "disbursement_date : corrected\n",
            "approval_date : corrected\n"
          ]
        }
      ],
      "source": [
        "for i in time_series_var:\n",
        "    try:\n",
        "        df[i] = pd.to_datetime(df[i])\n",
        "        print(i,': corrected')\n",
        "    except:\n",
        "        print('error in:',i)"
      ]
    },
    {
      "cell_type": "markdown",
      "metadata": {
        "id": "7MpQML_DlHF5"
      },
      "source": [
        "Currency Variables"
      ]
    },
    {
      "cell_type": "code",
      "execution_count": 19,
      "metadata": {
        "id": "tP7rgp4ilHF6"
      },
      "outputs": [],
      "source": [
        "currency_vars = ['amount_disbursed', 'charged_off_amount', 'gross_amount_approved', 'guaranteed_sba', 'gross_amount_outstanding']"
      ]
    },
    {
      "cell_type": "code",
      "execution_count": 20,
      "metadata": {
        "id": "7n6Q6RVllHF6",
        "outputId": "e29b85e5-1067-4bf9-d6d9-37128c705325",
        "colab": {
          "base_uri": "https://localhost:8080/"
        }
      },
      "outputs": [
        {
          "output_type": "stream",
          "name": "stdout",
          "text": [
            "<class 'pandas.core.series.Series'>\n",
            "RangeIndex: 899164 entries, 0 to 899163\n",
            "Series name: amount_disbursed\n",
            "Non-Null Count   Dtype \n",
            "--------------   ----- \n",
            "899164 non-null  object\n",
            "dtypes: object(1)\n",
            "memory usage: 6.9+ MB\n"
          ]
        }
      ],
      "source": [
        "df.amount_disbursed.info()"
      ]
    },
    {
      "cell_type": "code",
      "execution_count": 21,
      "metadata": {
        "id": "5W9ZdbYblHF7",
        "outputId": "4cb00fcc-673e-41ea-e07c-0601d1f8e024",
        "colab": {
          "base_uri": "https://localhost:8080/"
        }
      },
      "outputs": [
        {
          "output_type": "stream",
          "name": "stdout",
          "text": [
            "<class 'pandas.core.series.Series'>\n",
            "RangeIndex: 899164 entries, 0 to 899163\n",
            "Series name: charged_off_amount\n",
            "Non-Null Count   Dtype \n",
            "--------------   ----- \n",
            "899164 non-null  object\n",
            "dtypes: object(1)\n",
            "memory usage: 6.9+ MB\n"
          ]
        }
      ],
      "source": [
        "df.charged_off_amount.info()"
      ]
    },
    {
      "cell_type": "code",
      "execution_count": 22,
      "metadata": {
        "id": "ESJYXvwUlHF8",
        "outputId": "003cb328-1b76-4da2-f173-a4c474927f6b",
        "colab": {
          "base_uri": "https://localhost:8080/"
        }
      },
      "outputs": [
        {
          "output_type": "stream",
          "name": "stdout",
          "text": [
            "<class 'pandas.core.series.Series'>\n",
            "RangeIndex: 899164 entries, 0 to 899163\n",
            "Series name: gross_amount_approved\n",
            "Non-Null Count   Dtype \n",
            "--------------   ----- \n",
            "899164 non-null  object\n",
            "dtypes: object(1)\n",
            "memory usage: 6.9+ MB\n"
          ]
        }
      ],
      "source": [
        "df.gross_amount_approved.info()"
      ]
    },
    {
      "cell_type": "code",
      "execution_count": 23,
      "metadata": {
        "id": "oOLV5o1PlHF9",
        "outputId": "a0dd7ff9-20d1-43b0-b6e8-fcdfb3187479",
        "colab": {
          "base_uri": "https://localhost:8080/"
        }
      },
      "outputs": [
        {
          "output_type": "stream",
          "name": "stdout",
          "text": [
            "<class 'pandas.core.series.Series'>\n",
            "RangeIndex: 899164 entries, 0 to 899163\n",
            "Series name: guaranteed_sba\n",
            "Non-Null Count   Dtype \n",
            "--------------   ----- \n",
            "899164 non-null  object\n",
            "dtypes: object(1)\n",
            "memory usage: 6.9+ MB\n"
          ]
        }
      ],
      "source": [
        "df.guaranteed_sba.info()"
      ]
    },
    {
      "cell_type": "code",
      "execution_count": 24,
      "metadata": {
        "id": "8-hoB-u_lHF-",
        "outputId": "06109d0c-940f-44b6-f07c-2fa96717b8ec",
        "colab": {
          "base_uri": "https://localhost:8080/"
        }
      },
      "outputs": [
        {
          "output_type": "stream",
          "name": "stdout",
          "text": [
            "<class 'pandas.core.series.Series'>\n",
            "RangeIndex: 899164 entries, 0 to 899163\n",
            "Series name: gross_amount_outstanding\n",
            "Non-Null Count   Dtype \n",
            "--------------   ----- \n",
            "899164 non-null  object\n",
            "dtypes: object(1)\n",
            "memory usage: 6.9+ MB\n"
          ]
        }
      ],
      "source": [
        "df.gross_amount_outstanding.info()"
      ]
    },
    {
      "cell_type": "code",
      "execution_count": 25,
      "metadata": {
        "id": "YOOaJSm2lHGJ",
        "outputId": "6db521a8-bc56-465c-c060-68b64e168f32",
        "colab": {
          "base_uri": "https://localhost:8080/"
        }
      },
      "outputs": [
        {
          "output_type": "stream",
          "name": "stdout",
          "text": [
            "amount_disbursed : corrected\n",
            "charged_off_amount : corrected\n",
            "gross_amount_approved : corrected\n",
            "guaranteed_sba : corrected\n",
            "gross_amount_outstanding : corrected\n"
          ]
        }
      ],
      "source": [
        "for i in currency_vars:\n",
        "    try:\n",
        "        df[i] = [float(str(x).replace('$','').replace(',','')) for x in df[i]]\n",
        "    except:\n",
        "        print('error in:',i)\n",
        "    try:\n",
        "        df[i].astype(np.float16)\n",
        "        print(i,': corrected')\n",
        "    except:\n",
        "        print('error in:',i)"
      ]
    },
    {
      "cell_type": "code",
      "execution_count": 26,
      "metadata": {
        "id": "Ombx-g-_lHGK"
      },
      "outputs": [],
      "source": [
        "df['franchise']=df['franchise'].astype(np.int16)"
      ]
    },
    {
      "cell_type": "markdown",
      "metadata": {
        "id": "ScE63w3olHGL"
      },
      "source": [
        "Integer Variables"
      ]
    },
    {
      "cell_type": "markdown",
      "metadata": {
        "id": "v6IF80YtlHGL"
      },
      "source": [
        "all the integer values in the variables from the cluster 2 to 4 are bigger than 32767, \n",
        "\n",
        "but smaller than 9223372036854775807; then that variables are np.int32"
      ]
    },
    {
      "cell_type": "code",
      "execution_count": 27,
      "metadata": {
        "id": "9u-xSGdilHGM"
      },
      "outputs": [],
      "source": [
        "continuos =   set(dd[dd.Cluster==2]['Variable']).union(set(dd[dd.Cluster==4]['Variable']))\n",
        "non_integer = set(currency_vars).union(set(time_series_var))\n",
        "integer = list(continuos - non_integer)"
      ]
    },
    {
      "cell_type": "code",
      "execution_count": 28,
      "metadata": {
        "id": "5CIHT6qelHGN",
        "outputId": "a148b676-2c97-45e7-a69a-fb4c4cde4ab2",
        "colab": {
          "base_uri": "https://localhost:8080/"
        }
      },
      "outputs": [
        {
          "output_type": "execute_result",
          "data": {
            "text/plain": [
              "['id', 'borrower_name', 'borrower_zip', 'borrower_city', 'bank_name', 'naic']"
            ]
          },
          "metadata": {},
          "execution_count": 28
        }
      ],
      "source": [
        "tmp = pd.DataFrame()\n",
        "for i in integer:\n",
        "    tmp = pd.concat([tmp,dd[dd.isin([i]).any(axis=1)]])\n",
        "integer_vars = list(tmp.sort_values(by=\"Disctint\", ascending=False).Variable.values)\n",
        "del tmp\n",
        "integer_vars"
      ]
    },
    {
      "cell_type": "markdown",
      "metadata": {
        "id": "y-imWnrolHGO"
      },
      "source": [
        "deleting string variables from treatment"
      ]
    },
    {
      "cell_type": "code",
      "execution_count": 29,
      "metadata": {
        "id": "iTMzPSBMlHGP"
      },
      "outputs": [],
      "source": [
        "del integer_vars[integer_vars.index('borrower_name')]\n",
        "del integer_vars[integer_vars.index('borrower_city')]\n",
        "del integer_vars[integer_vars.index('bank_name')]"
      ]
    },
    {
      "cell_type": "code",
      "execution_count": 30,
      "metadata": {
        "id": "gF6Tuq9flHGP",
        "outputId": "622c892c-e8f7-43e3-f078-5da76af15a51",
        "colab": {
          "base_uri": "https://localhost:8080/"
        }
      },
      "outputs": [
        {
          "output_type": "execute_result",
          "data": {
            "text/plain": [
              "id              0\n",
              "borrower_zip    0\n",
              "naic            0\n",
              "dtype: int64"
            ]
          },
          "metadata": {},
          "execution_count": 30
        }
      ],
      "source": [
        "df[integer_vars].isnull().sum()"
      ]
    },
    {
      "cell_type": "code",
      "execution_count": 31,
      "metadata": {
        "id": "1r9_n9ELlHGZ",
        "outputId": "3b7b4fa1-fb17-4505-c1d1-07916564952e",
        "colab": {
          "base_uri": "https://localhost:8080/"
        }
      },
      "outputs": [
        {
          "output_type": "stream",
          "name": "stdout",
          "text": [
            "<class 'pandas.core.series.Series'>\n",
            "RangeIndex: 899164 entries, 0 to 899163\n",
            "Series name: id\n",
            "Non-Null Count   Dtype\n",
            "--------------   -----\n",
            "899164 non-null  int64\n",
            "dtypes: int64(1)\n",
            "memory usage: 6.9 MB\n"
          ]
        }
      ],
      "source": [
        "df.id.info()"
      ]
    },
    {
      "cell_type": "code",
      "execution_count": 32,
      "metadata": {
        "id": "owlOeaXslHGZ",
        "outputId": "7b577351-1260-42ca-f964-0e815ef2b860",
        "colab": {
          "base_uri": "https://localhost:8080/"
        }
      },
      "outputs": [
        {
          "output_type": "stream",
          "name": "stdout",
          "text": [
            "<class 'pandas.core.series.Series'>\n",
            "RangeIndex: 899164 entries, 0 to 899163\n",
            "Series name: borrower_zip\n",
            "Non-Null Count   Dtype\n",
            "--------------   -----\n",
            "899164 non-null  int64\n",
            "dtypes: int64(1)\n",
            "memory usage: 6.9 MB\n"
          ]
        }
      ],
      "source": [
        "df.borrower_zip.info()"
      ]
    },
    {
      "cell_type": "code",
      "execution_count": 33,
      "metadata": {
        "id": "-1CIXwJ8lHGa",
        "outputId": "914f548a-4108-4f3b-c242-0b2ad13c03fd",
        "colab": {
          "base_uri": "https://localhost:8080/"
        }
      },
      "outputs": [
        {
          "output_type": "stream",
          "name": "stdout",
          "text": [
            "<class 'pandas.core.series.Series'>\n",
            "RangeIndex: 899164 entries, 0 to 899163\n",
            "Series name: naic\n",
            "Non-Null Count   Dtype\n",
            "--------------   -----\n",
            "899164 non-null  int64\n",
            "dtypes: int64(1)\n",
            "memory usage: 6.9 MB\n"
          ]
        }
      ],
      "source": [
        "df.naic.info()"
      ]
    },
    {
      "cell_type": "code",
      "execution_count": 34,
      "metadata": {
        "id": "nSuyuuyclHGa",
        "outputId": "faee4b59-458d-4002-d22a-2822367cbc0e",
        "colab": {
          "base_uri": "https://localhost:8080/",
          "height": 69
        }
      },
      "outputs": [
        {
          "output_type": "display_data",
          "data": {
            "text/plain": [
              "<IPython.core.display.HTML object>"
            ],
            "text/html": [
              "<a>id: corrected</a>"
            ]
          },
          "metadata": {}
        },
        {
          "output_type": "display_data",
          "data": {
            "text/plain": [
              "<IPython.core.display.HTML object>"
            ],
            "text/html": [
              "<a>borrower_zip: corrected</a>"
            ]
          },
          "metadata": {}
        },
        {
          "output_type": "display_data",
          "data": {
            "text/plain": [
              "<IPython.core.display.HTML object>"
            ],
            "text/html": [
              "<a>naic: corrected</a>"
            ]
          },
          "metadata": {}
        }
      ],
      "source": [
        "for i in integer_vars:\n",
        "    try:\n",
        "        df[i].astype(np.int32)\n",
        "        display(HTML('<a>'+i+': corrected</a>'))\n",
        "    except:\n",
        "        display(HTML('<strong><a>'+i+': Wow, i find an error!!!</a></strong>'))"
      ]
    },
    {
      "cell_type": "code",
      "execution_count": 35,
      "metadata": {
        "id": "IWjzQFlalHGc",
        "outputId": "211f8fdc-7590-428d-fe47-47f6e373bf03",
        "colab": {
          "base_uri": "https://localhost:8080/"
        }
      },
      "outputs": [
        {
          "output_type": "stream",
          "name": "stdout",
          "text": [
            "size of dataset: 598.95 mb\n",
            "380.69 mb saved\n",
            "38.86% less vs original size\n"
          ]
        }
      ],
      "source": [
        "#mb of the dataset\n",
        "mb2 = sys.getsizeof(df)/1024/1024\n",
        "print('size of dataset:','{:.2f}'.format(mb2)+' mb')\n",
        "#\n",
        "print('{:.2f}'.format(mb-mb2)+' mb saved')\n",
        "print('{:.2f}'.format(100*(1.0-(mb2/float(mb))))+'% less vs original size')"
      ]
    },
    {
      "cell_type": "markdown",
      "metadata": {
        "id": "xEMlKRfQlHGe"
      },
      "source": [
        "\n",
        "#### 2. Ordinal Variables"
      ]
    },
    {
      "cell_type": "markdown",
      "metadata": {
        "id": "oLadbWz8lHGe"
      },
      "source": [
        "correcting the cluster 1 of variables:\n",
        "* This variables are majorly categorical variables and need much observation for correct or pass to feature engneering"
      ]
    },
    {
      "cell_type": "code",
      "execution_count": 36,
      "metadata": {
        "id": "4b-uAyGYlHGf",
        "outputId": "40b83fe0-ab66-40f4-ad53-db7ae5c7a8ab",
        "colab": {
          "base_uri": "https://localhost:8080/",
          "height": 489
        }
      },
      "outputs": [
        {
          "output_type": "execute_result",
          "data": {
            "text/plain": [
              "                    Variable  Cluster  Disctint  \\\n",
              "Id                                                \n",
              "11                 employees        1       599   \n",
              "10              spected_term        1       412   \n",
              "14             retained_jobs        1       358   \n",
              "13              created_jobs        1       246   \n",
              "9       approval_fiscal_year        1        75   \n",
              "6                 bank_state        1        57   \n",
              "3             borrower_state        1        52   \n",
              "17          revolving_credit        1        19   \n",
              "22  gross_amount_outstanding        1        15   \n",
              "18              low_doc_loan        1         9   \n",
              "12             business_type        1         4   \n",
              "23               loan_status        1         3   \n",
              "16                     urban        1         3   \n",
              "\n",
              "                                               Values           Type  Nulls  \\\n",
              "Id                                                                            \n",
              "11  [4, 2, 7, 14, 19, 45, 1, 3, 24, 5, 16, 12, 6, ...    numpy.int64      0   \n",
              "10  [84, 60, 180, 240, 120, 45, 297, 162, 12, 300,...    numpy.int64      0   \n",
              "14  [0, 7, 23, 4, 6, 1, 9, 20, 2, 5, 19, 8, 3, 10,...    numpy.int64      0   \n",
              "13  [0, 7, 30, 5, 4, 1, 20, 10, 3, 8, 16, 15, 6, 1...    numpy.int64      0   \n",
              "9   [1997, 1980, 2006, 1998, 1999, 2000, 2001, 197...            int      0   \n",
              "6   [OH, IN, OK, FL, DE, SD, AL, CT, GA, OR, MN, R...            str   1566   \n",
              "3   [IN, OK, FL, CT, NJ, NC, IL, RI, TX, VA, TN, A...            str     14   \n",
              "17  [N, 0, Y, T, nan, `, ,, 1, C, 3, 2, R, 7, A, 5...            str   4528   \n",
              "22  [$0.00 , $12,750.00 , $827,875.00 , $25,000.00...            str      0   \n",
              "18                      [Y, N, C, 1, nan, S, R, A, 0]            str   2582   \n",
              "12                               [2.0, 1.0, 0.0, nan]  numpy.float64    136   \n",
              "23                               [P I F, CHGOFF, nan]            str   1997   \n",
              "16                                          [0, 1, 2]    numpy.int64      0   \n",
              "\n",
              "                                          Description  \n",
              "Id                                                     \n",
              "11                       Number of business employees  \n",
              "10                            Loan termination months  \n",
              "14                            Number of jobs retained  \n",
              "13                             Number of jobs created  \n",
              "9                           Fiscal year of commitment  \n",
              "6                                          Bank state  \n",
              "3                                      Borrower state  \n",
              "17                           Revolving line of credit  \n",
              "22  the total of all remaining payments due under ...  \n",
              "18                                LowDoc Loan Program  \n",
              "12                                      Business Type  \n",
              "23                                        Loan Status  \n",
              "16                                     Urban or Rural  "
            ],
            "text/html": [
              "\n",
              "  <div id=\"df-52f1b3bd-2a2d-49a1-81f4-1eb5a319b106\">\n",
              "    <div class=\"colab-df-container\">\n",
              "      <div>\n",
              "<style scoped>\n",
              "    .dataframe tbody tr th:only-of-type {\n",
              "        vertical-align: middle;\n",
              "    }\n",
              "\n",
              "    .dataframe tbody tr th {\n",
              "        vertical-align: top;\n",
              "    }\n",
              "\n",
              "    .dataframe thead th {\n",
              "        text-align: right;\n",
              "    }\n",
              "</style>\n",
              "<table border=\"1\" class=\"dataframe\">\n",
              "  <thead>\n",
              "    <tr style=\"text-align: right;\">\n",
              "      <th></th>\n",
              "      <th>Variable</th>\n",
              "      <th>Cluster</th>\n",
              "      <th>Disctint</th>\n",
              "      <th>Values</th>\n",
              "      <th>Type</th>\n",
              "      <th>Nulls</th>\n",
              "      <th>Description</th>\n",
              "    </tr>\n",
              "    <tr>\n",
              "      <th>Id</th>\n",
              "      <th></th>\n",
              "      <th></th>\n",
              "      <th></th>\n",
              "      <th></th>\n",
              "      <th></th>\n",
              "      <th></th>\n",
              "      <th></th>\n",
              "    </tr>\n",
              "  </thead>\n",
              "  <tbody>\n",
              "    <tr>\n",
              "      <th>11</th>\n",
              "      <td>employees</td>\n",
              "      <td>1</td>\n",
              "      <td>599</td>\n",
              "      <td>[4, 2, 7, 14, 19, 45, 1, 3, 24, 5, 16, 12, 6, ...</td>\n",
              "      <td>numpy.int64</td>\n",
              "      <td>0</td>\n",
              "      <td>Number of business employees</td>\n",
              "    </tr>\n",
              "    <tr>\n",
              "      <th>10</th>\n",
              "      <td>spected_term</td>\n",
              "      <td>1</td>\n",
              "      <td>412</td>\n",
              "      <td>[84, 60, 180, 240, 120, 45, 297, 162, 12, 300,...</td>\n",
              "      <td>numpy.int64</td>\n",
              "      <td>0</td>\n",
              "      <td>Loan termination months</td>\n",
              "    </tr>\n",
              "    <tr>\n",
              "      <th>14</th>\n",
              "      <td>retained_jobs</td>\n",
              "      <td>1</td>\n",
              "      <td>358</td>\n",
              "      <td>[0, 7, 23, 4, 6, 1, 9, 20, 2, 5, 19, 8, 3, 10,...</td>\n",
              "      <td>numpy.int64</td>\n",
              "      <td>0</td>\n",
              "      <td>Number of jobs retained</td>\n",
              "    </tr>\n",
              "    <tr>\n",
              "      <th>13</th>\n",
              "      <td>created_jobs</td>\n",
              "      <td>1</td>\n",
              "      <td>246</td>\n",
              "      <td>[0, 7, 30, 5, 4, 1, 20, 10, 3, 8, 16, 15, 6, 1...</td>\n",
              "      <td>numpy.int64</td>\n",
              "      <td>0</td>\n",
              "      <td>Number of jobs created</td>\n",
              "    </tr>\n",
              "    <tr>\n",
              "      <th>9</th>\n",
              "      <td>approval_fiscal_year</td>\n",
              "      <td>1</td>\n",
              "      <td>75</td>\n",
              "      <td>[1997, 1980, 2006, 1998, 1999, 2000, 2001, 197...</td>\n",
              "      <td>int</td>\n",
              "      <td>0</td>\n",
              "      <td>Fiscal year of commitment</td>\n",
              "    </tr>\n",
              "    <tr>\n",
              "      <th>6</th>\n",
              "      <td>bank_state</td>\n",
              "      <td>1</td>\n",
              "      <td>57</td>\n",
              "      <td>[OH, IN, OK, FL, DE, SD, AL, CT, GA, OR, MN, R...</td>\n",
              "      <td>str</td>\n",
              "      <td>1566</td>\n",
              "      <td>Bank state</td>\n",
              "    </tr>\n",
              "    <tr>\n",
              "      <th>3</th>\n",
              "      <td>borrower_state</td>\n",
              "      <td>1</td>\n",
              "      <td>52</td>\n",
              "      <td>[IN, OK, FL, CT, NJ, NC, IL, RI, TX, VA, TN, A...</td>\n",
              "      <td>str</td>\n",
              "      <td>14</td>\n",
              "      <td>Borrower state</td>\n",
              "    </tr>\n",
              "    <tr>\n",
              "      <th>17</th>\n",
              "      <td>revolving_credit</td>\n",
              "      <td>1</td>\n",
              "      <td>19</td>\n",
              "      <td>[N, 0, Y, T, nan, `, ,, 1, C, 3, 2, R, 7, A, 5...</td>\n",
              "      <td>str</td>\n",
              "      <td>4528</td>\n",
              "      <td>Revolving line of credit</td>\n",
              "    </tr>\n",
              "    <tr>\n",
              "      <th>22</th>\n",
              "      <td>gross_amount_outstanding</td>\n",
              "      <td>1</td>\n",
              "      <td>15</td>\n",
              "      <td>[$0.00 , $12,750.00 , $827,875.00 , $25,000.00...</td>\n",
              "      <td>str</td>\n",
              "      <td>0</td>\n",
              "      <td>the total of all remaining payments due under ...</td>\n",
              "    </tr>\n",
              "    <tr>\n",
              "      <th>18</th>\n",
              "      <td>low_doc_loan</td>\n",
              "      <td>1</td>\n",
              "      <td>9</td>\n",
              "      <td>[Y, N, C, 1, nan, S, R, A, 0]</td>\n",
              "      <td>str</td>\n",
              "      <td>2582</td>\n",
              "      <td>LowDoc Loan Program</td>\n",
              "    </tr>\n",
              "    <tr>\n",
              "      <th>12</th>\n",
              "      <td>business_type</td>\n",
              "      <td>1</td>\n",
              "      <td>4</td>\n",
              "      <td>[2.0, 1.0, 0.0, nan]</td>\n",
              "      <td>numpy.float64</td>\n",
              "      <td>136</td>\n",
              "      <td>Business Type</td>\n",
              "    </tr>\n",
              "    <tr>\n",
              "      <th>23</th>\n",
              "      <td>loan_status</td>\n",
              "      <td>1</td>\n",
              "      <td>3</td>\n",
              "      <td>[P I F, CHGOFF, nan]</td>\n",
              "      <td>str</td>\n",
              "      <td>1997</td>\n",
              "      <td>Loan Status</td>\n",
              "    </tr>\n",
              "    <tr>\n",
              "      <th>16</th>\n",
              "      <td>urban</td>\n",
              "      <td>1</td>\n",
              "      <td>3</td>\n",
              "      <td>[0, 1, 2]</td>\n",
              "      <td>numpy.int64</td>\n",
              "      <td>0</td>\n",
              "      <td>Urban or Rural</td>\n",
              "    </tr>\n",
              "  </tbody>\n",
              "</table>\n",
              "</div>\n",
              "      <button class=\"colab-df-convert\" onclick=\"convertToInteractive('df-52f1b3bd-2a2d-49a1-81f4-1eb5a319b106')\"\n",
              "              title=\"Convert this dataframe to an interactive table.\"\n",
              "              style=\"display:none;\">\n",
              "        \n",
              "  <svg xmlns=\"http://www.w3.org/2000/svg\" height=\"24px\"viewBox=\"0 0 24 24\"\n",
              "       width=\"24px\">\n",
              "    <path d=\"M0 0h24v24H0V0z\" fill=\"none\"/>\n",
              "    <path d=\"M18.56 5.44l.94 2.06.94-2.06 2.06-.94-2.06-.94-.94-2.06-.94 2.06-2.06.94zm-11 1L8.5 8.5l.94-2.06 2.06-.94-2.06-.94L8.5 2.5l-.94 2.06-2.06.94zm10 10l.94 2.06.94-2.06 2.06-.94-2.06-.94-.94-2.06-.94 2.06-2.06.94z\"/><path d=\"M17.41 7.96l-1.37-1.37c-.4-.4-.92-.59-1.43-.59-.52 0-1.04.2-1.43.59L10.3 9.45l-7.72 7.72c-.78.78-.78 2.05 0 2.83L4 21.41c.39.39.9.59 1.41.59.51 0 1.02-.2 1.41-.59l7.78-7.78 2.81-2.81c.8-.78.8-2.07 0-2.86zM5.41 20L4 18.59l7.72-7.72 1.47 1.35L5.41 20z\"/>\n",
              "  </svg>\n",
              "      </button>\n",
              "      \n",
              "  <style>\n",
              "    .colab-df-container {\n",
              "      display:flex;\n",
              "      flex-wrap:wrap;\n",
              "      gap: 12px;\n",
              "    }\n",
              "\n",
              "    .colab-df-convert {\n",
              "      background-color: #E8F0FE;\n",
              "      border: none;\n",
              "      border-radius: 50%;\n",
              "      cursor: pointer;\n",
              "      display: none;\n",
              "      fill: #1967D2;\n",
              "      height: 32px;\n",
              "      padding: 0 0 0 0;\n",
              "      width: 32px;\n",
              "    }\n",
              "\n",
              "    .colab-df-convert:hover {\n",
              "      background-color: #E2EBFA;\n",
              "      box-shadow: 0px 1px 2px rgba(60, 64, 67, 0.3), 0px 1px 3px 1px rgba(60, 64, 67, 0.15);\n",
              "      fill: #174EA6;\n",
              "    }\n",
              "\n",
              "    [theme=dark] .colab-df-convert {\n",
              "      background-color: #3B4455;\n",
              "      fill: #D2E3FC;\n",
              "    }\n",
              "\n",
              "    [theme=dark] .colab-df-convert:hover {\n",
              "      background-color: #434B5C;\n",
              "      box-shadow: 0px 1px 3px 1px rgba(0, 0, 0, 0.15);\n",
              "      filter: drop-shadow(0px 1px 2px rgba(0, 0, 0, 0.3));\n",
              "      fill: #FFFFFF;\n",
              "    }\n",
              "  </style>\n",
              "\n",
              "      <script>\n",
              "        const buttonEl =\n",
              "          document.querySelector('#df-52f1b3bd-2a2d-49a1-81f4-1eb5a319b106 button.colab-df-convert');\n",
              "        buttonEl.style.display =\n",
              "          google.colab.kernel.accessAllowed ? 'block' : 'none';\n",
              "\n",
              "        async function convertToInteractive(key) {\n",
              "          const element = document.querySelector('#df-52f1b3bd-2a2d-49a1-81f4-1eb5a319b106');\n",
              "          const dataTable =\n",
              "            await google.colab.kernel.invokeFunction('convertToInteractive',\n",
              "                                                     [key], {});\n",
              "          if (!dataTable) return;\n",
              "\n",
              "          const docLinkHtml = 'Like what you see? Visit the ' +\n",
              "            '<a target=\"_blank\" href=https://colab.research.google.com/notebooks/data_table.ipynb>data table notebook</a>'\n",
              "            + ' to learn more about interactive tables.';\n",
              "          element.innerHTML = '';\n",
              "          dataTable['output_type'] = 'display_data';\n",
              "          await google.colab.output.renderOutput(dataTable, element);\n",
              "          const docLink = document.createElement('div');\n",
              "          docLink.innerHTML = docLinkHtml;\n",
              "          element.appendChild(docLink);\n",
              "        }\n",
              "      </script>\n",
              "    </div>\n",
              "  </div>\n",
              "  "
            ]
          },
          "metadata": {},
          "execution_count": 36
        }
      ],
      "source": [
        "dd[dd.Cluster == 1].sort_values(by=\"Disctint\", ascending=False)"
      ]
    },
    {
      "cell_type": "markdown",
      "metadata": {
        "id": "56y62EZglHGg"
      },
      "source": [
        "this variables are in the range of np.int16"
      ]
    },
    {
      "cell_type": "code",
      "execution_count": 37,
      "metadata": {
        "id": "3R_k6dvZlHGk",
        "outputId": "f4f065b0-b56d-4878-b797-e0be0c32639c",
        "colab": {
          "base_uri": "https://localhost:8080/"
        }
      },
      "outputs": [
        {
          "output_type": "execute_result",
          "data": {
            "text/plain": [
              "['approval_fiscal_year',\n",
              " 'created_jobs',\n",
              " 'retained_jobs',\n",
              " 'spected_term',\n",
              " 'employees']"
            ]
          },
          "metadata": {},
          "execution_count": 37
        }
      ],
      "source": [
        "ordinal_vars = list(dd[dd.Cluster == 1].sort_values(by=\"Disctint\", ascending=True)[dd['Disctint']>57].Variable)\n",
        "ordinal_vars"
      ]
    },
    {
      "cell_type": "code",
      "execution_count": 38,
      "metadata": {
        "id": "WKovPUvqlHGl",
        "outputId": "ce1801b9-2826-4329-c426-5af7cc497f12",
        "colab": {
          "base_uri": "https://localhost:8080/",
          "height": 104
        }
      },
      "outputs": [
        {
          "output_type": "display_data",
          "data": {
            "text/plain": [
              "<IPython.core.display.HTML object>"
            ],
            "text/html": [
              "<strong><a>approval_fiscal_year: Wow, i find an error!!!</a></strong>"
            ]
          },
          "metadata": {}
        },
        {
          "output_type": "display_data",
          "data": {
            "text/plain": [
              "<IPython.core.display.HTML object>"
            ],
            "text/html": [
              "<a>created_jobs: corrected</a>"
            ]
          },
          "metadata": {}
        },
        {
          "output_type": "display_data",
          "data": {
            "text/plain": [
              "<IPython.core.display.HTML object>"
            ],
            "text/html": [
              "<a>retained_jobs: corrected</a>"
            ]
          },
          "metadata": {}
        },
        {
          "output_type": "display_data",
          "data": {
            "text/plain": [
              "<IPython.core.display.HTML object>"
            ],
            "text/html": [
              "<a>spected_term: corrected</a>"
            ]
          },
          "metadata": {}
        },
        {
          "output_type": "display_data",
          "data": {
            "text/plain": [
              "<IPython.core.display.HTML object>"
            ],
            "text/html": [
              "<a>employees: corrected</a>"
            ]
          },
          "metadata": {}
        }
      ],
      "source": [
        "for i in ordinal_vars:\n",
        "    try:\n",
        "        df[i].astype(np.int16)\n",
        "        display(HTML('<a>'+i+': corrected</a>'))\n",
        "    except:\n",
        "        display(HTML('<strong><a>'+i+': Wow, i find an error!!!</a></strong>'))"
      ]
    },
    {
      "cell_type": "markdown",
      "metadata": {
        "id": "_bEydhc3lHGm"
      },
      "source": [
        "approval_fiscal_year have an error, i need to find the specific trouble"
      ]
    },
    {
      "cell_type": "code",
      "execution_count": 39,
      "metadata": {
        "id": "sjs4m9LXlHGn",
        "outputId": "a735f5bc-0563-4697-ee91-60b02547b24a",
        "colab": {
          "base_uri": "https://localhost:8080/"
        }
      },
      "outputs": [
        {
          "output_type": "stream",
          "name": "stdout",
          "text": [
            "<class 'pandas.core.series.Series'>\n",
            "RangeIndex: 899164 entries, 0 to 899163\n",
            "Series name: approval_fiscal_year\n",
            "Non-Null Count   Dtype \n",
            "--------------   ----- \n",
            "899164 non-null  object\n",
            "dtypes: object(1)\n",
            "memory usage: 6.9+ MB\n"
          ]
        }
      ],
      "source": [
        "df.approval_fiscal_year.info()"
      ]
    },
    {
      "cell_type": "code",
      "execution_count": 40,
      "metadata": {
        "id": "DH1Qt-NblHGo",
        "outputId": "28a3c4f9-7e1f-4b81-cec5-747b49083dc4",
        "colab": {
          "base_uri": "https://localhost:8080/"
        }
      },
      "outputs": [
        {
          "output_type": "stream",
          "name": "stdout",
          "text": [
            "1976A invalid literal for int() with base 10: '1976A'\n"
          ]
        }
      ],
      "source": [
        "for x in df.approval_fiscal_year.unique():\n",
        "    try:\n",
        "        np.int16(x)\n",
        "    except ValueError as fnf_error:\n",
        "        print(x, fnf_error)\n"
      ]
    },
    {
      "cell_type": "markdown",
      "metadata": {
        "id": "-6Rv0TlIlHGp"
      },
      "source": [
        "'1976A' is the error"
      ]
    },
    {
      "cell_type": "code",
      "execution_count": 41,
      "metadata": {
        "id": "emEoWJpylHGp"
      },
      "outputs": [],
      "source": [
        "df.approval_fiscal_year = df.approval_fiscal_year.replace('1976A',1976).astype(np.int16)"
      ]
    },
    {
      "cell_type": "code",
      "execution_count": 42,
      "metadata": {
        "id": "YLBN1gYolHGq",
        "outputId": "8707f8c5-d4d4-4add-c909-5329495aaa13",
        "colab": {
          "base_uri": "https://localhost:8080/"
        }
      },
      "outputs": [
        {
          "output_type": "stream",
          "name": "stdout",
          "text": [
            "size of dataset: 566.67 mb\n",
            "412.97 mb saved\n",
            "42.15% less vs original size\n"
          ]
        }
      ],
      "source": [
        "#mb of the dataset\n",
        "mb2 = sys.getsizeof(df)/1024/1024\n",
        "print('size of dataset:','{:.2f}'.format(mb2)+' mb')\n",
        "#\n",
        "print('{:.2f}'.format(mb-mb2)+' mb saved')\n",
        "print('{:.2f}'.format(100*(1.0-(mb2/float(mb))))+'% less vs original size')"
      ]
    },
    {
      "cell_type": "markdown",
      "metadata": {
        "id": "oji3fd5xlHGr"
      },
      "source": [
        "#### 3. Categorical Variables"
      ]
    },
    {
      "cell_type": "code",
      "execution_count": 43,
      "metadata": {
        "id": "KuIr8zYVlHGr",
        "outputId": "7c7e494d-3fae-4966-b796-19cf6eb82424",
        "colab": {
          "base_uri": "https://localhost:8080/"
        }
      },
      "outputs": [
        {
          "output_type": "execute_result",
          "data": {
            "text/plain": [
              "['bank_state',\n",
              " 'borrower_state',\n",
              " 'revolving_credit',\n",
              " 'gross_amount_outstanding',\n",
              " 'low_doc_loan',\n",
              " 'business_type',\n",
              " 'loan_status',\n",
              " 'urban']"
            ]
          },
          "metadata": {},
          "execution_count": 43
        }
      ],
      "source": [
        "categorical_vars = list(dd[dd.Cluster==1].sort_values(by=\"Disctint\", ascending=False)[dd['Disctint'] <58].Variable)\n",
        "categorical_vars"
      ]
    },
    {
      "cell_type": "markdown",
      "metadata": {
        "id": "MVSeKrxPlHGs"
      },
      "source": [
        "**bank_state**"
      ]
    },
    {
      "cell_type": "code",
      "execution_count": 44,
      "metadata": {
        "id": "lG5ZH0D1lHGt",
        "outputId": "de19fedf-c084-4d2d-bea5-72e00d387262",
        "colab": {
          "base_uri": "https://localhost:8080/"
        }
      },
      "outputs": [
        {
          "output_type": "stream",
          "name": "stdout",
          "text": [
            "<class 'pandas.core.series.Series'>\n",
            "RangeIndex: 899164 entries, 0 to 899163\n",
            "Series name: bank_state\n",
            "Non-Null Count   Dtype \n",
            "--------------   ----- \n",
            "897598 non-null  object\n",
            "dtypes: object(1)\n",
            "memory usage: 6.9+ MB\n"
          ]
        }
      ],
      "source": [
        "df.bank_state.info()"
      ]
    },
    {
      "cell_type": "code",
      "execution_count": 45,
      "metadata": {
        "id": "zU4BWgsdlHGt",
        "outputId": "5f00ba96-874c-4831-a73b-bda48b32b6a5",
        "colab": {
          "base_uri": "https://localhost:8080/"
        }
      },
      "outputs": [
        {
          "output_type": "stream",
          "name": "stdout",
          "text": [
            "57\n"
          ]
        },
        {
          "output_type": "execute_result",
          "data": {
            "text/plain": [
              "array(['OH', 'IN', 'OK', 'FL', 'DE', 'SD', 'AL', 'CT', 'GA', 'OR', 'MN',\n",
              "       'RI', 'NC', 'TX', 'MD', 'NY', 'TN', 'SC', 'MS', 'MA', 'LA', 'IA',\n",
              "       'VA', 'CA', 'IL', 'KY', 'PA', 'MO', 'WA', 'MI', 'UT', 'KS', 'WV',\n",
              "       'WI', 'AZ', 'NJ', 'CO', 'ME', 'NH', 'AR', 'ND', 'MT', 'ID', nan,\n",
              "       'WY', 'NM', 'DC', 'NV', 'NE', 'PR', 'HI', 'VT', 'AK', 'GU', 'AN',\n",
              "       'EN', 'VI'], dtype=object)"
            ]
          },
          "metadata": {},
          "execution_count": 45
        }
      ],
      "source": [
        "print(len(df['bank_state'].unique()))\n",
        "df['bank_state'].unique()"
      ]
    },
    {
      "cell_type": "code",
      "execution_count": 46,
      "metadata": {
        "id": "dFksp5IllHGu",
        "outputId": "6cdddc48-b234-4cf4-bc12-5451d2595e97",
        "colab": {
          "base_uri": "https://localhost:8080/"
        }
      },
      "outputs": [
        {
          "output_type": "execute_result",
          "data": {
            "text/plain": [
              "['borrower_state',\n",
              " 'revolving_credit',\n",
              " 'gross_amount_outstanding',\n",
              " 'low_doc_loan',\n",
              " 'business_type',\n",
              " 'loan_status',\n",
              " 'urban']"
            ]
          },
          "metadata": {},
          "execution_count": 46
        }
      ],
      "source": [
        "del categorical_vars[categorical_vars.index('bank_state')]\n",
        "categorical_vars"
      ]
    },
    {
      "cell_type": "markdown",
      "metadata": {
        "id": "loXr_T6LlHGu"
      },
      "source": [
        "**borrower_state**"
      ]
    },
    {
      "cell_type": "code",
      "execution_count": 47,
      "metadata": {
        "id": "erKAWAGklHGv",
        "outputId": "72bbdc17-98c6-406b-8811-eb804aeb7ca4",
        "colab": {
          "base_uri": "https://localhost:8080/"
        }
      },
      "outputs": [
        {
          "output_type": "stream",
          "name": "stdout",
          "text": [
            "<class 'pandas.core.series.Series'>\n",
            "RangeIndex: 899164 entries, 0 to 899163\n",
            "Series name: borrower_state\n",
            "Non-Null Count   Dtype \n",
            "--------------   ----- \n",
            "899150 non-null  object\n",
            "dtypes: object(1)\n",
            "memory usage: 6.9+ MB\n"
          ]
        }
      ],
      "source": [
        "df.borrower_state.info()"
      ]
    },
    {
      "cell_type": "code",
      "execution_count": 48,
      "metadata": {
        "id": "inhoc9WtlHGv",
        "outputId": "3adf6b4d-198b-4ef2-cfdb-9a5f47990014",
        "colab": {
          "base_uri": "https://localhost:8080/"
        }
      },
      "outputs": [
        {
          "output_type": "stream",
          "name": "stdout",
          "text": [
            "52\n"
          ]
        },
        {
          "output_type": "execute_result",
          "data": {
            "text/plain": [
              "array(['IN', 'OK', 'FL', 'CT', 'NJ', 'NC', 'IL', 'RI', 'TX', 'VA', 'TN',\n",
              "       'AR', 'MN', 'MO', 'MA', 'CA', 'SC', 'LA', 'IA', 'OH', 'KY', 'MS',\n",
              "       'NY', 'MD', 'PA', 'OR', 'ME', 'KS', 'MI', 'AK', 'WA', 'CO', 'MT',\n",
              "       'WY', 'UT', 'NH', 'WV', 'ID', 'AZ', 'NV', 'WI', 'NM', 'GA', 'ND',\n",
              "       'VT', 'AL', 'NE', 'SD', 'HI', 'DE', 'DC', nan], dtype=object)"
            ]
          },
          "metadata": {},
          "execution_count": 48
        }
      ],
      "source": [
        "print(len(df['borrower_state'].unique()))\n",
        "df['borrower_state'].unique()\n"
      ]
    },
    {
      "cell_type": "code",
      "execution_count": 49,
      "metadata": {
        "id": "3ICJ5yAalHGw",
        "outputId": "ef6ff825-7d03-4b00-8eab-f8f14da7c58d",
        "colab": {
          "base_uri": "https://localhost:8080/"
        }
      },
      "outputs": [
        {
          "output_type": "execute_result",
          "data": {
            "text/plain": [
              "['revolving_credit',\n",
              " 'gross_amount_outstanding',\n",
              " 'low_doc_loan',\n",
              " 'business_type',\n",
              " 'loan_status',\n",
              " 'urban']"
            ]
          },
          "metadata": {},
          "execution_count": 49
        }
      ],
      "source": [
        "del categorical_vars[categorical_vars.index('borrower_state')]\n",
        "categorical_vars"
      ]
    },
    {
      "cell_type": "markdown",
      "metadata": {
        "id": "PdMWIY6blHGw"
      },
      "source": [
        "**revolving_credit** \n",
        "\n",
        "in this variable 0 is none, then i normalize values to build a dummy variable"
      ]
    },
    {
      "cell_type": "code",
      "execution_count": 50,
      "metadata": {
        "id": "9h4ljGVtlHG0",
        "outputId": "5dba3799-c5a1-47b0-da54-cb4e6b09b1c3",
        "colab": {
          "base_uri": "https://localhost:8080/"
        }
      },
      "outputs": [
        {
          "output_type": "stream",
          "name": "stdout",
          "text": [
            "<class 'pandas.core.series.Series'>\n",
            "RangeIndex: 899164 entries, 0 to 899163\n",
            "Series name: revolving_credit\n",
            "Non-Null Count   Dtype \n",
            "--------------   ----- \n",
            "894636 non-null  object\n",
            "dtypes: object(1)\n",
            "memory usage: 6.9+ MB\n"
          ]
        }
      ],
      "source": [
        "df.revolving_credit.info()"
      ]
    },
    {
      "cell_type": "code",
      "execution_count": 51,
      "metadata": {
        "id": "8rkIEx6QlHG2",
        "outputId": "172a0509-fa06-4a4f-9d5c-97f0cc8ab53c",
        "colab": {
          "base_uri": "https://localhost:8080/"
        }
      },
      "outputs": [
        {
          "output_type": "execute_result",
          "data": {
            "text/plain": [
              "array(['N', '0', 'Y', 'T', nan, '`', ',', '1', 'C', '3', '2', 'R', '7',\n",
              "       'A', '5', '.', '4', '-', 'Q'], dtype=object)"
            ]
          },
          "metadata": {},
          "execution_count": 51
        }
      ],
      "source": [
        "df.revolving_credit.unique()"
      ]
    },
    {
      "cell_type": "markdown",
      "metadata": {
        "id": "INhrdOuRlHG2"
      },
      "source": [
        "revolving_credit: Data normalization"
      ]
    },
    {
      "cell_type": "code",
      "execution_count": 52,
      "metadata": {
        "id": "v98bkzh2lHG3"
      },
      "outputs": [],
      "source": [
        "df.revolving_credit = df.revolving_credit.replace('N',0)\n",
        "df.revolving_credit = df.revolving_credit.replace('0',0)\n",
        "df.revolving_credit = df.revolving_credit.replace('1',1)\n",
        "df.revolving_credit = df.revolving_credit.replace('Y',1)"
      ]
    },
    {
      "cell_type": "code",
      "execution_count": 53,
      "metadata": {
        "id": "0SpgZ4O4lHG4",
        "outputId": "d820e02f-b909-45e9-c6e2-bb2b9c3f872a",
        "colab": {
          "base_uri": "https://localhost:8080/"
        }
      },
      "outputs": [
        {
          "output_type": "execute_result",
          "data": {
            "text/plain": [
              "revolving_credit\n",
              "0    677890\n",
              "1    201420\n",
              ",         1\n",
              "-         1\n",
              ".         1\n",
              "2         6\n",
              "3         1\n",
              "4         1\n",
              "5         1\n",
              "7         1\n",
              "A         1\n",
              "C         2\n",
              "Q         1\n",
              "R        14\n",
              "T     15284\n",
              "`        11\n",
              "Name: id, dtype: int64"
            ]
          },
          "metadata": {},
          "execution_count": 53
        }
      ],
      "source": [
        "df.groupby(by='revolving_credit').agg('count')['id']"
      ]
    },
    {
      "cell_type": "markdown",
      "metadata": {
        "id": "mCCwPvyplHG5"
      },
      "source": [
        "        the distinc values aparently aren't significant, i will delete"
      ]
    },
    {
      "cell_type": "code",
      "execution_count": 54,
      "metadata": {
        "id": "gf_fl_0qlHG5"
      },
      "outputs": [],
      "source": [
        "df.revolving_credit = np.where(np.logical_or(df.revolving_credit == 0, df.revolving_credit == 1), df.revolving_credit, np.nan)"
      ]
    },
    {
      "cell_type": "markdown",
      "metadata": {
        "id": "9Kt8faMElHG6"
      },
      "source": [
        "verify"
      ]
    },
    {
      "cell_type": "code",
      "execution_count": 55,
      "metadata": {
        "id": "YkSH8ZRVlHG6",
        "outputId": "57dfd9d0-6fa2-494c-a0f9-b021dbbd217b",
        "colab": {
          "base_uri": "https://localhost:8080/"
        }
      },
      "outputs": [
        {
          "output_type": "execute_result",
          "data": {
            "text/plain": [
              "array([0, 1, nan], dtype=object)"
            ]
          },
          "metadata": {},
          "execution_count": 55
        }
      ],
      "source": [
        "df.revolving_credit.unique()"
      ]
    },
    {
      "cell_type": "code",
      "execution_count": 56,
      "metadata": {
        "id": "IqswupPUlHG7",
        "outputId": "5e34a4c2-9f44-46ae-de01-77df3a68f850",
        "colab": {
          "base_uri": "https://localhost:8080/"
        }
      },
      "outputs": [
        {
          "output_type": "execute_result",
          "data": {
            "text/plain": [
              "['revolving_credit',\n",
              " 'gross_amount_outstanding',\n",
              " 'low_doc_loan',\n",
              " 'business_type',\n",
              " 'loan_status',\n",
              " 'urban']"
            ]
          },
          "metadata": {},
          "execution_count": 56
        }
      ],
      "source": [
        "categorical_vars"
      ]
    },
    {
      "cell_type": "markdown",
      "metadata": {
        "id": "-_V-dCxBlHG8"
      },
      "source": [
        "**gross_amount_outstanding**\n",
        "\n",
        "This variable was treated as currency, now aparently is a categorical value"
      ]
    },
    {
      "cell_type": "code",
      "execution_count": 57,
      "metadata": {
        "id": "rbWonFP0lHG8",
        "outputId": "70bcfb25-f2ea-427e-ed9f-602a7912d104",
        "colab": {
          "base_uri": "https://localhost:8080/"
        }
      },
      "outputs": [
        {
          "output_type": "stream",
          "name": "stdout",
          "text": [
            "<class 'pandas.core.series.Series'>\n",
            "RangeIndex: 899164 entries, 0 to 899163\n",
            "Series name: gross_amount_outstanding\n",
            "Non-Null Count   Dtype  \n",
            "--------------   -----  \n",
            "899164 non-null  float64\n",
            "dtypes: float64(1)\n",
            "memory usage: 6.9 MB\n"
          ]
        }
      ],
      "source": [
        "df.gross_amount_outstanding.info()"
      ]
    },
    {
      "cell_type": "code",
      "execution_count": 58,
      "metadata": {
        "id": "GReOwUwVlHG9",
        "outputId": "983d76c9-94d3-4eaa-a689-1e433cff53d6",
        "colab": {
          "base_uri": "https://localhost:8080/"
        }
      },
      "outputs": [
        {
          "output_type": "stream",
          "name": "stdout",
          "text": [
            "15\n"
          ]
        },
        {
          "output_type": "execute_result",
          "data": {
            "text/plain": [
              "array([0.00000e+00, 1.27500e+04, 8.27875e+05, 2.50000e+04, 3.71000e+04,\n",
              "       4.31270e+04, 8.46170e+04, 1.76000e+03, 1.15820e+05, 9.96262e+05,\n",
              "       3.95476e+05, 4.15090e+04, 6.00000e+02, 9.11100e+03, 9.69080e+04])"
            ]
          },
          "metadata": {},
          "execution_count": 58
        }
      ],
      "source": [
        "print(len(df.gross_amount_outstanding.unique()))\n",
        "df.gross_amount_outstanding.unique()"
      ]
    },
    {
      "cell_type": "markdown",
      "metadata": {
        "id": "94ZrUKbMlHG9"
      },
      "source": [
        "Yes is a category"
      ]
    },
    {
      "cell_type": "code",
      "execution_count": 59,
      "metadata": {
        "id": "SODzfPFqlHG-",
        "outputId": "27a3413e-35cb-4112-a1a7-0fc33ef6e2c8",
        "colab": {
          "base_uri": "https://localhost:8080/"
        }
      },
      "outputs": [
        {
          "output_type": "execute_result",
          "data": {
            "text/plain": [
              "0         0.00000\n",
              "1     12750.00000\n",
              "2    827875.00000\n",
              "3     25000.00000\n",
              "4     37100.00000\n",
              "5     43127.00000\n",
              "6     84617.00000\n",
              "7      1760.00000\n",
              "8    115820.00000\n",
              "9    996262.00000\n",
              "10   395476.00000\n",
              "11    41509.00000\n",
              "12      600.00000\n",
              "13     9111.00000\n",
              "14    96908.00000\n",
              "dtype: float64"
            ]
          },
          "metadata": {},
          "execution_count": 59
        }
      ],
      "source": [
        "pd.Series(df.gross_amount_outstanding.unique())"
      ]
    },
    {
      "cell_type": "markdown",
      "metadata": {
        "id": "PqVRLmS4lHG_"
      },
      "source": [
        "aparently does need work"
      ]
    },
    {
      "cell_type": "code",
      "execution_count": 60,
      "metadata": {
        "id": "G814wXAPlHG_",
        "outputId": "eea766e4-7a13-407a-c47a-24015398ec0b",
        "colab": {
          "base_uri": "https://localhost:8080/"
        }
      },
      "outputs": [
        {
          "output_type": "execute_result",
          "data": {
            "text/plain": [
              "['revolving_credit', 'low_doc_loan', 'business_type', 'loan_status', 'urban']"
            ]
          },
          "metadata": {},
          "execution_count": 60
        }
      ],
      "source": [
        "del categorical_vars[categorical_vars.index('gross_amount_outstanding')]\n",
        "categorical_vars"
      ]
    },
    {
      "cell_type": "markdown",
      "metadata": {
        "id": "zepwq1NMlHG_"
      },
      "source": [
        "**low_doc_loan** LowDoc Loan Program: Y  Yes, N  No\n",
        "\n",
        "“LowDoc Loan” program was implemented where loans under $150,000 can be processed using a one-page application."
      ]
    },
    {
      "cell_type": "markdown",
      "metadata": {
        "id": "kv4mTThDlHHA"
      },
      "source": [
        "Si tiene una nota y es menor a 150,000 podemos inferir que si es low doc"
      ]
    },
    {
      "cell_type": "code",
      "execution_count": 61,
      "metadata": {
        "id": "3bsNjbTDlHHB",
        "outputId": "3b8be959-ae33-441a-86db-2672389177c9",
        "colab": {
          "base_uri": "https://localhost:8080/"
        }
      },
      "outputs": [
        {
          "output_type": "stream",
          "name": "stdout",
          "text": [
            "<class 'pandas.core.series.Series'>\n",
            "RangeIndex: 899164 entries, 0 to 899163\n",
            "Series name: low_doc_loan\n",
            "Non-Null Count   Dtype \n",
            "--------------   ----- \n",
            "896582 non-null  object\n",
            "dtypes: object(1)\n",
            "memory usage: 6.9+ MB\n"
          ]
        }
      ],
      "source": [
        "df.low_doc_loan.info()"
      ]
    },
    {
      "cell_type": "code",
      "execution_count": 62,
      "metadata": {
        "id": "JjtyMebqlHHE",
        "outputId": "1fe0beee-d994-45c0-ef57-763a84503272",
        "colab": {
          "base_uri": "https://localhost:8080/"
        }
      },
      "outputs": [
        {
          "output_type": "execute_result",
          "data": {
            "text/plain": [
              "array(['Y', 'N', 'C', '1', nan, 'S', 'R', 'A', '0'], dtype=object)"
            ]
          },
          "metadata": {},
          "execution_count": 62
        }
      ],
      "source": [
        "df.low_doc_loan.unique()"
      ]
    },
    {
      "cell_type": "code",
      "execution_count": 63,
      "metadata": {
        "id": "_dbA1pnGlHHG"
      },
      "outputs": [],
      "source": [
        "df.low_doc_loan = df.low_doc_loan.replace('Y',1)\n",
        "df.low_doc_loan = df.low_doc_loan.replace('N',0)"
      ]
    },
    {
      "cell_type": "code",
      "execution_count": 64,
      "metadata": {
        "id": "0fF2rrH8lHHH"
      },
      "outputs": [],
      "source": [
        "df.low_doc_loan=df.low_doc_loan.fillna('NA')"
      ]
    },
    {
      "cell_type": "code",
      "execution_count": 65,
      "metadata": {
        "id": "n4FkXfeOlHHI"
      },
      "outputs": [],
      "source": [
        "'''\n",
        "low_doc_loan normalization through formal proofs\n",
        "================================================\n",
        "\n",
        "This can be a bit confusing rather than tricky but faster than a loop,\n",
        "the loop can be an computational approach to building the problem:\n",
        "\n",
        "chng=[]\n",
        "for i in df.index:\n",
        "    # if the cell have a normalized value then the value\n",
        "    if df.low_doc_loan[i] == 1 or df.low_doc_loan[i] == 0 or df.low_doc_loan[i] == 'NA':\n",
        "        chng.append(df.low_doc_loan[i])\n",
        "    # if the cell have an unkwnow value and is less than 150,000 then 1\n",
        "    elif ((df.low_doc_loan[i] == 'C') | (df.low_doc_loan[i] == 'S') | (df.low_doc_loan[i] == 'R') | (df.low_doc_loan[i] == 'A')) | (df.gross_amount_approved[i] < 150000):\n",
        "        chng.append(1)\n",
        "    # else 0\n",
        "    else:\n",
        "        chng.append(0)\n",
        "\n",
        "derived from that, we can see three formal proofs to be analyzed with numpy \n",
        "for fastest resolution. The average speed for looping is 450 seg, and 1.05\n",
        "for numpy logical proofs\n",
        "'''\n",
        "#logical proofs:\n",
        "#\n",
        "# low_doc_loan is 1,0 or NA (normalized values)\n",
        "formal_proof_one =  np.logical_or(\n",
        "                            np.logical_or(\n",
        "                                df.low_doc_loan == 0, df.low_doc_loan == 1),\n",
        "                                df.low_doc_loan == 'NA'\n",
        "                            )\n",
        "#\n",
        "# low_doc_loan is C,S,R or A (observed values)\n",
        "formal_proof_two=   np.logical_or(\n",
        "                                df.low_doc_loan == '0',\n",
        "                                np.logical_or(\n",
        "                                    df.low_doc_loan == '1',\n",
        "                                    np.logical_or(\n",
        "                                        np.logical_or(\n",
        "                                            np.logical_or(\n",
        "                                                df.low_doc_loan == 'C',\n",
        "                                                df.low_doc_loan == 'S'\n",
        "                                                ), #Or\n",
        "                                            df.low_doc_loan == 'R'\n",
        "                                            ), #Or\n",
        "                                        df.low_doc_loan == 'A'\n",
        "                                        ) #Or\n",
        "                                )\n",
        "                    )\n",
        "#\n",
        "# low_doc_loan is C,S,R or A (observed values) and bellow the legal limit\n",
        "formal_proof_three = np.logical_and(formal_proof_two, df.gross_amount_approved < 150000.0)\n"
      ]
    },
    {
      "cell_type": "code",
      "execution_count": 66,
      "metadata": {
        "id": "5wZQR5hxlHHJ"
      },
      "outputs": [],
      "source": [
        "# if formal proof...\n",
        "#If low_doc_loan is 1,0 or NA (normalized values) preserve, else...\n",
        "# low_doc_loan == 1 if C,S,R or A (observed values) and below the legal limit\n",
        "# low_doc_loan == 0 if C,S,R or A (observed values) and cross the legal limit\n",
        "df.low_doc_loan =   np.where(formal_proof_one, df.low_doc_loan,\n",
        "                            np.where(formal_proof_three, 1,\n",
        "                                    np.where(formal_proof_two, 0, df.low_doc_loan)\n",
        "                            )\n",
        ")"
      ]
    },
    {
      "cell_type": "code",
      "execution_count": 67,
      "metadata": {
        "id": "9UVMbd15lHHK"
      },
      "outputs": [],
      "source": [
        "# Converting nan values\n",
        "df.low_doc_loan = df.low_doc_loan.replace('NA',np.nan)"
      ]
    },
    {
      "cell_type": "code",
      "execution_count": 68,
      "metadata": {
        "id": "bw8wM4PRlHHK",
        "outputId": "728df342-1f01-4e6d-df9d-b94c4294ab0e",
        "colab": {
          "base_uri": "https://localhost:8080/"
        }
      },
      "outputs": [
        {
          "output_type": "execute_result",
          "data": {
            "text/plain": [
              "array([ 1.,  0., nan])"
            ]
          },
          "metadata": {},
          "execution_count": 68
        }
      ],
      "source": [
        "# Verification\n",
        "df.low_doc_loan.unique()"
      ]
    },
    {
      "cell_type": "code",
      "execution_count": 69,
      "metadata": {
        "id": "h1n9FCMPlHHL",
        "outputId": "5c2c8a9b-019f-438d-d95c-067ee4285039",
        "colab": {
          "base_uri": "https://localhost:8080/"
        }
      },
      "outputs": [
        {
          "output_type": "execute_result",
          "data": {
            "text/plain": [
              "['revolving_credit', 'business_type', 'loan_status', 'urban']"
            ]
          },
          "metadata": {},
          "execution_count": 69
        }
      ],
      "source": [
        "# Calculates next var to work\n",
        "del categorical_vars[categorical_vars.index('low_doc_loan')]\n",
        "categorical_vars"
      ]
    },
    {
      "cell_type": "markdown",
      "metadata": {
        "id": "gDmEaShdlHHM"
      },
      "source": [
        "**business_type** is new?"
      ]
    },
    {
      "cell_type": "code",
      "execution_count": 70,
      "metadata": {
        "id": "9BOm3gdllHHQ",
        "outputId": "9660e525-b095-46e5-de78-5aab118b7745",
        "colab": {
          "base_uri": "https://localhost:8080/"
        }
      },
      "outputs": [
        {
          "output_type": "stream",
          "name": "stdout",
          "text": [
            "<class 'pandas.core.series.Series'>\n",
            "RangeIndex: 899164 entries, 0 to 899163\n",
            "Series name: business_type\n",
            "Non-Null Count   Dtype  \n",
            "--------------   -----  \n",
            "899028 non-null  float64\n",
            "dtypes: float64(1)\n",
            "memory usage: 6.9 MB\n"
          ]
        }
      ],
      "source": [
        "df.business_type.info()"
      ]
    },
    {
      "cell_type": "code",
      "execution_count": 71,
      "metadata": {
        "id": "sfpTFezMlHHb"
      },
      "outputs": [],
      "source": [
        "# rename\n",
        "df['new_business'] = df['business_type']\n",
        "df =  df.drop(columns=['business_type'])"
      ]
    },
    {
      "cell_type": "code",
      "execution_count": 72,
      "metadata": {
        "id": "h1-uDZsglHHc",
        "outputId": "4685cc46-c868-4a5d-88c8-0b98ae0cd992",
        "colab": {
          "base_uri": "https://localhost:8080/"
        }
      },
      "outputs": [
        {
          "output_type": "execute_result",
          "data": {
            "text/plain": [
              "array([ 2.,  1.,  0., nan])"
            ]
          },
          "metadata": {},
          "execution_count": 72
        }
      ],
      "source": [
        "# explore values\n",
        "df.new_business.unique()"
      ]
    },
    {
      "cell_type": "code",
      "execution_count": 73,
      "metadata": {
        "id": "kTrOxC5blHHd"
      },
      "outputs": [],
      "source": [
        "# \n",
        "df.new_business=df.new_business.replace(0,np.nan)"
      ]
    },
    {
      "cell_type": "code",
      "execution_count": 74,
      "metadata": {
        "id": "QFWiAUAdlHHe"
      },
      "outputs": [],
      "source": [
        "df.new_business=df.new_business.replace(1,0)\n",
        "df.new_business=df.new_business.replace(2,1)"
      ]
    },
    {
      "cell_type": "code",
      "execution_count": 75,
      "metadata": {
        "id": "KIT2MBVylHHe",
        "outputId": "8834b770-a0b3-45e6-9ae0-7bef3a7058ea",
        "colab": {
          "base_uri": "https://localhost:8080/"
        }
      },
      "outputs": [
        {
          "output_type": "execute_result",
          "data": {
            "text/plain": [
              "array([ 1.,  0., nan])"
            ]
          },
          "metadata": {},
          "execution_count": 75
        }
      ],
      "source": [
        "df.new_business.unique()"
      ]
    },
    {
      "cell_type": "code",
      "execution_count": 76,
      "metadata": {
        "id": "jMCF6lMFlHHg",
        "outputId": "78c00b36-0e82-49e6-8e24-8648cf73c555",
        "colab": {
          "base_uri": "https://localhost:8080/"
        }
      },
      "outputs": [
        {
          "output_type": "execute_result",
          "data": {
            "text/plain": [
              "['revolving_credit', 'loan_status', 'urban']"
            ]
          },
          "metadata": {},
          "execution_count": 76
        }
      ],
      "source": [
        "del categorical_vars[categorical_vars.index('business_type')]\n",
        "categorical_vars"
      ]
    },
    {
      "cell_type": "markdown",
      "metadata": {
        "id": "CHWKWRjRlHHi"
      },
      "source": [
        "**urban** in this variable 0 is null, then i substitute to build a dummy variable"
      ]
    },
    {
      "cell_type": "code",
      "execution_count": 77,
      "metadata": {
        "id": "5kA6pBtxlHHi",
        "outputId": "5f4d3868-7a83-4ac5-88f0-756eee024cef",
        "colab": {
          "base_uri": "https://localhost:8080/"
        }
      },
      "outputs": [
        {
          "output_type": "stream",
          "name": "stdout",
          "text": [
            "<class 'pandas.core.series.Series'>\n",
            "RangeIndex: 899164 entries, 0 to 899163\n",
            "Series name: urban\n",
            "Non-Null Count   Dtype\n",
            "--------------   -----\n",
            "899164 non-null  int64\n",
            "dtypes: int64(1)\n",
            "memory usage: 6.9 MB\n"
          ]
        }
      ],
      "source": [
        "df.urban.info()"
      ]
    },
    {
      "cell_type": "code",
      "execution_count": 78,
      "metadata": {
        "id": "Jq1UKXiYlHHm",
        "outputId": "4d3a889e-a44b-4f22-e2ee-7baf927fe73a",
        "colab": {
          "base_uri": "https://localhost:8080/"
        }
      },
      "outputs": [
        {
          "output_type": "execute_result",
          "data": {
            "text/plain": [
              "array([0, 1, 2])"
            ]
          },
          "metadata": {},
          "execution_count": 78
        }
      ],
      "source": [
        "df.urban.unique()"
      ]
    },
    {
      "cell_type": "markdown",
      "source": [
        "original: 1 == Urban, 2 == rural, 0 == undefined\n",
        "\n",
        "Convert by hot encoding"
      ],
      "metadata": {
        "id": "Bf-ug0D1n1Fg"
      }
    },
    {
      "cell_type": "code",
      "execution_count": 79,
      "metadata": {
        "id": "aGFLurURlHHn"
      },
      "outputs": [],
      "source": [
        "df.urban = df.urban.replace(0,np.nan)\n",
        "df.urban = df.urban.replace(2,0)"
      ]
    },
    {
      "cell_type": "code",
      "execution_count": 80,
      "metadata": {
        "id": "5vC710bilHHn",
        "outputId": "3ffdf1d4-8289-44a3-ff6d-6ef4f81686ee",
        "colab": {
          "base_uri": "https://localhost:8080/"
        }
      },
      "outputs": [
        {
          "output_type": "execute_result",
          "data": {
            "text/plain": [
              "array([nan,  1.,  0.])"
            ]
          },
          "metadata": {},
          "execution_count": 80
        }
      ],
      "source": [
        "df.urban.unique()"
      ]
    },
    {
      "cell_type": "code",
      "execution_count": 81,
      "metadata": {
        "id": "P_Gz7SFulHHo",
        "outputId": "fb66a0ce-ed4d-4723-8da0-1cf871505762",
        "colab": {
          "base_uri": "https://localhost:8080/"
        }
      },
      "outputs": [
        {
          "output_type": "execute_result",
          "data": {
            "text/plain": [
              "['revolving_credit', 'loan_status']"
            ]
          },
          "metadata": {},
          "execution_count": 81
        }
      ],
      "source": [
        "del categorical_vars[categorical_vars.index('urban')]\n",
        "categorical_vars"
      ]
    },
    {
      "cell_type": "markdown",
      "metadata": {
        "id": "FthllJq3lHHq"
      },
      "source": [
        "**loan_status** \n",
        "\n",
        "Loan status charged off D CHGOFF, Paid in full D PIF\n"
      ]
    },
    {
      "cell_type": "code",
      "execution_count": 82,
      "metadata": {
        "id": "_eVq3D5elHHq",
        "outputId": "2e7444de-a3ab-4efa-a937-87c0365f8621",
        "colab": {
          "base_uri": "https://localhost:8080/"
        }
      },
      "outputs": [
        {
          "output_type": "stream",
          "name": "stdout",
          "text": [
            "<class 'pandas.core.series.Series'>\n",
            "RangeIndex: 899164 entries, 0 to 899163\n",
            "Series name: loan_status\n",
            "Non-Null Count   Dtype \n",
            "--------------   ----- \n",
            "897167 non-null  object\n",
            "dtypes: object(1)\n",
            "memory usage: 6.9+ MB\n"
          ]
        }
      ],
      "source": [
        "df.loan_status.info()"
      ]
    },
    {
      "cell_type": "code",
      "execution_count": 83,
      "metadata": {
        "id": "OlP2csB2lHHq",
        "outputId": "d3a8537c-f2c5-4076-8522-243b5df196e2",
        "colab": {
          "base_uri": "https://localhost:8080/"
        }
      },
      "outputs": [
        {
          "output_type": "execute_result",
          "data": {
            "text/plain": [
              "array(['P I F', 'CHGOFF', nan], dtype=object)"
            ]
          },
          "metadata": {},
          "execution_count": 83
        }
      ],
      "source": [
        "df.loan_status.unique()"
      ]
    },
    {
      "cell_type": "code",
      "execution_count": 84,
      "metadata": {
        "id": "Q4LW78NblHHs"
      },
      "outputs": [],
      "source": [
        "df = df.replace('P I F','PIF')"
      ]
    },
    {
      "cell_type": "code",
      "execution_count": 85,
      "metadata": {
        "id": "f9_v4YtMlHHs",
        "outputId": "b75aa289-d4c3-4eb5-d17b-03c9ce94da28",
        "colab": {
          "base_uri": "https://localhost:8080/"
        }
      },
      "outputs": [
        {
          "output_type": "execute_result",
          "data": {
            "text/plain": [
              "array(['PIF', 'CHGOFF', nan], dtype=object)"
            ]
          },
          "metadata": {},
          "execution_count": 85
        }
      ],
      "source": [
        "df.loan_status.unique()"
      ]
    },
    {
      "cell_type": "markdown",
      "metadata": {
        "id": "RxrCQY9dlHHt"
      },
      "source": [
        "\n",
        "review what means loan status and create a dummy variable"
      ]
    },
    {
      "cell_type": "markdown",
      "metadata": {
        "id": "X5TxgFLElHHt"
      },
      "source": [
        "#### 4. Dataset inspection"
      ]
    },
    {
      "cell_type": "code",
      "execution_count": 86,
      "metadata": {
        "id": "aiZ0iNbplHHu",
        "outputId": "eed244dd-b460-4fec-e237-3a9ef61fbdad",
        "colab": {
          "base_uri": "https://localhost:8080/"
        }
      },
      "outputs": [
        {
          "output_type": "stream",
          "name": "stdout",
          "text": [
            "size of dataset: 479.69 mb\n",
            "499.95 mb saved\n",
            "51.03% less vs original size\n"
          ]
        }
      ],
      "source": [
        "#mb of the dataset\n",
        "mb3 = sys.getsizeof(df)/1024/1024\n",
        "print('size of dataset:','{:.2f}'.format(mb3)+' mb')\n",
        "#\n",
        "print('{:.2f}'.format(mb-mb3)+' mb saved')\n",
        "print('{:.2f}'.format(100*(1.0-(mb3/float(mb))))+'% less vs original size')"
      ]
    },
    {
      "cell_type": "code",
      "execution_count": 87,
      "metadata": {
        "id": "fUXgCITjlHHu",
        "outputId": "6564480b-c26a-43d5-a119-e3b658a7741f",
        "colab": {
          "base_uri": "https://localhost:8080/"
        }
      },
      "outputs": [
        {
          "output_type": "stream",
          "name": "stdout",
          "text": [
            "<class 'pandas.core.frame.DataFrame'>\n",
            "RangeIndex: 899164 entries, 0 to 899163\n",
            "Data columns (total 27 columns):\n",
            " #   Column                    Non-Null Count   Dtype         \n",
            "---  ------                    --------------   -----         \n",
            " 0   id                        899164 non-null  int64         \n",
            " 1   borrower_name             899150 non-null  object        \n",
            " 2   borrower_city             899134 non-null  object        \n",
            " 3   borrower_state            899150 non-null  object        \n",
            " 4   borrower_zip              899164 non-null  int64         \n",
            " 5   bank_name                 897605 non-null  object        \n",
            " 6   bank_state                897598 non-null  object        \n",
            " 7   naic                      899164 non-null  int64         \n",
            " 8   approval_date             899164 non-null  datetime64[ns]\n",
            " 9   approval_fiscal_year      899164 non-null  int16         \n",
            " 10  spected_term              899164 non-null  int64         \n",
            " 11  employees                 899164 non-null  int64         \n",
            " 12  created_jobs              899164 non-null  int64         \n",
            " 13  retained_jobs             899164 non-null  int64         \n",
            " 14  franchise                 899164 non-null  int16         \n",
            " 15  urban                     575997 non-null  float64       \n",
            " 16  revolving_credit          879310 non-null  float64       \n",
            " 17  low_doc_loan              896582 non-null  float64       \n",
            " 18  default_date              162699 non-null  datetime64[ns]\n",
            " 19  disbursement_date         896796 non-null  datetime64[ns]\n",
            " 20  amount_disbursed          899164 non-null  float64       \n",
            " 21  gross_amount_outstanding  899164 non-null  float64       \n",
            " 22  loan_status               897167 non-null  object        \n",
            " 23  charged_off_amount        899164 non-null  float64       \n",
            " 24  gross_amount_approved     899164 non-null  float64       \n",
            " 25  guaranteed_sba            899164 non-null  float64       \n",
            " 26  new_business              897994 non-null  float64       \n",
            "dtypes: datetime64[ns](3), float64(9), int16(2), int64(7), object(6)\n",
            "memory usage: 174.9+ MB\n"
          ]
        }
      ],
      "source": [
        "df.info()"
      ]
    },
    {
      "cell_type": "code",
      "execution_count": 88,
      "metadata": {
        "id": "zkBDaK4ZlHHv",
        "outputId": "55acf58c-45b8-40a7-dad7-246c882c305b",
        "colab": {
          "base_uri": "https://localhost:8080/",
          "height": 958
        }
      },
      "outputs": [
        {
          "output_type": "execute_result",
          "data": {
            "text/plain": [
              "                                count  unique                         top  \\\n",
              "id                       899164.00000     NaN                         NaN   \n",
              "borrower_name                  899150  779583                      SUBWAY   \n",
              "borrower_city                  899134   32581                 LOS ANGELES   \n",
              "borrower_state                 899150      51                          CA   \n",
              "borrower_zip             899164.00000     NaN                         NaN   \n",
              "bank_name                      897605    5802  BANK OF AMERICA NATL ASSOC   \n",
              "bank_state                     897598      56                          CA   \n",
              "naic                     899164.00000     NaN                         NaN   \n",
              "approval_date                  899164    9859         1993-07-07 00:00:00   \n",
              "approval_fiscal_year     899164.00000     NaN                         NaN   \n",
              "spected_term             899164.00000     NaN                         NaN   \n",
              "employees                899164.00000     NaN                         NaN   \n",
              "created_jobs             899164.00000     NaN                         NaN   \n",
              "retained_jobs            899164.00000     NaN                         NaN   \n",
              "franchise                899164.00000     NaN                         NaN   \n",
              "urban                    575997.00000     NaN                         NaN   \n",
              "revolving_credit         879310.00000     NaN                         NaN   \n",
              "low_doc_loan             896582.00000     NaN                         NaN   \n",
              "default_date                   162699    6448         2010-03-13 00:00:00   \n",
              "disbursement_date              896796    8472         1995-07-31 00:00:00   \n",
              "amount_disbursed         899164.00000     NaN                         NaN   \n",
              "gross_amount_outstanding 899164.00000     NaN                         NaN   \n",
              "loan_status                    897167       2                         PIF   \n",
              "charged_off_amount       899164.00000     NaN                         NaN   \n",
              "gross_amount_approved    899164.00000     NaN                         NaN   \n",
              "guaranteed_sba           899164.00000     NaN                         NaN   \n",
              "new_business             897994.00000     NaN                         NaN   \n",
              "\n",
              "                            freq      first       last             mean  \\\n",
              "id                           NaN        NaT        NaT 4772612310.59431   \n",
              "borrower_name               1269        NaT        NaT              NaN   \n",
              "borrower_city              11558        NaT        NaT              NaN   \n",
              "borrower_state            130619        NaT        NaT              NaN   \n",
              "borrower_zip                 NaN        NaT        NaT      53804.39124   \n",
              "bank_name                  86853        NaT        NaT              NaN   \n",
              "bank_state                118116        NaT        NaT              NaN   \n",
              "naic                         NaN        NaT        NaT     398660.95015   \n",
              "approval_date               1131 1973-02-06 2072-12-08              NaN   \n",
              "approval_fiscal_year         NaN        NaT        NaT       2001.14356   \n",
              "spected_term                 NaN        NaT        NaT        110.77308   \n",
              "employees                    NaN        NaT        NaT         11.41135   \n",
              "created_jobs                 NaN        NaT        NaT          8.43038   \n",
              "retained_jobs                NaN        NaT        NaT         10.79726   \n",
              "franchise                    NaN        NaT        NaT        246.75695   \n",
              "urban                        NaN        NaT        NaT          0.81711   \n",
              "revolving_credit             NaN        NaT        NaT          0.22907   \n",
              "low_doc_loan                 NaN        NaT        NaT          0.12470   \n",
              "default_date                 734 1988-10-03 2026-10-22              NaN   \n",
              "disbursement_date          10371 1973-01-03 2072-12-27              NaN   \n",
              "amount_disbursed             NaN        NaT        NaT     201154.01673   \n",
              "gross_amount_outstanding     NaN        NaT        NaT          2.98935   \n",
              "loan_status               739609        NaT        NaT              NaN   \n",
              "charged_off_amount           NaN        NaT        NaT      13503.29513   \n",
              "gross_amount_approved        NaN        NaT        NaT     192686.97638   \n",
              "guaranteed_sba               NaN        NaT        NaT     149488.78818   \n",
              "new_business                 NaN        NaT        NaT          0.28188   \n",
              "\n",
              "                                      std              min              25%  \\\n",
              "id                       2538175037.45304 1000014003.00000 2589757508.50000   \n",
              "borrower_name                         NaN              NaN              NaN   \n",
              "borrower_city                         NaN              NaN              NaN   \n",
              "borrower_state                        NaN              NaN              NaN   \n",
              "borrower_zip                  31184.15915          0.00000      27587.00000   \n",
              "bank_name                             NaN              NaN              NaN   \n",
              "bank_state                            NaN              NaN              NaN   \n",
              "naic                         263318.31276          0.00000     235210.00000   \n",
              "approval_date                         NaN              NaN              NaN   \n",
              "approval_fiscal_year              5.91385       1962.00000       1997.00000   \n",
              "spected_term                     78.85731          0.00000         60.00000   \n",
              "employees                        74.10820          0.00000          2.00000   \n",
              "created_jobs                    236.68817          0.00000          0.00000   \n",
              "retained_jobs                   237.12060          0.00000          0.00000   \n",
              "franchise                      4047.56809     -32411.00000          0.00000   \n",
              "urban                             0.38658          0.00000          1.00000   \n",
              "revolving_credit                  0.42023          0.00000          0.00000   \n",
              "low_doc_loan                      0.33038          0.00000          0.00000   \n",
              "default_date                          NaN              NaN              NaN   \n",
              "disbursement_date                     NaN              NaN              NaN   \n",
              "amount_disbursed             287640.84999          0.00000      42000.00000   \n",
              "gross_amount_outstanding       1442.16191          0.00000          0.00000   \n",
              "loan_status                           NaN              NaN              NaN   \n",
              "charged_off_amount            65152.29269          0.00000          0.00000   \n",
              "gross_amount_approved        283263.39130        200.00000      35000.00000   \n",
              "guaranteed_sba               228414.56152        100.00000      21250.00000   \n",
              "new_business                      0.44991          0.00000          0.00000   \n",
              "\n",
              "                                      50%              75%              max  \n",
              "id                       4361439006.00000 6904626504.75000 9996003010.00000  \n",
              "borrower_name                         NaN              NaN              NaN  \n",
              "borrower_city                         NaN              NaN              NaN  \n",
              "borrower_state                        NaN              NaN              NaN  \n",
              "borrower_zip                  55410.00000      83704.00000      99999.00000  \n",
              "bank_name                             NaN              NaN              NaN  \n",
              "bank_state                            NaN              NaN              NaN  \n",
              "naic                         445310.00000     561730.00000     928120.00000  \n",
              "approval_date                         NaN              NaN              NaN  \n",
              "approval_fiscal_year           2002.00000       2006.00000       2014.00000  \n",
              "spected_term                     84.00000        120.00000        569.00000  \n",
              "employees                         4.00000         10.00000       9999.00000  \n",
              "created_jobs                      0.00000          1.00000       8800.00000  \n",
              "retained_jobs                     1.00000          4.00000       9500.00000  \n",
              "franchise                         1.00000          1.00000      32418.00000  \n",
              "urban                             1.00000          1.00000          1.00000  \n",
              "revolving_credit                  0.00000          0.00000          1.00000  \n",
              "low_doc_loan                      0.00000          0.00000          1.00000  \n",
              "default_date                          NaN              NaN              NaN  \n",
              "disbursement_date                     NaN              NaN              NaN  \n",
              "amount_disbursed             100000.00000     238000.00000   11446325.00000  \n",
              "gross_amount_outstanding          0.00000          0.00000     996262.00000  \n",
              "loan_status                           NaN              NaN              NaN  \n",
              "charged_off_amount                0.00000          0.00000    3512596.00000  \n",
              "gross_amount_approved         90000.00000     225000.00000    5472000.00000  \n",
              "guaranteed_sba                61250.00000     175000.00000    5472000.00000  \n",
              "new_business                      0.00000          1.00000          1.00000  "
            ],
            "text/html": [
              "\n",
              "  <div id=\"df-5ca49d0a-bf32-4371-9f4d-b7561672231a\">\n",
              "    <div class=\"colab-df-container\">\n",
              "      <div>\n",
              "<style scoped>\n",
              "    .dataframe tbody tr th:only-of-type {\n",
              "        vertical-align: middle;\n",
              "    }\n",
              "\n",
              "    .dataframe tbody tr th {\n",
              "        vertical-align: top;\n",
              "    }\n",
              "\n",
              "    .dataframe thead th {\n",
              "        text-align: right;\n",
              "    }\n",
              "</style>\n",
              "<table border=\"1\" class=\"dataframe\">\n",
              "  <thead>\n",
              "    <tr style=\"text-align: right;\">\n",
              "      <th></th>\n",
              "      <th>count</th>\n",
              "      <th>unique</th>\n",
              "      <th>top</th>\n",
              "      <th>freq</th>\n",
              "      <th>first</th>\n",
              "      <th>last</th>\n",
              "      <th>mean</th>\n",
              "      <th>std</th>\n",
              "      <th>min</th>\n",
              "      <th>25%</th>\n",
              "      <th>50%</th>\n",
              "      <th>75%</th>\n",
              "      <th>max</th>\n",
              "    </tr>\n",
              "  </thead>\n",
              "  <tbody>\n",
              "    <tr>\n",
              "      <th>id</th>\n",
              "      <td>899164.00000</td>\n",
              "      <td>NaN</td>\n",
              "      <td>NaN</td>\n",
              "      <td>NaN</td>\n",
              "      <td>NaT</td>\n",
              "      <td>NaT</td>\n",
              "      <td>4772612310.59431</td>\n",
              "      <td>2538175037.45304</td>\n",
              "      <td>1000014003.00000</td>\n",
              "      <td>2589757508.50000</td>\n",
              "      <td>4361439006.00000</td>\n",
              "      <td>6904626504.75000</td>\n",
              "      <td>9996003010.00000</td>\n",
              "    </tr>\n",
              "    <tr>\n",
              "      <th>borrower_name</th>\n",
              "      <td>899150</td>\n",
              "      <td>779583</td>\n",
              "      <td>SUBWAY</td>\n",
              "      <td>1269</td>\n",
              "      <td>NaT</td>\n",
              "      <td>NaT</td>\n",
              "      <td>NaN</td>\n",
              "      <td>NaN</td>\n",
              "      <td>NaN</td>\n",
              "      <td>NaN</td>\n",
              "      <td>NaN</td>\n",
              "      <td>NaN</td>\n",
              "      <td>NaN</td>\n",
              "    </tr>\n",
              "    <tr>\n",
              "      <th>borrower_city</th>\n",
              "      <td>899134</td>\n",
              "      <td>32581</td>\n",
              "      <td>LOS ANGELES</td>\n",
              "      <td>11558</td>\n",
              "      <td>NaT</td>\n",
              "      <td>NaT</td>\n",
              "      <td>NaN</td>\n",
              "      <td>NaN</td>\n",
              "      <td>NaN</td>\n",
              "      <td>NaN</td>\n",
              "      <td>NaN</td>\n",
              "      <td>NaN</td>\n",
              "      <td>NaN</td>\n",
              "    </tr>\n",
              "    <tr>\n",
              "      <th>borrower_state</th>\n",
              "      <td>899150</td>\n",
              "      <td>51</td>\n",
              "      <td>CA</td>\n",
              "      <td>130619</td>\n",
              "      <td>NaT</td>\n",
              "      <td>NaT</td>\n",
              "      <td>NaN</td>\n",
              "      <td>NaN</td>\n",
              "      <td>NaN</td>\n",
              "      <td>NaN</td>\n",
              "      <td>NaN</td>\n",
              "      <td>NaN</td>\n",
              "      <td>NaN</td>\n",
              "    </tr>\n",
              "    <tr>\n",
              "      <th>borrower_zip</th>\n",
              "      <td>899164.00000</td>\n",
              "      <td>NaN</td>\n",
              "      <td>NaN</td>\n",
              "      <td>NaN</td>\n",
              "      <td>NaT</td>\n",
              "      <td>NaT</td>\n",
              "      <td>53804.39124</td>\n",
              "      <td>31184.15915</td>\n",
              "      <td>0.00000</td>\n",
              "      <td>27587.00000</td>\n",
              "      <td>55410.00000</td>\n",
              "      <td>83704.00000</td>\n",
              "      <td>99999.00000</td>\n",
              "    </tr>\n",
              "    <tr>\n",
              "      <th>bank_name</th>\n",
              "      <td>897605</td>\n",
              "      <td>5802</td>\n",
              "      <td>BANK OF AMERICA NATL ASSOC</td>\n",
              "      <td>86853</td>\n",
              "      <td>NaT</td>\n",
              "      <td>NaT</td>\n",
              "      <td>NaN</td>\n",
              "      <td>NaN</td>\n",
              "      <td>NaN</td>\n",
              "      <td>NaN</td>\n",
              "      <td>NaN</td>\n",
              "      <td>NaN</td>\n",
              "      <td>NaN</td>\n",
              "    </tr>\n",
              "    <tr>\n",
              "      <th>bank_state</th>\n",
              "      <td>897598</td>\n",
              "      <td>56</td>\n",
              "      <td>CA</td>\n",
              "      <td>118116</td>\n",
              "      <td>NaT</td>\n",
              "      <td>NaT</td>\n",
              "      <td>NaN</td>\n",
              "      <td>NaN</td>\n",
              "      <td>NaN</td>\n",
              "      <td>NaN</td>\n",
              "      <td>NaN</td>\n",
              "      <td>NaN</td>\n",
              "      <td>NaN</td>\n",
              "    </tr>\n",
              "    <tr>\n",
              "      <th>naic</th>\n",
              "      <td>899164.00000</td>\n",
              "      <td>NaN</td>\n",
              "      <td>NaN</td>\n",
              "      <td>NaN</td>\n",
              "      <td>NaT</td>\n",
              "      <td>NaT</td>\n",
              "      <td>398660.95015</td>\n",
              "      <td>263318.31276</td>\n",
              "      <td>0.00000</td>\n",
              "      <td>235210.00000</td>\n",
              "      <td>445310.00000</td>\n",
              "      <td>561730.00000</td>\n",
              "      <td>928120.00000</td>\n",
              "    </tr>\n",
              "    <tr>\n",
              "      <th>approval_date</th>\n",
              "      <td>899164</td>\n",
              "      <td>9859</td>\n",
              "      <td>1993-07-07 00:00:00</td>\n",
              "      <td>1131</td>\n",
              "      <td>1973-02-06</td>\n",
              "      <td>2072-12-08</td>\n",
              "      <td>NaN</td>\n",
              "      <td>NaN</td>\n",
              "      <td>NaN</td>\n",
              "      <td>NaN</td>\n",
              "      <td>NaN</td>\n",
              "      <td>NaN</td>\n",
              "      <td>NaN</td>\n",
              "    </tr>\n",
              "    <tr>\n",
              "      <th>approval_fiscal_year</th>\n",
              "      <td>899164.00000</td>\n",
              "      <td>NaN</td>\n",
              "      <td>NaN</td>\n",
              "      <td>NaN</td>\n",
              "      <td>NaT</td>\n",
              "      <td>NaT</td>\n",
              "      <td>2001.14356</td>\n",
              "      <td>5.91385</td>\n",
              "      <td>1962.00000</td>\n",
              "      <td>1997.00000</td>\n",
              "      <td>2002.00000</td>\n",
              "      <td>2006.00000</td>\n",
              "      <td>2014.00000</td>\n",
              "    </tr>\n",
              "    <tr>\n",
              "      <th>spected_term</th>\n",
              "      <td>899164.00000</td>\n",
              "      <td>NaN</td>\n",
              "      <td>NaN</td>\n",
              "      <td>NaN</td>\n",
              "      <td>NaT</td>\n",
              "      <td>NaT</td>\n",
              "      <td>110.77308</td>\n",
              "      <td>78.85731</td>\n",
              "      <td>0.00000</td>\n",
              "      <td>60.00000</td>\n",
              "      <td>84.00000</td>\n",
              "      <td>120.00000</td>\n",
              "      <td>569.00000</td>\n",
              "    </tr>\n",
              "    <tr>\n",
              "      <th>employees</th>\n",
              "      <td>899164.00000</td>\n",
              "      <td>NaN</td>\n",
              "      <td>NaN</td>\n",
              "      <td>NaN</td>\n",
              "      <td>NaT</td>\n",
              "      <td>NaT</td>\n",
              "      <td>11.41135</td>\n",
              "      <td>74.10820</td>\n",
              "      <td>0.00000</td>\n",
              "      <td>2.00000</td>\n",
              "      <td>4.00000</td>\n",
              "      <td>10.00000</td>\n",
              "      <td>9999.00000</td>\n",
              "    </tr>\n",
              "    <tr>\n",
              "      <th>created_jobs</th>\n",
              "      <td>899164.00000</td>\n",
              "      <td>NaN</td>\n",
              "      <td>NaN</td>\n",
              "      <td>NaN</td>\n",
              "      <td>NaT</td>\n",
              "      <td>NaT</td>\n",
              "      <td>8.43038</td>\n",
              "      <td>236.68817</td>\n",
              "      <td>0.00000</td>\n",
              "      <td>0.00000</td>\n",
              "      <td>0.00000</td>\n",
              "      <td>1.00000</td>\n",
              "      <td>8800.00000</td>\n",
              "    </tr>\n",
              "    <tr>\n",
              "      <th>retained_jobs</th>\n",
              "      <td>899164.00000</td>\n",
              "      <td>NaN</td>\n",
              "      <td>NaN</td>\n",
              "      <td>NaN</td>\n",
              "      <td>NaT</td>\n",
              "      <td>NaT</td>\n",
              "      <td>10.79726</td>\n",
              "      <td>237.12060</td>\n",
              "      <td>0.00000</td>\n",
              "      <td>0.00000</td>\n",
              "      <td>1.00000</td>\n",
              "      <td>4.00000</td>\n",
              "      <td>9500.00000</td>\n",
              "    </tr>\n",
              "    <tr>\n",
              "      <th>franchise</th>\n",
              "      <td>899164.00000</td>\n",
              "      <td>NaN</td>\n",
              "      <td>NaN</td>\n",
              "      <td>NaN</td>\n",
              "      <td>NaT</td>\n",
              "      <td>NaT</td>\n",
              "      <td>246.75695</td>\n",
              "      <td>4047.56809</td>\n",
              "      <td>-32411.00000</td>\n",
              "      <td>0.00000</td>\n",
              "      <td>1.00000</td>\n",
              "      <td>1.00000</td>\n",
              "      <td>32418.00000</td>\n",
              "    </tr>\n",
              "    <tr>\n",
              "      <th>urban</th>\n",
              "      <td>575997.00000</td>\n",
              "      <td>NaN</td>\n",
              "      <td>NaN</td>\n",
              "      <td>NaN</td>\n",
              "      <td>NaT</td>\n",
              "      <td>NaT</td>\n",
              "      <td>0.81711</td>\n",
              "      <td>0.38658</td>\n",
              "      <td>0.00000</td>\n",
              "      <td>1.00000</td>\n",
              "      <td>1.00000</td>\n",
              "      <td>1.00000</td>\n",
              "      <td>1.00000</td>\n",
              "    </tr>\n",
              "    <tr>\n",
              "      <th>revolving_credit</th>\n",
              "      <td>879310.00000</td>\n",
              "      <td>NaN</td>\n",
              "      <td>NaN</td>\n",
              "      <td>NaN</td>\n",
              "      <td>NaT</td>\n",
              "      <td>NaT</td>\n",
              "      <td>0.22907</td>\n",
              "      <td>0.42023</td>\n",
              "      <td>0.00000</td>\n",
              "      <td>0.00000</td>\n",
              "      <td>0.00000</td>\n",
              "      <td>0.00000</td>\n",
              "      <td>1.00000</td>\n",
              "    </tr>\n",
              "    <tr>\n",
              "      <th>low_doc_loan</th>\n",
              "      <td>896582.00000</td>\n",
              "      <td>NaN</td>\n",
              "      <td>NaN</td>\n",
              "      <td>NaN</td>\n",
              "      <td>NaT</td>\n",
              "      <td>NaT</td>\n",
              "      <td>0.12470</td>\n",
              "      <td>0.33038</td>\n",
              "      <td>0.00000</td>\n",
              "      <td>0.00000</td>\n",
              "      <td>0.00000</td>\n",
              "      <td>0.00000</td>\n",
              "      <td>1.00000</td>\n",
              "    </tr>\n",
              "    <tr>\n",
              "      <th>default_date</th>\n",
              "      <td>162699</td>\n",
              "      <td>6448</td>\n",
              "      <td>2010-03-13 00:00:00</td>\n",
              "      <td>734</td>\n",
              "      <td>1988-10-03</td>\n",
              "      <td>2026-10-22</td>\n",
              "      <td>NaN</td>\n",
              "      <td>NaN</td>\n",
              "      <td>NaN</td>\n",
              "      <td>NaN</td>\n",
              "      <td>NaN</td>\n",
              "      <td>NaN</td>\n",
              "      <td>NaN</td>\n",
              "    </tr>\n",
              "    <tr>\n",
              "      <th>disbursement_date</th>\n",
              "      <td>896796</td>\n",
              "      <td>8472</td>\n",
              "      <td>1995-07-31 00:00:00</td>\n",
              "      <td>10371</td>\n",
              "      <td>1973-01-03</td>\n",
              "      <td>2072-12-27</td>\n",
              "      <td>NaN</td>\n",
              "      <td>NaN</td>\n",
              "      <td>NaN</td>\n",
              "      <td>NaN</td>\n",
              "      <td>NaN</td>\n",
              "      <td>NaN</td>\n",
              "      <td>NaN</td>\n",
              "    </tr>\n",
              "    <tr>\n",
              "      <th>amount_disbursed</th>\n",
              "      <td>899164.00000</td>\n",
              "      <td>NaN</td>\n",
              "      <td>NaN</td>\n",
              "      <td>NaN</td>\n",
              "      <td>NaT</td>\n",
              "      <td>NaT</td>\n",
              "      <td>201154.01673</td>\n",
              "      <td>287640.84999</td>\n",
              "      <td>0.00000</td>\n",
              "      <td>42000.00000</td>\n",
              "      <td>100000.00000</td>\n",
              "      <td>238000.00000</td>\n",
              "      <td>11446325.00000</td>\n",
              "    </tr>\n",
              "    <tr>\n",
              "      <th>gross_amount_outstanding</th>\n",
              "      <td>899164.00000</td>\n",
              "      <td>NaN</td>\n",
              "      <td>NaN</td>\n",
              "      <td>NaN</td>\n",
              "      <td>NaT</td>\n",
              "      <td>NaT</td>\n",
              "      <td>2.98935</td>\n",
              "      <td>1442.16191</td>\n",
              "      <td>0.00000</td>\n",
              "      <td>0.00000</td>\n",
              "      <td>0.00000</td>\n",
              "      <td>0.00000</td>\n",
              "      <td>996262.00000</td>\n",
              "    </tr>\n",
              "    <tr>\n",
              "      <th>loan_status</th>\n",
              "      <td>897167</td>\n",
              "      <td>2</td>\n",
              "      <td>PIF</td>\n",
              "      <td>739609</td>\n",
              "      <td>NaT</td>\n",
              "      <td>NaT</td>\n",
              "      <td>NaN</td>\n",
              "      <td>NaN</td>\n",
              "      <td>NaN</td>\n",
              "      <td>NaN</td>\n",
              "      <td>NaN</td>\n",
              "      <td>NaN</td>\n",
              "      <td>NaN</td>\n",
              "    </tr>\n",
              "    <tr>\n",
              "      <th>charged_off_amount</th>\n",
              "      <td>899164.00000</td>\n",
              "      <td>NaN</td>\n",
              "      <td>NaN</td>\n",
              "      <td>NaN</td>\n",
              "      <td>NaT</td>\n",
              "      <td>NaT</td>\n",
              "      <td>13503.29513</td>\n",
              "      <td>65152.29269</td>\n",
              "      <td>0.00000</td>\n",
              "      <td>0.00000</td>\n",
              "      <td>0.00000</td>\n",
              "      <td>0.00000</td>\n",
              "      <td>3512596.00000</td>\n",
              "    </tr>\n",
              "    <tr>\n",
              "      <th>gross_amount_approved</th>\n",
              "      <td>899164.00000</td>\n",
              "      <td>NaN</td>\n",
              "      <td>NaN</td>\n",
              "      <td>NaN</td>\n",
              "      <td>NaT</td>\n",
              "      <td>NaT</td>\n",
              "      <td>192686.97638</td>\n",
              "      <td>283263.39130</td>\n",
              "      <td>200.00000</td>\n",
              "      <td>35000.00000</td>\n",
              "      <td>90000.00000</td>\n",
              "      <td>225000.00000</td>\n",
              "      <td>5472000.00000</td>\n",
              "    </tr>\n",
              "    <tr>\n",
              "      <th>guaranteed_sba</th>\n",
              "      <td>899164.00000</td>\n",
              "      <td>NaN</td>\n",
              "      <td>NaN</td>\n",
              "      <td>NaN</td>\n",
              "      <td>NaT</td>\n",
              "      <td>NaT</td>\n",
              "      <td>149488.78818</td>\n",
              "      <td>228414.56152</td>\n",
              "      <td>100.00000</td>\n",
              "      <td>21250.00000</td>\n",
              "      <td>61250.00000</td>\n",
              "      <td>175000.00000</td>\n",
              "      <td>5472000.00000</td>\n",
              "    </tr>\n",
              "    <tr>\n",
              "      <th>new_business</th>\n",
              "      <td>897994.00000</td>\n",
              "      <td>NaN</td>\n",
              "      <td>NaN</td>\n",
              "      <td>NaN</td>\n",
              "      <td>NaT</td>\n",
              "      <td>NaT</td>\n",
              "      <td>0.28188</td>\n",
              "      <td>0.44991</td>\n",
              "      <td>0.00000</td>\n",
              "      <td>0.00000</td>\n",
              "      <td>0.00000</td>\n",
              "      <td>1.00000</td>\n",
              "      <td>1.00000</td>\n",
              "    </tr>\n",
              "  </tbody>\n",
              "</table>\n",
              "</div>\n",
              "      <button class=\"colab-df-convert\" onclick=\"convertToInteractive('df-5ca49d0a-bf32-4371-9f4d-b7561672231a')\"\n",
              "              title=\"Convert this dataframe to an interactive table.\"\n",
              "              style=\"display:none;\">\n",
              "        \n",
              "  <svg xmlns=\"http://www.w3.org/2000/svg\" height=\"24px\"viewBox=\"0 0 24 24\"\n",
              "       width=\"24px\">\n",
              "    <path d=\"M0 0h24v24H0V0z\" fill=\"none\"/>\n",
              "    <path d=\"M18.56 5.44l.94 2.06.94-2.06 2.06-.94-2.06-.94-.94-2.06-.94 2.06-2.06.94zm-11 1L8.5 8.5l.94-2.06 2.06-.94-2.06-.94L8.5 2.5l-.94 2.06-2.06.94zm10 10l.94 2.06.94-2.06 2.06-.94-2.06-.94-.94-2.06-.94 2.06-2.06.94z\"/><path d=\"M17.41 7.96l-1.37-1.37c-.4-.4-.92-.59-1.43-.59-.52 0-1.04.2-1.43.59L10.3 9.45l-7.72 7.72c-.78.78-.78 2.05 0 2.83L4 21.41c.39.39.9.59 1.41.59.51 0 1.02-.2 1.41-.59l7.78-7.78 2.81-2.81c.8-.78.8-2.07 0-2.86zM5.41 20L4 18.59l7.72-7.72 1.47 1.35L5.41 20z\"/>\n",
              "  </svg>\n",
              "      </button>\n",
              "      \n",
              "  <style>\n",
              "    .colab-df-container {\n",
              "      display:flex;\n",
              "      flex-wrap:wrap;\n",
              "      gap: 12px;\n",
              "    }\n",
              "\n",
              "    .colab-df-convert {\n",
              "      background-color: #E8F0FE;\n",
              "      border: none;\n",
              "      border-radius: 50%;\n",
              "      cursor: pointer;\n",
              "      display: none;\n",
              "      fill: #1967D2;\n",
              "      height: 32px;\n",
              "      padding: 0 0 0 0;\n",
              "      width: 32px;\n",
              "    }\n",
              "\n",
              "    .colab-df-convert:hover {\n",
              "      background-color: #E2EBFA;\n",
              "      box-shadow: 0px 1px 2px rgba(60, 64, 67, 0.3), 0px 1px 3px 1px rgba(60, 64, 67, 0.15);\n",
              "      fill: #174EA6;\n",
              "    }\n",
              "\n",
              "    [theme=dark] .colab-df-convert {\n",
              "      background-color: #3B4455;\n",
              "      fill: #D2E3FC;\n",
              "    }\n",
              "\n",
              "    [theme=dark] .colab-df-convert:hover {\n",
              "      background-color: #434B5C;\n",
              "      box-shadow: 0px 1px 3px 1px rgba(0, 0, 0, 0.15);\n",
              "      filter: drop-shadow(0px 1px 2px rgba(0, 0, 0, 0.3));\n",
              "      fill: #FFFFFF;\n",
              "    }\n",
              "  </style>\n",
              "\n",
              "      <script>\n",
              "        const buttonEl =\n",
              "          document.querySelector('#df-5ca49d0a-bf32-4371-9f4d-b7561672231a button.colab-df-convert');\n",
              "        buttonEl.style.display =\n",
              "          google.colab.kernel.accessAllowed ? 'block' : 'none';\n",
              "\n",
              "        async function convertToInteractive(key) {\n",
              "          const element = document.querySelector('#df-5ca49d0a-bf32-4371-9f4d-b7561672231a');\n",
              "          const dataTable =\n",
              "            await google.colab.kernel.invokeFunction('convertToInteractive',\n",
              "                                                     [key], {});\n",
              "          if (!dataTable) return;\n",
              "\n",
              "          const docLinkHtml = 'Like what you see? Visit the ' +\n",
              "            '<a target=\"_blank\" href=https://colab.research.google.com/notebooks/data_table.ipynb>data table notebook</a>'\n",
              "            + ' to learn more about interactive tables.';\n",
              "          element.innerHTML = '';\n",
              "          dataTable['output_type'] = 'display_data';\n",
              "          await google.colab.output.renderOutput(dataTable, element);\n",
              "          const docLink = document.createElement('div');\n",
              "          docLink.innerHTML = docLinkHtml;\n",
              "          element.appendChild(docLink);\n",
              "        }\n",
              "      </script>\n",
              "    </div>\n",
              "  </div>\n",
              "  "
            ]
          },
          "metadata": {},
          "execution_count": 88
        }
      ],
      "source": [
        "df.describe(include='all').T"
      ]
    },
    {
      "cell_type": "code",
      "execution_count": 89,
      "metadata": {
        "id": "hBfcPSWLlHHv"
      },
      "outputs": [],
      "source": [
        "df2 = df.copy()"
      ]
    },
    {
      "cell_type": "code",
      "execution_count": 90,
      "metadata": {
        "id": "y3pQg7yQlHHw"
      },
      "outputs": [],
      "source": [
        "del df"
      ]
    },
    {
      "cell_type": "markdown",
      "metadata": {
        "id": "HNrQ2ZrilHHw"
      },
      "source": [
        "**adendum**\n",
        "\n",
        "This have an iterative nature: In the process to make the EDA is discovered the nature of this variables: naic, borrower_city, borrower_zip. And data enrichment is nedd to perform feature engineering\n",
        "\n",
        "## IV Data Enrichment\n",
        "\n",
        "To incorporate new updates and information into existing database to improve accuracy and add missing information"
      ]
    },
    {
      "cell_type": "markdown",
      "metadata": {
        "id": "3KHEoOZElHHx"
      },
      "source": [
        "- urban:\n",
        "    - there is a lot of nulls, i try to fill with the census data; and of course verify. But prediction process is needed\n",
        "    - The process is distiled at this [notebook](./03_univariate_imputation.ipynb) after the basic univariate EDA [notebook](./02_EDA.ipynb)\n",
        "- naic:\n",
        "    - Need to be reduced, as categoraical data need to be analyzed in a less specific way following the 2 digits of the structure of NAICS 2002\n",
        "- borrower_city:\n",
        "    - not used for eda, drop\n",
        "- borrower_zip:\n",
        "    - Converted in ordinal value, for this need to be decomposed following the 3-Digit ZIP Code Prefix Matrix of usps,\n",
        "    - files obtained from [2007 TIGER/Line® Shapefiles: ZIP Code Tabulation Areas](https://www.census.gov/cgi-bin/geo/shapefiles/index.php?year=2007&layergroup=ZIP+Code+Tabulation+Areas)\n",
        "    - 1 digit and 3 digit are allowed for EDA, 5 digit for advanced insights\n",
        "        - borrower_zip[0] - National Zone\n",
        "        - borrower_zip[1:2] - Sectional Center\n",
        "        - borrower_zip[-2:] - Delivery Zone\n"
      ]
    },
    {
      "cell_type": "markdown",
      "metadata": {
        "id": "yZlvzkbRlHHy"
      },
      "source": [
        "#### naic"
      ]
    },
    {
      "cell_type": "code",
      "execution_count": 91,
      "metadata": {
        "id": "C_CMgi_olHHy",
        "outputId": "3d0f9cd7-6a4a-45db-98a7-a9059fdbcbf5",
        "colab": {
          "base_uri": "https://localhost:8080/"
        }
      },
      "outputs": [
        {
          "output_type": "execute_result",
          "data": {
            "text/plain": [
              "0    45\n",
              "1    72\n",
              "2    62\n",
              "3     0\n",
              "4     0\n",
              "Name: two_digit_naic, dtype: object"
            ]
          },
          "metadata": {},
          "execution_count": 91
        }
      ],
      "source": [
        "#two_digit_naic = [str(x)[0:2] for x in df2.naic]\n",
        "df2.naic = df2.naic.astype(str)\n",
        "df2['two_digit_naic'] = df2.naic.str.slice(0, 2)\n",
        "df2['two_digit_naic'].head()"
      ]
    },
    {
      "cell_type": "markdown",
      "metadata": {
        "id": "2J3JSQZblHHy"
      },
      "source": [
        "#### borrower_city"
      ]
    },
    {
      "cell_type": "code",
      "execution_count": 92,
      "metadata": {
        "id": "-GH77IcolHHy"
      },
      "outputs": [],
      "source": [
        "df2 = df2.drop(columns=['borrower_city'])"
      ]
    },
    {
      "cell_type": "markdown",
      "metadata": {
        "id": "yDegKIZGlHH2"
      },
      "source": [
        "#### borrower_zip"
      ]
    },
    {
      "cell_type": "code",
      "execution_count": 93,
      "metadata": {
        "id": "ivoBGs9XlHH2",
        "outputId": "bf1ce88f-b615-4a82-e2dc-daeced27152c",
        "colab": {
          "base_uri": "https://localhost:8080/"
        }
      },
      "outputs": [
        {
          "output_type": "execute_result",
          "data": {
            "text/plain": [
              "0    4\n",
              "1    4\n",
              "2    4\n",
              "3    7\n",
              "4    3\n",
              "Name: borrower_national_zone, dtype: object"
            ]
          },
          "metadata": {},
          "execution_count": 93
        }
      ],
      "source": [
        "#borrower_national_zone = [str(x)[0] for x in df2.borrower_zip]\n",
        "df2.borrower_zip= df2.borrower_zip.astype(str)\n",
        "df2['borrower_national_zone'] = df2.borrower_zip.str.slice(0,1,1)\n",
        "df2['borrower_national_zone'].head()"
      ]
    },
    {
      "cell_type": "code",
      "execution_count": 94,
      "metadata": {
        "id": "ArqZ9lo-lHH3",
        "outputId": "efb7f8fd-1ba8-4f29-cfe0-963eb7b26b83",
        "colab": {
          "base_uri": "https://localhost:8080/"
        }
      },
      "outputs": [
        {
          "output_type": "execute_result",
          "data": {
            "text/plain": [
              "0    477\n",
              "1    465\n",
              "2    474\n",
              "3    740\n",
              "4    328\n",
              "Name: borrower_national_section, dtype: object"
            ]
          },
          "metadata": {},
          "execution_count": 94
        }
      ],
      "source": [
        "#borrower_national_section = [str(x)[0:3] for x in df2.borrower_zip]\n",
        "df2['borrower_national_section'] = df2.borrower_zip.str.slice(0,3,1)\n",
        "df2['borrower_national_section'].head()"
      ]
    },
    {
      "cell_type": "code",
      "execution_count": 95,
      "metadata": {
        "id": "RjrKjeuKlHH4"
      },
      "outputs": [],
      "source": [
        "df_zip = geo.read_file('./fe_2007_us_zcta300/fe_2007_us_zcta300.shp')"
      ]
    },
    {
      "cell_type": "code",
      "execution_count": 96,
      "metadata": {
        "id": "IqB2NkW9lHH5",
        "outputId": "27520414-75b8-486b-f1ee-ceab86b690f0",
        "colab": {
          "base_uri": "https://localhost:8080/",
          "height": 143
        }
      },
      "outputs": [
        {
          "output_type": "execute_result",
          "data": {
            "text/plain": [
              "  ZCTA3CE00 CLASSFP00 MTFCC00 FUNCSTAT00  \\\n",
              "0       967        B3   G6340          S   \n",
              "1       968        B3   G6340          S   \n",
              "2       199        B3   G6340          S   \n",
              "\n",
              "                                            geometry  \n",
              "0  MULTIPOLYGON (((-154.92893 19.67360, -154.9202...  \n",
              "1  MULTIPOLYGON (((-166.12500 23.60711, -166.1250...  \n",
              "2  POLYGON ((-75.33236 39.26080, -75.32102 39.251...  "
            ],
            "text/html": [
              "\n",
              "  <div id=\"df-d74a2dda-4f1a-4633-81e1-a0fd92bf13d5\">\n",
              "    <div class=\"colab-df-container\">\n",
              "      <div>\n",
              "<style scoped>\n",
              "    .dataframe tbody tr th:only-of-type {\n",
              "        vertical-align: middle;\n",
              "    }\n",
              "\n",
              "    .dataframe tbody tr th {\n",
              "        vertical-align: top;\n",
              "    }\n",
              "\n",
              "    .dataframe thead th {\n",
              "        text-align: right;\n",
              "    }\n",
              "</style>\n",
              "<table border=\"1\" class=\"dataframe\">\n",
              "  <thead>\n",
              "    <tr style=\"text-align: right;\">\n",
              "      <th></th>\n",
              "      <th>ZCTA3CE00</th>\n",
              "      <th>CLASSFP00</th>\n",
              "      <th>MTFCC00</th>\n",
              "      <th>FUNCSTAT00</th>\n",
              "      <th>geometry</th>\n",
              "    </tr>\n",
              "  </thead>\n",
              "  <tbody>\n",
              "    <tr>\n",
              "      <th>0</th>\n",
              "      <td>967</td>\n",
              "      <td>B3</td>\n",
              "      <td>G6340</td>\n",
              "      <td>S</td>\n",
              "      <td>MULTIPOLYGON (((-154.92893 19.67360, -154.9202...</td>\n",
              "    </tr>\n",
              "    <tr>\n",
              "      <th>1</th>\n",
              "      <td>968</td>\n",
              "      <td>B3</td>\n",
              "      <td>G6340</td>\n",
              "      <td>S</td>\n",
              "      <td>MULTIPOLYGON (((-166.12500 23.60711, -166.1250...</td>\n",
              "    </tr>\n",
              "    <tr>\n",
              "      <th>2</th>\n",
              "      <td>199</td>\n",
              "      <td>B3</td>\n",
              "      <td>G6340</td>\n",
              "      <td>S</td>\n",
              "      <td>POLYGON ((-75.33236 39.26080, -75.32102 39.251...</td>\n",
              "    </tr>\n",
              "  </tbody>\n",
              "</table>\n",
              "</div>\n",
              "      <button class=\"colab-df-convert\" onclick=\"convertToInteractive('df-d74a2dda-4f1a-4633-81e1-a0fd92bf13d5')\"\n",
              "              title=\"Convert this dataframe to an interactive table.\"\n",
              "              style=\"display:none;\">\n",
              "        \n",
              "  <svg xmlns=\"http://www.w3.org/2000/svg\" height=\"24px\"viewBox=\"0 0 24 24\"\n",
              "       width=\"24px\">\n",
              "    <path d=\"M0 0h24v24H0V0z\" fill=\"none\"/>\n",
              "    <path d=\"M18.56 5.44l.94 2.06.94-2.06 2.06-.94-2.06-.94-.94-2.06-.94 2.06-2.06.94zm-11 1L8.5 8.5l.94-2.06 2.06-.94-2.06-.94L8.5 2.5l-.94 2.06-2.06.94zm10 10l.94 2.06.94-2.06 2.06-.94-2.06-.94-.94-2.06-.94 2.06-2.06.94z\"/><path d=\"M17.41 7.96l-1.37-1.37c-.4-.4-.92-.59-1.43-.59-.52 0-1.04.2-1.43.59L10.3 9.45l-7.72 7.72c-.78.78-.78 2.05 0 2.83L4 21.41c.39.39.9.59 1.41.59.51 0 1.02-.2 1.41-.59l7.78-7.78 2.81-2.81c.8-.78.8-2.07 0-2.86zM5.41 20L4 18.59l7.72-7.72 1.47 1.35L5.41 20z\"/>\n",
              "  </svg>\n",
              "      </button>\n",
              "      \n",
              "  <style>\n",
              "    .colab-df-container {\n",
              "      display:flex;\n",
              "      flex-wrap:wrap;\n",
              "      gap: 12px;\n",
              "    }\n",
              "\n",
              "    .colab-df-convert {\n",
              "      background-color: #E8F0FE;\n",
              "      border: none;\n",
              "      border-radius: 50%;\n",
              "      cursor: pointer;\n",
              "      display: none;\n",
              "      fill: #1967D2;\n",
              "      height: 32px;\n",
              "      padding: 0 0 0 0;\n",
              "      width: 32px;\n",
              "    }\n",
              "\n",
              "    .colab-df-convert:hover {\n",
              "      background-color: #E2EBFA;\n",
              "      box-shadow: 0px 1px 2px rgba(60, 64, 67, 0.3), 0px 1px 3px 1px rgba(60, 64, 67, 0.15);\n",
              "      fill: #174EA6;\n",
              "    }\n",
              "\n",
              "    [theme=dark] .colab-df-convert {\n",
              "      background-color: #3B4455;\n",
              "      fill: #D2E3FC;\n",
              "    }\n",
              "\n",
              "    [theme=dark] .colab-df-convert:hover {\n",
              "      background-color: #434B5C;\n",
              "      box-shadow: 0px 1px 3px 1px rgba(0, 0, 0, 0.15);\n",
              "      filter: drop-shadow(0px 1px 2px rgba(0, 0, 0, 0.3));\n",
              "      fill: #FFFFFF;\n",
              "    }\n",
              "  </style>\n",
              "\n",
              "      <script>\n",
              "        const buttonEl =\n",
              "          document.querySelector('#df-d74a2dda-4f1a-4633-81e1-a0fd92bf13d5 button.colab-df-convert');\n",
              "        buttonEl.style.display =\n",
              "          google.colab.kernel.accessAllowed ? 'block' : 'none';\n",
              "\n",
              "        async function convertToInteractive(key) {\n",
              "          const element = document.querySelector('#df-d74a2dda-4f1a-4633-81e1-a0fd92bf13d5');\n",
              "          const dataTable =\n",
              "            await google.colab.kernel.invokeFunction('convertToInteractive',\n",
              "                                                     [key], {});\n",
              "          if (!dataTable) return;\n",
              "\n",
              "          const docLinkHtml = 'Like what you see? Visit the ' +\n",
              "            '<a target=\"_blank\" href=https://colab.research.google.com/notebooks/data_table.ipynb>data table notebook</a>'\n",
              "            + ' to learn more about interactive tables.';\n",
              "          element.innerHTML = '';\n",
              "          dataTable['output_type'] = 'display_data';\n",
              "          await google.colab.output.renderOutput(dataTable, element);\n",
              "          const docLink = document.createElement('div');\n",
              "          docLink.innerHTML = docLinkHtml;\n",
              "          element.appendChild(docLink);\n",
              "        }\n",
              "      </script>\n",
              "    </div>\n",
              "  </div>\n",
              "  "
            ]
          },
          "metadata": {},
          "execution_count": 96
        }
      ],
      "source": [
        "df_zip.head(3)"
      ]
    },
    {
      "cell_type": "code",
      "execution_count": 97,
      "metadata": {
        "id": "zT_Kf4MelHH6"
      },
      "outputs": [],
      "source": [
        "df_zip = df_zip.drop(columns=['CLASSFP00','MTFCC00','FUNCSTAT00'])"
      ]
    },
    {
      "cell_type": "code",
      "execution_count": 98,
      "metadata": {
        "id": "A7nZR4_glHIL"
      },
      "outputs": [],
      "source": [
        "df3 = pd.merge(df2,df_zip,how='left',left_on='borrower_national_section',right_on='ZCTA3CE00').drop(columns=['ZCTA3CE00'])"
      ]
    },
    {
      "cell_type": "code",
      "execution_count": 99,
      "metadata": {
        "id": "e0nPTmoolHIL",
        "outputId": "b32cab8c-5b79-4462-c9c8-49f695b45863",
        "colab": {
          "base_uri": "https://localhost:8080/",
          "height": 595
        }
      },
      "outputs": [
        {
          "output_type": "execute_result",
          "data": {
            "text/plain": [
              "           id                  borrower_name borrower_state borrower_zip  \\\n",
              "0  1000014003                 ABC HOBBYCRAFT             IN        47711   \n",
              "1  1000024006    LANDMARK BAR & GRILLE (THE)             IN        46526   \n",
              "2  1000034009          WHITLOCK DDS, TODD M.             IN        47401   \n",
              "3  1000044001  BIG BUCKS PAWN & JEWELRY, LLC             OK        74012   \n",
              "4  1000054004    ANASTASIA CONFECTIONS, INC.             FL        32801   \n",
              "\n",
              "                       bank_name bank_state    naic approval_date  \\\n",
              "0               FIFTH THIRD BANK         OH  451120    1997-02-28   \n",
              "1                1ST SOURCE BANK         IN  722410    1997-02-28   \n",
              "2        GRANT COUNTY STATE BANK         IN  621210    1997-02-28   \n",
              "3  1ST NATL BK & TR CO OF BROKEN         OK       0    1997-02-28   \n",
              "4        FLORIDA BUS. DEVEL CORP         FL       0    1997-02-28   \n",
              "\n",
              "   approval_fiscal_year  spected_term  ...  gross_amount_outstanding  \\\n",
              "0                  1997            84  ...                   0.00000   \n",
              "1                  1997            60  ...                   0.00000   \n",
              "2                  1997           180  ...                   0.00000   \n",
              "3                  1997            60  ...                   0.00000   \n",
              "4                  1997           240  ...                   0.00000   \n",
              "\n",
              "   loan_status  charged_off_amount  gross_amount_approved  guaranteed_sba  \\\n",
              "0          PIF             0.00000            60000.00000     48000.00000   \n",
              "1          PIF             0.00000            40000.00000     32000.00000   \n",
              "2          PIF             0.00000           287000.00000    215250.00000   \n",
              "3          PIF             0.00000            35000.00000     28000.00000   \n",
              "4          PIF             0.00000           229000.00000    229000.00000   \n",
              "\n",
              "   new_business  two_digit_naic borrower_national_zone  \\\n",
              "0       1.00000              45                      4   \n",
              "1       1.00000              72                      4   \n",
              "2       0.00000              62                      4   \n",
              "3       0.00000               0                      7   \n",
              "4       0.00000               0                      3   \n",
              "\n",
              "  borrower_national_section                                           geometry  \n",
              "0                       477  POLYGON ((-87.46948 37.93075, -87.47007 37.930...  \n",
              "1                       465  MULTIPOLYGON (((-86.19800 41.70928, -86.19808 ...  \n",
              "2                       474  POLYGON ((-87.27938 39.15727, -87.27827 39.157...  \n",
              "3                       740  MULTIPOLYGON (((-97.26480 36.05934, -97.26483 ...  \n",
              "4                       328  MULTIPOLYGON (((-81.37739 28.58441, -81.37739 ...  \n",
              "\n",
              "[5 rows x 30 columns]"
            ],
            "text/html": [
              "\n",
              "  <div id=\"df-5365a8b1-5cae-42f4-9ae7-f0ecfde67759\">\n",
              "    <div class=\"colab-df-container\">\n",
              "      <div>\n",
              "<style scoped>\n",
              "    .dataframe tbody tr th:only-of-type {\n",
              "        vertical-align: middle;\n",
              "    }\n",
              "\n",
              "    .dataframe tbody tr th {\n",
              "        vertical-align: top;\n",
              "    }\n",
              "\n",
              "    .dataframe thead th {\n",
              "        text-align: right;\n",
              "    }\n",
              "</style>\n",
              "<table border=\"1\" class=\"dataframe\">\n",
              "  <thead>\n",
              "    <tr style=\"text-align: right;\">\n",
              "      <th></th>\n",
              "      <th>id</th>\n",
              "      <th>borrower_name</th>\n",
              "      <th>borrower_state</th>\n",
              "      <th>borrower_zip</th>\n",
              "      <th>bank_name</th>\n",
              "      <th>bank_state</th>\n",
              "      <th>naic</th>\n",
              "      <th>approval_date</th>\n",
              "      <th>approval_fiscal_year</th>\n",
              "      <th>spected_term</th>\n",
              "      <th>...</th>\n",
              "      <th>gross_amount_outstanding</th>\n",
              "      <th>loan_status</th>\n",
              "      <th>charged_off_amount</th>\n",
              "      <th>gross_amount_approved</th>\n",
              "      <th>guaranteed_sba</th>\n",
              "      <th>new_business</th>\n",
              "      <th>two_digit_naic</th>\n",
              "      <th>borrower_national_zone</th>\n",
              "      <th>borrower_national_section</th>\n",
              "      <th>geometry</th>\n",
              "    </tr>\n",
              "  </thead>\n",
              "  <tbody>\n",
              "    <tr>\n",
              "      <th>0</th>\n",
              "      <td>1000014003</td>\n",
              "      <td>ABC HOBBYCRAFT</td>\n",
              "      <td>IN</td>\n",
              "      <td>47711</td>\n",
              "      <td>FIFTH THIRD BANK</td>\n",
              "      <td>OH</td>\n",
              "      <td>451120</td>\n",
              "      <td>1997-02-28</td>\n",
              "      <td>1997</td>\n",
              "      <td>84</td>\n",
              "      <td>...</td>\n",
              "      <td>0.00000</td>\n",
              "      <td>PIF</td>\n",
              "      <td>0.00000</td>\n",
              "      <td>60000.00000</td>\n",
              "      <td>48000.00000</td>\n",
              "      <td>1.00000</td>\n",
              "      <td>45</td>\n",
              "      <td>4</td>\n",
              "      <td>477</td>\n",
              "      <td>POLYGON ((-87.46948 37.93075, -87.47007 37.930...</td>\n",
              "    </tr>\n",
              "    <tr>\n",
              "      <th>1</th>\n",
              "      <td>1000024006</td>\n",
              "      <td>LANDMARK BAR &amp; GRILLE (THE)</td>\n",
              "      <td>IN</td>\n",
              "      <td>46526</td>\n",
              "      <td>1ST SOURCE BANK</td>\n",
              "      <td>IN</td>\n",
              "      <td>722410</td>\n",
              "      <td>1997-02-28</td>\n",
              "      <td>1997</td>\n",
              "      <td>60</td>\n",
              "      <td>...</td>\n",
              "      <td>0.00000</td>\n",
              "      <td>PIF</td>\n",
              "      <td>0.00000</td>\n",
              "      <td>40000.00000</td>\n",
              "      <td>32000.00000</td>\n",
              "      <td>1.00000</td>\n",
              "      <td>72</td>\n",
              "      <td>4</td>\n",
              "      <td>465</td>\n",
              "      <td>MULTIPOLYGON (((-86.19800 41.70928, -86.19808 ...</td>\n",
              "    </tr>\n",
              "    <tr>\n",
              "      <th>2</th>\n",
              "      <td>1000034009</td>\n",
              "      <td>WHITLOCK DDS, TODD M.</td>\n",
              "      <td>IN</td>\n",
              "      <td>47401</td>\n",
              "      <td>GRANT COUNTY STATE BANK</td>\n",
              "      <td>IN</td>\n",
              "      <td>621210</td>\n",
              "      <td>1997-02-28</td>\n",
              "      <td>1997</td>\n",
              "      <td>180</td>\n",
              "      <td>...</td>\n",
              "      <td>0.00000</td>\n",
              "      <td>PIF</td>\n",
              "      <td>0.00000</td>\n",
              "      <td>287000.00000</td>\n",
              "      <td>215250.00000</td>\n",
              "      <td>0.00000</td>\n",
              "      <td>62</td>\n",
              "      <td>4</td>\n",
              "      <td>474</td>\n",
              "      <td>POLYGON ((-87.27938 39.15727, -87.27827 39.157...</td>\n",
              "    </tr>\n",
              "    <tr>\n",
              "      <th>3</th>\n",
              "      <td>1000044001</td>\n",
              "      <td>BIG BUCKS PAWN &amp; JEWELRY, LLC</td>\n",
              "      <td>OK</td>\n",
              "      <td>74012</td>\n",
              "      <td>1ST NATL BK &amp; TR CO OF BROKEN</td>\n",
              "      <td>OK</td>\n",
              "      <td>0</td>\n",
              "      <td>1997-02-28</td>\n",
              "      <td>1997</td>\n",
              "      <td>60</td>\n",
              "      <td>...</td>\n",
              "      <td>0.00000</td>\n",
              "      <td>PIF</td>\n",
              "      <td>0.00000</td>\n",
              "      <td>35000.00000</td>\n",
              "      <td>28000.00000</td>\n",
              "      <td>0.00000</td>\n",
              "      <td>0</td>\n",
              "      <td>7</td>\n",
              "      <td>740</td>\n",
              "      <td>MULTIPOLYGON (((-97.26480 36.05934, -97.26483 ...</td>\n",
              "    </tr>\n",
              "    <tr>\n",
              "      <th>4</th>\n",
              "      <td>1000054004</td>\n",
              "      <td>ANASTASIA CONFECTIONS, INC.</td>\n",
              "      <td>FL</td>\n",
              "      <td>32801</td>\n",
              "      <td>FLORIDA BUS. DEVEL CORP</td>\n",
              "      <td>FL</td>\n",
              "      <td>0</td>\n",
              "      <td>1997-02-28</td>\n",
              "      <td>1997</td>\n",
              "      <td>240</td>\n",
              "      <td>...</td>\n",
              "      <td>0.00000</td>\n",
              "      <td>PIF</td>\n",
              "      <td>0.00000</td>\n",
              "      <td>229000.00000</td>\n",
              "      <td>229000.00000</td>\n",
              "      <td>0.00000</td>\n",
              "      <td>0</td>\n",
              "      <td>3</td>\n",
              "      <td>328</td>\n",
              "      <td>MULTIPOLYGON (((-81.37739 28.58441, -81.37739 ...</td>\n",
              "    </tr>\n",
              "  </tbody>\n",
              "</table>\n",
              "<p>5 rows × 30 columns</p>\n",
              "</div>\n",
              "      <button class=\"colab-df-convert\" onclick=\"convertToInteractive('df-5365a8b1-5cae-42f4-9ae7-f0ecfde67759')\"\n",
              "              title=\"Convert this dataframe to an interactive table.\"\n",
              "              style=\"display:none;\">\n",
              "        \n",
              "  <svg xmlns=\"http://www.w3.org/2000/svg\" height=\"24px\"viewBox=\"0 0 24 24\"\n",
              "       width=\"24px\">\n",
              "    <path d=\"M0 0h24v24H0V0z\" fill=\"none\"/>\n",
              "    <path d=\"M18.56 5.44l.94 2.06.94-2.06 2.06-.94-2.06-.94-.94-2.06-.94 2.06-2.06.94zm-11 1L8.5 8.5l.94-2.06 2.06-.94-2.06-.94L8.5 2.5l-.94 2.06-2.06.94zm10 10l.94 2.06.94-2.06 2.06-.94-2.06-.94-.94-2.06-.94 2.06-2.06.94z\"/><path d=\"M17.41 7.96l-1.37-1.37c-.4-.4-.92-.59-1.43-.59-.52 0-1.04.2-1.43.59L10.3 9.45l-7.72 7.72c-.78.78-.78 2.05 0 2.83L4 21.41c.39.39.9.59 1.41.59.51 0 1.02-.2 1.41-.59l7.78-7.78 2.81-2.81c.8-.78.8-2.07 0-2.86zM5.41 20L4 18.59l7.72-7.72 1.47 1.35L5.41 20z\"/>\n",
              "  </svg>\n",
              "      </button>\n",
              "      \n",
              "  <style>\n",
              "    .colab-df-container {\n",
              "      display:flex;\n",
              "      flex-wrap:wrap;\n",
              "      gap: 12px;\n",
              "    }\n",
              "\n",
              "    .colab-df-convert {\n",
              "      background-color: #E8F0FE;\n",
              "      border: none;\n",
              "      border-radius: 50%;\n",
              "      cursor: pointer;\n",
              "      display: none;\n",
              "      fill: #1967D2;\n",
              "      height: 32px;\n",
              "      padding: 0 0 0 0;\n",
              "      width: 32px;\n",
              "    }\n",
              "\n",
              "    .colab-df-convert:hover {\n",
              "      background-color: #E2EBFA;\n",
              "      box-shadow: 0px 1px 2px rgba(60, 64, 67, 0.3), 0px 1px 3px 1px rgba(60, 64, 67, 0.15);\n",
              "      fill: #174EA6;\n",
              "    }\n",
              "\n",
              "    [theme=dark] .colab-df-convert {\n",
              "      background-color: #3B4455;\n",
              "      fill: #D2E3FC;\n",
              "    }\n",
              "\n",
              "    [theme=dark] .colab-df-convert:hover {\n",
              "      background-color: #434B5C;\n",
              "      box-shadow: 0px 1px 3px 1px rgba(0, 0, 0, 0.15);\n",
              "      filter: drop-shadow(0px 1px 2px rgba(0, 0, 0, 0.3));\n",
              "      fill: #FFFFFF;\n",
              "    }\n",
              "  </style>\n",
              "\n",
              "      <script>\n",
              "        const buttonEl =\n",
              "          document.querySelector('#df-5365a8b1-5cae-42f4-9ae7-f0ecfde67759 button.colab-df-convert');\n",
              "        buttonEl.style.display =\n",
              "          google.colab.kernel.accessAllowed ? 'block' : 'none';\n",
              "\n",
              "        async function convertToInteractive(key) {\n",
              "          const element = document.querySelector('#df-5365a8b1-5cae-42f4-9ae7-f0ecfde67759');\n",
              "          const dataTable =\n",
              "            await google.colab.kernel.invokeFunction('convertToInteractive',\n",
              "                                                     [key], {});\n",
              "          if (!dataTable) return;\n",
              "\n",
              "          const docLinkHtml = 'Like what you see? Visit the ' +\n",
              "            '<a target=\"_blank\" href=https://colab.research.google.com/notebooks/data_table.ipynb>data table notebook</a>'\n",
              "            + ' to learn more about interactive tables.';\n",
              "          element.innerHTML = '';\n",
              "          dataTable['output_type'] = 'display_data';\n",
              "          await google.colab.output.renderOutput(dataTable, element);\n",
              "          const docLink = document.createElement('div');\n",
              "          docLink.innerHTML = docLinkHtml;\n",
              "          element.appendChild(docLink);\n",
              "        }\n",
              "      </script>\n",
              "    </div>\n",
              "  </div>\n",
              "  "
            ]
          },
          "metadata": {},
          "execution_count": 99
        }
      ],
      "source": [
        "df3.head()"
      ]
    },
    {
      "cell_type": "code",
      "execution_count": 100,
      "metadata": {
        "id": "mZ4FfW-ulHIM",
        "outputId": "1c9399fb-4fff-4316-8bde-87457b733c9c",
        "colab": {
          "base_uri": "https://localhost:8080/"
        }
      },
      "outputs": [
        {
          "output_type": "stream",
          "name": "stdout",
          "text": [
            "<class 'pandas.core.frame.DataFrame'>\n",
            "Int64Index: 899164 entries, 0 to 899163\n",
            "Data columns (total 30 columns):\n",
            " #   Column                     Non-Null Count   Dtype         \n",
            "---  ------                     --------------   -----         \n",
            " 0   id                         899164 non-null  int64         \n",
            " 1   borrower_name              899150 non-null  object        \n",
            " 2   borrower_state             899150 non-null  object        \n",
            " 3   borrower_zip               899164 non-null  object        \n",
            " 4   bank_name                  897605 non-null  object        \n",
            " 5   bank_state                 897598 non-null  object        \n",
            " 6   naic                       899164 non-null  object        \n",
            " 7   approval_date              899164 non-null  datetime64[ns]\n",
            " 8   approval_fiscal_year       899164 non-null  int16         \n",
            " 9   spected_term               899164 non-null  int64         \n",
            " 10  employees                  899164 non-null  int64         \n",
            " 11  created_jobs               899164 non-null  int64         \n",
            " 12  retained_jobs              899164 non-null  int64         \n",
            " 13  franchise                  899164 non-null  int16         \n",
            " 14  urban                      575997 non-null  float64       \n",
            " 15  revolving_credit           879310 non-null  float64       \n",
            " 16  low_doc_loan               896582 non-null  float64       \n",
            " 17  default_date               162699 non-null  datetime64[ns]\n",
            " 18  disbursement_date          896796 non-null  datetime64[ns]\n",
            " 19  amount_disbursed           899164 non-null  float64       \n",
            " 20  gross_amount_outstanding   899164 non-null  float64       \n",
            " 21  loan_status                897167 non-null  object        \n",
            " 22  charged_off_amount         899164 non-null  float64       \n",
            " 23  gross_amount_approved      899164 non-null  float64       \n",
            " 24  guaranteed_sba             899164 non-null  float64       \n",
            " 25  new_business               897994 non-null  float64       \n",
            " 26  two_digit_naic             899164 non-null  object        \n",
            " 27  borrower_national_zone     899164 non-null  object        \n",
            " 28  borrower_national_section  899164 non-null  object        \n",
            " 29  geometry                   890499 non-null  geometry      \n",
            "dtypes: datetime64[ns](3), float64(9), geometry(1), int16(2), int64(5), object(10)\n",
            "memory usage: 202.4+ MB\n"
          ]
        }
      ],
      "source": [
        "df3.info()"
      ]
    },
    {
      "cell_type": "markdown",
      "source": [
        "memory management"
      ],
      "metadata": {
        "id": "fvW2_JcBqcof"
      }
    },
    {
      "cell_type": "code",
      "execution_count": 101,
      "metadata": {
        "id": "E_0uE2BzlHIN",
        "outputId": "0d93068e-5624-4c8e-b6ec-5eaf198db70f",
        "colab": {
          "base_uri": "https://localhost:8080/"
        }
      },
      "outputs": [
        {
          "output_type": "execute_result",
          "data": {
            "text/plain": [
              "0"
            ]
          },
          "metadata": {},
          "execution_count": 101
        }
      ],
      "source": [
        "df3\n",
        "del df2\n",
        "del df_zip\n",
        "gc.collect()"
      ]
    },
    {
      "cell_type": "markdown",
      "metadata": {
        "id": "8cCpIxrTlHIO"
      },
      "source": [
        "## V. Null Values"
      ]
    },
    {
      "cell_type": "code",
      "execution_count": 102,
      "metadata": {
        "id": "KeEHpDGDlHIO",
        "outputId": "f59f1619-09aa-458b-b467-4c34023c4a3d",
        "colab": {
          "base_uri": "https://localhost:8080/"
        }
      },
      "outputs": [
        {
          "output_type": "stream",
          "name": "stdout",
          "text": [
            "there is the 0.96% of null values\n"
          ]
        }
      ],
      "source": [
        "print('there is the', str(\"{0:.2f}\".format((df3.geometry.isnull().sum() / df3.shape[0])*100))+'%','of null values')"
      ]
    },
    {
      "cell_type": "code",
      "execution_count": 103,
      "metadata": {
        "id": "pIaDHXVklHIO",
        "outputId": "06ceadaa-f2e3-408b-82cf-4b06e1abbdd0",
        "colab": {
          "base_uri": "https://localhost:8080/"
        }
      },
      "outputs": [
        {
          "output_type": "execute_result",
          "data": {
            "text/plain": [
              "22"
            ]
          },
          "metadata": {},
          "execution_count": 103
        }
      ],
      "source": [
        "df3\n",
        "gc.collect()"
      ]
    },
    {
      "cell_type": "code",
      "execution_count": 104,
      "metadata": {
        "id": "p92F4lbdlHIP"
      },
      "outputs": [],
      "source": [
        "to_drop = list(set(df3.columns.values) - set(['urban','default_date','spected_term','loan_status']))\n",
        "#to_drop"
      ]
    },
    {
      "cell_type": "code",
      "execution_count": 105,
      "metadata": {
        "id": "zd0xlaIhlHIQ"
      },
      "outputs": [],
      "source": [
        "df3 = df3.dropna(subset= to_drop)"
      ]
    },
    {
      "cell_type": "code",
      "execution_count": 106,
      "metadata": {
        "id": "4IudTfzNlHIR"
      },
      "outputs": [],
      "source": [
        "df3.naic = df3.naic.replace(0,np.nan)"
      ]
    },
    {
      "cell_type": "code",
      "execution_count": 107,
      "metadata": {
        "id": "g6PaLXJ5lHIR"
      },
      "outputs": [],
      "source": [
        "df3 = df3.drop(columns=['borrower_name'])"
      ]
    },
    {
      "cell_type": "code",
      "execution_count": 108,
      "metadata": {
        "id": "yYtm6OuZlHIS",
        "outputId": "e69d6a23-981d-4e2d-954c-231866e7fc3b",
        "colab": {
          "base_uri": "https://localhost:8080/"
        }
      },
      "outputs": [
        {
          "output_type": "execute_result",
          "data": {
            "text/plain": [
              "0"
            ]
          },
          "metadata": {},
          "execution_count": 108
        }
      ],
      "source": [
        "df3\n",
        "gc.collect()"
      ]
    },
    {
      "cell_type": "code",
      "execution_count": 109,
      "metadata": {
        "id": "psYnrsQ9lHIS",
        "outputId": "8bda645d-d72f-4ded-a526-ea7ba92597bb",
        "colab": {
          "base_uri": "https://localhost:8080/"
        }
      },
      "outputs": [
        {
          "output_type": "stream",
          "name": "stdout",
          "text": [
            "size of dataset: 588.90 mb\n",
            "390.74 mb saved\n",
            "39.89%\n"
          ]
        }
      ],
      "source": [
        "#mb of the dataset\n",
        "mb3 = sys.getsizeof(df3)/1024/1024\n",
        "print('size of dataset:','{:.2f}'.format(mb3)+' mb')\n",
        "#\n",
        "print('{:.2f}'.format(mb-mb3)+' mb saved')\n",
        "print('{:.2f}'.format(100*(1.0-(mb3/float(mb))))+'%')"
      ]
    },
    {
      "cell_type": "markdown",
      "source": [
        "\n",
        "\n",
        "Shapefiles are a popular format for storing geographic data, but they have some\n",
        "limitations. One limitation is that they cannot store string values. \n",
        "Another limitation is that they can be large in size for repeated values. One proposed solution to these limitations is to drop the null values in \n",
        "the join, delete the geometry column in non geometrical dataset, and use the geometrical and economic data as Dim tables. This solution would allow \n",
        "the shapefile and for string values to be stored in a tabular way.\n",
        "\n",
        "However, there is no reason to put all the data together. It is possible to store the geometrical and economic data in separate tables. This would \n",
        "allow for better data management and would make the data more accessible.\n",
        "\n"
      ],
      "metadata": {
        "id": "l1NUkZ2yp4W9"
      }
    },
    {
      "cell_type": "markdown",
      "metadata": {
        "id": "b-xXEdeGlHIT"
      },
      "source": [
        "<center>\n",
        "<img src=\"https://github.com/devicemxl/binary_selection/blob/null_hyp/raw/database.png?raw=1\">\n",
        "</center>"
      ]
    },
    {
      "cell_type": "code",
      "execution_count": 110,
      "metadata": {
        "id": "NC6I6fl_lHIU"
      },
      "outputs": [],
      "source": [
        "df3.dropna(subset='geometry', inplace=True)"
      ]
    },
    {
      "cell_type": "code",
      "execution_count": 111,
      "metadata": {
        "id": "6UgvdjfwlHIY"
      },
      "outputs": [],
      "source": [
        "df3.drop(columns=['geometry'], inplace=True)"
      ]
    },
    {
      "cell_type": "code",
      "execution_count": 112,
      "metadata": {
        "id": "CklUELvmlHIZ",
        "outputId": "dc3d09b9-863d-422f-d78b-09c91a61b6f1",
        "colab": {
          "base_uri": "https://localhost:8080/",
          "height": 739
        }
      },
      "outputs": [
        {
          "output_type": "execute_result",
          "data": {
            "text/plain": [
              "<Axes: >"
            ]
          },
          "metadata": {},
          "execution_count": 112
        },
        {
          "output_type": "display_data",
          "data": {
            "text/plain": [
              "<Figure size 1600x800 with 2 Axes>"
            ],
            "image/png": "[encoded data removed]"
          },
          "metadata": {}
        }
      ],
      "source": [
        "figure = plt.figure(figsize=(16, 8))\n",
        "sns.heatmap(df3.T.isnull(), cmap=\"crest\", annot=False)"
      ]
    },
    {
      "cell_type": "code",
      "execution_count": 113,
      "metadata": {
        "id": "N7IZyr8YlHIb",
        "outputId": "f8a03413-de52-41d9-8849-d29f1f9ed207",
        "colab": {
          "base_uri": "https://localhost:8080/",
          "height": 529
        }
      },
      "outputs": [
        {
          "output_type": "display_data",
          "data": {
            "text/plain": [
              "<Figure size 1600x800 with 0 Axes>"
            ]
          },
          "metadata": {}
        },
        {
          "output_type": "display_data",
          "data": {
            "text/plain": [
              "<Figure size 709.875x500 with 1 Axes>"
            ],
            "image/png": "[encoded data removed]"
          },
          "metadata": {}
        }
      ],
      "source": [
        "plt.figure(figsize=(16, 8))\n",
        "sns.displot(\n",
        "    data=df3.isna().melt(value_name=\"missing\").sort_values(by=\"missing\"),\n",
        "    y=\"variable\",\n",
        "    hue=\"missing\",\n",
        "    multiple=\"fill\",\n",
        "    aspect=1.25\n",
        ")\n",
        "plt.xscale('log')\n",
        "plt.show()"
      ]
    },
    {
      "cell_type": "markdown",
      "metadata": {
        "id": "DE4raO2glHIc"
      },
      "source": [
        "1. The null values of the dummy variable \"urban\" risen. The data has been hidden.\n",
        "    - Need to be calculated.\n",
        "2. default date posee una gran cantidad de nulos, \n",
        "    - la mayoria paga."
      ]
    },
    {
      "cell_type": "code",
      "execution_count": 114,
      "metadata": {
        "id": "Xl9pMYH-lHIe"
      },
      "outputs": [],
      "source": [
        "df3.drop(columns=['borrower_zip','naic', 'franchise','bank_name','id'], inplace=True)"
      ]
    },
    {
      "cell_type": "code",
      "execution_count": 115,
      "metadata": {
        "id": "VePA4kvAlHIg"
      },
      "outputs": [],
      "source": [
        "gc.collect()\n",
        "df3.to_pickle('./dta_01_dataset_dta.dd', compression='gzip')"
      ]
    }
  ],
  "metadata": {
    "kernelspec": {
      "display_name": "Python 3.9.13 ('KNIME')",
      "language": "python",
      "name": "python3"
    },
    "language_info": {
      "codemirror_mode": {
        "name": "ipython",
        "version": 3
      },
      "file_extension": ".py",
      "mimetype": "text/x-python",
      "name": "python",
      "nbconvert_exporter": "python",
      "pygments_lexer": "ipython3",
      "version": "3.11.0"
    },
    "orig_nbformat": 4,
    "vscode": {
      "interpreter": {
        "hash": "7a63214a5b2a8ac74e5602caa629ca3a20cab05c5c4d66eed99bbbc57da64b25"
      }
    },
    "colab": {
      "provenance": [],
      "include_colab_link": true
    }
  },
  "nbformat": 4,
  "nbformat_minor": 0
}